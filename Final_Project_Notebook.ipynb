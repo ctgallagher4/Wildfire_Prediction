{
 "cells": [
  {
   "cell_type": "markdown",
   "id": "8a92531d",
   "metadata": {},
   "source": [
    "# Imports"
   ]
  },
  {
   "cell_type": "code",
   "execution_count": 1,
   "id": "c4faad49",
   "metadata": {},
   "outputs": [
    {
     "name": "stderr",
     "output_type": "stream",
     "text": [
      "/home/charlie/anaconda3/lib/python3.9/site-packages/xgboost/compat.py:36: FutureWarning: pandas.Int64Index is deprecated and will be removed from pandas in a future version. Use pandas.Index with the appropriate dtype instead.\n",
      "  from pandas import MultiIndex, Int64Index\n"
     ]
    }
   ],
   "source": [
    "import pandas as pd\n",
    "import datetime\n",
    "import re\n",
    "from sklearn.linear_model import LogisticRegression\n",
    "from sklearn.model_selection import train_test_split\n",
    "from sklearn.metrics import classification_report\n",
    "from xgboost import XGBClassifier\n",
    "import numpy as np\n",
    "from sklearn.neural_network import MLPClassifier\n",
    "from sklearn.metrics import mean_squared_error\n",
    "import matplotlib.pyplot as plt\n",
    "from sklearn.preprocessing import StandardScaler\n",
    "from sklearn.neighbors import KNeighborsClassifier\n",
    "from sklearn import tree\n",
    "from sklearn.ensemble import RandomForestClassifier\n",
    "from tqdm import tqdm\n",
    "from sklearn import metrics\n",
    "from pygam import LogisticGAM\n",
    "from sklearn import tree\n",
    "from statsmodels.stats.outliers_influence import variance_inflation_factor\n",
    "from sklearn.svm import SVC\n",
    "from sklearn import naive_bayes\n",
    "from sklearn.preprocessing import MinMaxScaler\n",
    "from xgboost import XGBRFClassifier\n",
    "from sklearn.model_selection import GridSearchCV"
   ]
  },
  {
   "cell_type": "markdown",
   "id": "f730d061",
   "metadata": {},
   "source": [
    "# Loading the Data"
   ]
  },
  {
   "cell_type": "code",
   "execution_count": 2,
   "id": "ba283a48",
   "metadata": {},
   "outputs": [],
   "source": [
    "historicalWeather = pd.read_csv('HistoricalWeather.csv')\n",
    "historicalWeatherForecasts = pd.read_csv('HistoricalWeatherForecasts.csv')\n",
    "historicalWildfires = pd.read_csv('Historical_Wildfires.csv')\n",
    "landClass = pd.read_csv('LandClass.csv')\n",
    "vegetationIndex = pd.read_csv('VegetationIndex.csv')"
   ]
  },
  {
   "cell_type": "markdown",
   "id": "3d6ca1ff",
   "metadata": {},
   "source": [
    "# Creating the Data Set"
   ]
  },
  {
   "cell_type": "code",
   "execution_count": 3,
   "id": "de4d930b",
   "metadata": {},
   "outputs": [],
   "source": [
    "historicalWeather_pivot = historicalWeather.pivot(index=['Date']+['Region'], columns=['Parameter'])\n",
    "historicalWeather_pivot = historicalWeather_pivot.dropna()\n",
    "historicalWeather_pivot.head()\n",
    "historicalWeather_pivot = historicalWeather_pivot.drop(columns=[('count()[unit: km^2]','Precipitation'),\n",
    "                              ('count()[unit: km^2]', 'RelativeHumidity'),\n",
    "                               ('count()[unit: km^2]', 'SoilWaterContent'),\n",
    "                               ('count()[unit: km^2]',   'SolarRadiation'),\n",
    "                               ('count()[unit: km^2]',      'Temperature')])"
   ]
  },
  {
   "cell_type": "code",
   "execution_count": 4,
   "id": "99fdcc29",
   "metadata": {
    "scrolled": true
   },
   "outputs": [
    {
     "name": "stderr",
     "output_type": "stream",
     "text": [
      "40404it [00:24, 1654.77it/s]\n"
     ]
    }
   ],
   "source": [
    "reform_dates = []\n",
    "for i in historicalWildfires.iterrows():\n",
    "    \n",
    "    region = i[1][0]\n",
    "    date = i[1][1]\n",
    "    month = re.search('^(\\d+)/', date)\n",
    "    month = month.group(1)\n",
    "    day = re.search('/(\\d+)/', date)\n",
    "    day = day.group(1)\n",
    "    year = re.search('/(\\d+)$', date)\n",
    "    year = year.group(1)  \n",
    "    \n",
    "    date = datetime.datetime(int(year), int(month), int(day))\n",
    "        \n",
    "    reform_dates.append([date.strftime('%Y-%m-%d'), region])\n",
    "\n",
    "historicalWeather_pivot['fire01'] = [1 if [i[0][0], i[0][1]] in reform_dates else 0 for i in tqdm(historicalWeather_pivot.iterrows())]\n"
   ]
  },
  {
   "cell_type": "code",
   "execution_count": 5,
   "id": "a8c8cba9",
   "metadata": {},
   "outputs": [
    {
     "data": {
      "text/html": [
       "<div>\n",
       "<style scoped>\n",
       "    .dataframe tbody tr th:only-of-type {\n",
       "        vertical-align: middle;\n",
       "    }\n",
       "\n",
       "    .dataframe tbody tr th {\n",
       "        vertical-align: top;\n",
       "    }\n",
       "\n",
       "    .dataframe thead th {\n",
       "        text-align: right;\n",
       "    }\n",
       "</style>\n",
       "<table border=\"1\" class=\"dataframe\">\n",
       "  <thead>\n",
       "    <tr style=\"text-align: right;\">\n",
       "      <th></th>\n",
       "      <th></th>\n",
       "      <th>0</th>\n",
       "      <th>1</th>\n",
       "      <th>2</th>\n",
       "      <th>3</th>\n",
       "      <th>4</th>\n",
       "      <th>5</th>\n",
       "      <th>6</th>\n",
       "      <th>(NameToNum, )</th>\n",
       "      <th>(count()[unit: km^2], WindSpeed)</th>\n",
       "      <th>(min(), Precipitation)</th>\n",
       "      <th>...</th>\n",
       "      <th>(mean(), SolarRadiation)</th>\n",
       "      <th>(mean(), Temperature)</th>\n",
       "      <th>(mean(), WindSpeed)</th>\n",
       "      <th>(variance(), Precipitation)</th>\n",
       "      <th>(variance(), RelativeHumidity)</th>\n",
       "      <th>(variance(), SoilWaterContent)</th>\n",
       "      <th>(variance(), SolarRadiation)</th>\n",
       "      <th>(variance(), Temperature)</th>\n",
       "      <th>(variance(), WindSpeed)</th>\n",
       "      <th>(fire01, )</th>\n",
       "    </tr>\n",
       "    <tr>\n",
       "      <th>Date</th>\n",
       "      <th>Region</th>\n",
       "      <th></th>\n",
       "      <th></th>\n",
       "      <th></th>\n",
       "      <th></th>\n",
       "      <th></th>\n",
       "      <th></th>\n",
       "      <th></th>\n",
       "      <th></th>\n",
       "      <th></th>\n",
       "      <th></th>\n",
       "      <th></th>\n",
       "      <th></th>\n",
       "      <th></th>\n",
       "      <th></th>\n",
       "      <th></th>\n",
       "      <th></th>\n",
       "      <th></th>\n",
       "      <th></th>\n",
       "      <th></th>\n",
       "      <th></th>\n",
       "      <th></th>\n",
       "    </tr>\n",
       "  </thead>\n",
       "  <tbody>\n",
       "    <tr>\n",
       "      <th rowspan=\"5\" valign=\"top\">2005-01-01</th>\n",
       "      <th>NSW</th>\n",
       "      <td>1</td>\n",
       "      <td>0</td>\n",
       "      <td>0</td>\n",
       "      <td>0</td>\n",
       "      <td>0</td>\n",
       "      <td>0</td>\n",
       "      <td>0</td>\n",
       "      <td>0</td>\n",
       "      <td>8.002343e+05</td>\n",
       "      <td>0.000000</td>\n",
       "      <td>...</td>\n",
       "      <td>26.749389</td>\n",
       "      <td>27.341182</td>\n",
       "      <td>3.323550</td>\n",
       "      <td>0.028362</td>\n",
       "      <td>253.559937</td>\n",
       "      <td>0.007758</td>\n",
       "      <td>6.078587</td>\n",
       "      <td>18.562212</td>\n",
       "      <td>0.850048</td>\n",
       "      <td>0</td>\n",
       "    </tr>\n",
       "    <tr>\n",
       "      <th>NT</th>\n",
       "      <td>0</td>\n",
       "      <td>1</td>\n",
       "      <td>0</td>\n",
       "      <td>0</td>\n",
       "      <td>0</td>\n",
       "      <td>0</td>\n",
       "      <td>0</td>\n",
       "      <td>1</td>\n",
       "      <td>1.357561e+06</td>\n",
       "      <td>0.000000</td>\n",
       "      <td>...</td>\n",
       "      <td>19.781791</td>\n",
       "      <td>29.881492</td>\n",
       "      <td>5.296892</td>\n",
       "      <td>546.059262</td>\n",
       "      <td>584.201131</td>\n",
       "      <td>0.026743</td>\n",
       "      <td>58.942658</td>\n",
       "      <td>12.920252</td>\n",
       "      <td>1.930014</td>\n",
       "      <td>1</td>\n",
       "    </tr>\n",
       "    <tr>\n",
       "      <th>QL</th>\n",
       "      <td>0</td>\n",
       "      <td>0</td>\n",
       "      <td>1</td>\n",
       "      <td>0</td>\n",
       "      <td>0</td>\n",
       "      <td>0</td>\n",
       "      <td>0</td>\n",
       "      <td>2</td>\n",
       "      <td>1.730605e+06</td>\n",
       "      <td>0.000000</td>\n",
       "      <td>...</td>\n",
       "      <td>27.056979</td>\n",
       "      <td>28.842866</td>\n",
       "      <td>3.483753</td>\n",
       "      <td>35.641257</td>\n",
       "      <td>403.134377</td>\n",
       "      <td>0.012679</td>\n",
       "      <td>29.500832</td>\n",
       "      <td>13.792599</td>\n",
       "      <td>0.883048</td>\n",
       "      <td>1</td>\n",
       "    </tr>\n",
       "    <tr>\n",
       "      <th>SA</th>\n",
       "      <td>0</td>\n",
       "      <td>0</td>\n",
       "      <td>0</td>\n",
       "      <td>1</td>\n",
       "      <td>0</td>\n",
       "      <td>0</td>\n",
       "      <td>0</td>\n",
       "      <td>3</td>\n",
       "      <td>9.913151e+05</td>\n",
       "      <td>0.000000</td>\n",
       "      <td>...</td>\n",
       "      <td>27.142643</td>\n",
       "      <td>30.793675</td>\n",
       "      <td>4.657538</td>\n",
       "      <td>0.042837</td>\n",
       "      <td>246.044713</td>\n",
       "      <td>0.001917</td>\n",
       "      <td>7.914246</td>\n",
       "      <td>34.799336</td>\n",
       "      <td>1.655908</td>\n",
       "      <td>0</td>\n",
       "    </tr>\n",
       "    <tr>\n",
       "      <th>TA</th>\n",
       "      <td>0</td>\n",
       "      <td>0</td>\n",
       "      <td>0</td>\n",
       "      <td>0</td>\n",
       "      <td>1</td>\n",
       "      <td>0</td>\n",
       "      <td>0</td>\n",
       "      <td>4</td>\n",
       "      <td>6.778526e+04</td>\n",
       "      <td>0.003973</td>\n",
       "      <td>...</td>\n",
       "      <td>26.755711</td>\n",
       "      <td>11.788805</td>\n",
       "      <td>5.408138</td>\n",
       "      <td>12.068597</td>\n",
       "      <td>111.754034</td>\n",
       "      <td>0.007121</td>\n",
       "      <td>12.826400</td>\n",
       "      <td>4.912013</td>\n",
       "      <td>2.963118</td>\n",
       "      <td>0</td>\n",
       "    </tr>\n",
       "    <tr>\n",
       "      <th>...</th>\n",
       "      <th>...</th>\n",
       "      <td>...</td>\n",
       "      <td>...</td>\n",
       "      <td>...</td>\n",
       "      <td>...</td>\n",
       "      <td>...</td>\n",
       "      <td>...</td>\n",
       "      <td>...</td>\n",
       "      <td>...</td>\n",
       "      <td>...</td>\n",
       "      <td>...</td>\n",
       "      <td>...</td>\n",
       "      <td>...</td>\n",
       "      <td>...</td>\n",
       "      <td>...</td>\n",
       "      <td>...</td>\n",
       "      <td>...</td>\n",
       "      <td>...</td>\n",
       "      <td>...</td>\n",
       "      <td>...</td>\n",
       "      <td>...</td>\n",
       "      <td>...</td>\n",
       "    </tr>\n",
       "    <tr>\n",
       "      <th rowspan=\"5\" valign=\"top\">2020-10-31</th>\n",
       "      <th>QL</th>\n",
       "      <td>0</td>\n",
       "      <td>0</td>\n",
       "      <td>1</td>\n",
       "      <td>0</td>\n",
       "      <td>0</td>\n",
       "      <td>0</td>\n",
       "      <td>0</td>\n",
       "      <td>2</td>\n",
       "      <td>1.730605e+06</td>\n",
       "      <td>0.000000</td>\n",
       "      <td>...</td>\n",
       "      <td>28.745128</td>\n",
       "      <td>24.777835</td>\n",
       "      <td>3.137745</td>\n",
       "      <td>4.229566</td>\n",
       "      <td>316.368911</td>\n",
       "      <td>0.006935</td>\n",
       "      <td>4.796284</td>\n",
       "      <td>8.811943</td>\n",
       "      <td>0.549077</td>\n",
       "      <td>1</td>\n",
       "    </tr>\n",
       "    <tr>\n",
       "      <th>SA</th>\n",
       "      <td>0</td>\n",
       "      <td>0</td>\n",
       "      <td>0</td>\n",
       "      <td>1</td>\n",
       "      <td>0</td>\n",
       "      <td>0</td>\n",
       "      <td>0</td>\n",
       "      <td>3</td>\n",
       "      <td>9.913151e+05</td>\n",
       "      <td>0.000000</td>\n",
       "      <td>...</td>\n",
       "      <td>26.530568</td>\n",
       "      <td>18.947783</td>\n",
       "      <td>3.548225</td>\n",
       "      <td>0.000492</td>\n",
       "      <td>316.308826</td>\n",
       "      <td>0.005425</td>\n",
       "      <td>17.093209</td>\n",
       "      <td>9.466862</td>\n",
       "      <td>0.640926</td>\n",
       "      <td>0</td>\n",
       "    </tr>\n",
       "    <tr>\n",
       "      <th>TA</th>\n",
       "      <td>0</td>\n",
       "      <td>0</td>\n",
       "      <td>0</td>\n",
       "      <td>0</td>\n",
       "      <td>1</td>\n",
       "      <td>0</td>\n",
       "      <td>0</td>\n",
       "      <td>4</td>\n",
       "      <td>6.778526e+04</td>\n",
       "      <td>0.000703</td>\n",
       "      <td>...</td>\n",
       "      <td>21.782732</td>\n",
       "      <td>11.648813</td>\n",
       "      <td>2.501697</td>\n",
       "      <td>0.243603</td>\n",
       "      <td>10.936866</td>\n",
       "      <td>0.009317</td>\n",
       "      <td>8.718983</td>\n",
       "      <td>2.388990</td>\n",
       "      <td>0.859296</td>\n",
       "      <td>0</td>\n",
       "    </tr>\n",
       "    <tr>\n",
       "      <th>VI</th>\n",
       "      <td>0</td>\n",
       "      <td>0</td>\n",
       "      <td>0</td>\n",
       "      <td>0</td>\n",
       "      <td>0</td>\n",
       "      <td>1</td>\n",
       "      <td>0</td>\n",
       "      <td>5</td>\n",
       "      <td>2.294532e+05</td>\n",
       "      <td>0.000000</td>\n",
       "      <td>...</td>\n",
       "      <td>19.553751</td>\n",
       "      <td>13.167147</td>\n",
       "      <td>3.838360</td>\n",
       "      <td>3.148454</td>\n",
       "      <td>44.766480</td>\n",
       "      <td>0.005050</td>\n",
       "      <td>9.917196</td>\n",
       "      <td>4.088503</td>\n",
       "      <td>1.019079</td>\n",
       "      <td>0</td>\n",
       "    </tr>\n",
       "    <tr>\n",
       "      <th>WA</th>\n",
       "      <td>0</td>\n",
       "      <td>0</td>\n",
       "      <td>0</td>\n",
       "      <td>0</td>\n",
       "      <td>0</td>\n",
       "      <td>0</td>\n",
       "      <td>1</td>\n",
       "      <td>6</td>\n",
       "      <td>2.528546e+06</td>\n",
       "      <td>0.000000</td>\n",
       "      <td>...</td>\n",
       "      <td>26.746413</td>\n",
       "      <td>28.090392</td>\n",
       "      <td>4.373947</td>\n",
       "      <td>2.097161</td>\n",
       "      <td>309.018764</td>\n",
       "      <td>0.001419</td>\n",
       "      <td>5.986063</td>\n",
       "      <td>15.293953</td>\n",
       "      <td>1.873607</td>\n",
       "      <td>1</td>\n",
       "    </tr>\n",
       "  </tbody>\n",
       "</table>\n",
       "<p>40404 rows × 34 columns</p>\n",
       "</div>"
      ],
      "text/plain": [
       "                   0  1  2  3  4  5  6  (NameToNum, )  \\\n",
       "Date       Region                                       \n",
       "2005-01-01 NSW     1  0  0  0  0  0  0              0   \n",
       "           NT      0  1  0  0  0  0  0              1   \n",
       "           QL      0  0  1  0  0  0  0              2   \n",
       "           SA      0  0  0  1  0  0  0              3   \n",
       "           TA      0  0  0  0  1  0  0              4   \n",
       "...               .. .. .. .. .. .. ..            ...   \n",
       "2020-10-31 QL      0  0  1  0  0  0  0              2   \n",
       "           SA      0  0  0  1  0  0  0              3   \n",
       "           TA      0  0  0  0  1  0  0              4   \n",
       "           VI      0  0  0  0  0  1  0              5   \n",
       "           WA      0  0  0  0  0  0  1              6   \n",
       "\n",
       "                   (count()[unit: km^2], WindSpeed)  (min(), Precipitation)  \\\n",
       "Date       Region                                                             \n",
       "2005-01-01 NSW                         8.002343e+05                0.000000   \n",
       "           NT                          1.357561e+06                0.000000   \n",
       "           QL                          1.730605e+06                0.000000   \n",
       "           SA                          9.913151e+05                0.000000   \n",
       "           TA                          6.778526e+04                0.003973   \n",
       "...                                             ...                     ...   \n",
       "2020-10-31 QL                          1.730605e+06                0.000000   \n",
       "           SA                          9.913151e+05                0.000000   \n",
       "           TA                          6.778526e+04                0.000703   \n",
       "           VI                          2.294532e+05                0.000000   \n",
       "           WA                          2.528546e+06                0.000000   \n",
       "\n",
       "                   ...  (mean(), SolarRadiation)  (mean(), Temperature)  \\\n",
       "Date       Region  ...                                                    \n",
       "2005-01-01 NSW     ...                 26.749389              27.341182   \n",
       "           NT      ...                 19.781791              29.881492   \n",
       "           QL      ...                 27.056979              28.842866   \n",
       "           SA      ...                 27.142643              30.793675   \n",
       "           TA      ...                 26.755711              11.788805   \n",
       "...                ...                       ...                    ...   \n",
       "2020-10-31 QL      ...                 28.745128              24.777835   \n",
       "           SA      ...                 26.530568              18.947783   \n",
       "           TA      ...                 21.782732              11.648813   \n",
       "           VI      ...                 19.553751              13.167147   \n",
       "           WA      ...                 26.746413              28.090392   \n",
       "\n",
       "                   (mean(), WindSpeed)  (variance(), Precipitation)  \\\n",
       "Date       Region                                                     \n",
       "2005-01-01 NSW                3.323550                     0.028362   \n",
       "           NT                 5.296892                   546.059262   \n",
       "           QL                 3.483753                    35.641257   \n",
       "           SA                 4.657538                     0.042837   \n",
       "           TA                 5.408138                    12.068597   \n",
       "...                                ...                          ...   \n",
       "2020-10-31 QL                 3.137745                     4.229566   \n",
       "           SA                 3.548225                     0.000492   \n",
       "           TA                 2.501697                     0.243603   \n",
       "           VI                 3.838360                     3.148454   \n",
       "           WA                 4.373947                     2.097161   \n",
       "\n",
       "                   (variance(), RelativeHumidity)  \\\n",
       "Date       Region                                   \n",
       "2005-01-01 NSW                         253.559937   \n",
       "           NT                          584.201131   \n",
       "           QL                          403.134377   \n",
       "           SA                          246.044713   \n",
       "           TA                          111.754034   \n",
       "...                                           ...   \n",
       "2020-10-31 QL                          316.368911   \n",
       "           SA                          316.308826   \n",
       "           TA                           10.936866   \n",
       "           VI                           44.766480   \n",
       "           WA                          309.018764   \n",
       "\n",
       "                   (variance(), SoilWaterContent)  \\\n",
       "Date       Region                                   \n",
       "2005-01-01 NSW                           0.007758   \n",
       "           NT                            0.026743   \n",
       "           QL                            0.012679   \n",
       "           SA                            0.001917   \n",
       "           TA                            0.007121   \n",
       "...                                           ...   \n",
       "2020-10-31 QL                            0.006935   \n",
       "           SA                            0.005425   \n",
       "           TA                            0.009317   \n",
       "           VI                            0.005050   \n",
       "           WA                            0.001419   \n",
       "\n",
       "                   (variance(), SolarRadiation)  (variance(), Temperature)  \\\n",
       "Date       Region                                                            \n",
       "2005-01-01 NSW                         6.078587                  18.562212   \n",
       "           NT                         58.942658                  12.920252   \n",
       "           QL                         29.500832                  13.792599   \n",
       "           SA                          7.914246                  34.799336   \n",
       "           TA                         12.826400                   4.912013   \n",
       "...                                         ...                        ...   \n",
       "2020-10-31 QL                          4.796284                   8.811943   \n",
       "           SA                         17.093209                   9.466862   \n",
       "           TA                          8.718983                   2.388990   \n",
       "           VI                          9.917196                   4.088503   \n",
       "           WA                          5.986063                  15.293953   \n",
       "\n",
       "                   (variance(), WindSpeed)  (fire01, )  \n",
       "Date       Region                                       \n",
       "2005-01-01 NSW                    0.850048           0  \n",
       "           NT                     1.930014           1  \n",
       "           QL                     0.883048           1  \n",
       "           SA                     1.655908           0  \n",
       "           TA                     2.963118           0  \n",
       "...                                    ...         ...  \n",
       "2020-10-31 QL                     0.549077           1  \n",
       "           SA                     0.640926           0  \n",
       "           TA                     0.859296           0  \n",
       "           VI                     1.019079           0  \n",
       "           WA                     1.873607           1  \n",
       "\n",
       "[40404 rows x 34 columns]"
      ]
     },
     "execution_count": 5,
     "metadata": {},
     "output_type": "execute_result"
    }
   ],
   "source": [
    "name_of_index = [] \n",
    "for i in historicalWeather_pivot.index:\n",
    "    if i[1] == 'NSW':\n",
    "        name_of_index.append(0)\n",
    "    if i[1] == 'NT':\n",
    "        name_of_index.append(1)\n",
    "    if i[1] == 'QL':\n",
    "        name_of_index.append(2)\n",
    "    if i[1] == 'SA':\n",
    "        name_of_index.append(3)\n",
    "    if i[1] == 'TA':\n",
    "        name_of_index.append(4)\n",
    "    if i[1] == 'VI':\n",
    "        name_of_index.append(5)\n",
    "    if i[1] == 'WA':\n",
    "        name_of_index.append(6)\n",
    "        \n",
    "historicalWeather_pivot.insert(0, 'NameToNum', name_of_index)\n",
    "name_dummies = pd.get_dummies(historicalWeather_pivot.NameToNum)\n",
    "historicalWeather_pivot = pd.concat([name_dummies, historicalWeather_pivot], axis=1)\n",
    "historicalWeather_pivot"
   ]
  },
  {
   "cell_type": "code",
   "execution_count": 6,
   "id": "ee487edd",
   "metadata": {},
   "outputs": [
    {
     "data": {
      "text/html": [
       "<div>\n",
       "<style scoped>\n",
       "    .dataframe tbody tr th:only-of-type {\n",
       "        vertical-align: middle;\n",
       "    }\n",
       "\n",
       "    .dataframe tbody tr th {\n",
       "        vertical-align: top;\n",
       "    }\n",
       "\n",
       "    .dataframe thead th {\n",
       "        text-align: right;\n",
       "    }\n",
       "</style>\n",
       "<table border=\"1\" class=\"dataframe\">\n",
       "  <thead>\n",
       "    <tr style=\"text-align: right;\">\n",
       "      <th></th>\n",
       "      <th></th>\n",
       "      <th>NSW</th>\n",
       "      <th>NT</th>\n",
       "      <th>QL</th>\n",
       "      <th>SA</th>\n",
       "      <th>TA</th>\n",
       "      <th>VI</th>\n",
       "      <th>WA</th>\n",
       "      <th>(count, Area)</th>\n",
       "      <th>(min, Precipitation)</th>\n",
       "      <th>(min, RelativeHumidity)</th>\n",
       "      <th>...</th>\n",
       "      <th>(mean, SolarRadiation)</th>\n",
       "      <th>(mean, Temperature)</th>\n",
       "      <th>(mean, WindSpeed)</th>\n",
       "      <th>(variance, Precipitation)</th>\n",
       "      <th>(variance, RelativeHumidity)</th>\n",
       "      <th>(variance, SoilWaterContent)</th>\n",
       "      <th>(variance, SolarRadiation)</th>\n",
       "      <th>(variance, Temperature)</th>\n",
       "      <th>(variance, WindSpeed)</th>\n",
       "      <th>fire01</th>\n",
       "    </tr>\n",
       "    <tr>\n",
       "      <th>Date</th>\n",
       "      <th>Region</th>\n",
       "      <th></th>\n",
       "      <th></th>\n",
       "      <th></th>\n",
       "      <th></th>\n",
       "      <th></th>\n",
       "      <th></th>\n",
       "      <th></th>\n",
       "      <th></th>\n",
       "      <th></th>\n",
       "      <th></th>\n",
       "      <th></th>\n",
       "      <th></th>\n",
       "      <th></th>\n",
       "      <th></th>\n",
       "      <th></th>\n",
       "      <th></th>\n",
       "      <th></th>\n",
       "      <th></th>\n",
       "      <th></th>\n",
       "      <th></th>\n",
       "      <th></th>\n",
       "    </tr>\n",
       "  </thead>\n",
       "  <tbody>\n",
       "    <tr>\n",
       "      <th rowspan=\"5\" valign=\"top\">2005-01-01</th>\n",
       "      <th>NSW</th>\n",
       "      <td>1</td>\n",
       "      <td>0</td>\n",
       "      <td>0</td>\n",
       "      <td>0</td>\n",
       "      <td>0</td>\n",
       "      <td>0</td>\n",
       "      <td>0</td>\n",
       "      <td>8.002343e+05</td>\n",
       "      <td>0.000000</td>\n",
       "      <td>13.877194</td>\n",
       "      <td>...</td>\n",
       "      <td>26.749389</td>\n",
       "      <td>27.341182</td>\n",
       "      <td>3.323550</td>\n",
       "      <td>0.028362</td>\n",
       "      <td>253.559937</td>\n",
       "      <td>0.007758</td>\n",
       "      <td>6.078587</td>\n",
       "      <td>18.562212</td>\n",
       "      <td>0.850048</td>\n",
       "      <td>0</td>\n",
       "    </tr>\n",
       "    <tr>\n",
       "      <th>NT</th>\n",
       "      <td>0</td>\n",
       "      <td>1</td>\n",
       "      <td>0</td>\n",
       "      <td>0</td>\n",
       "      <td>0</td>\n",
       "      <td>0</td>\n",
       "      <td>0</td>\n",
       "      <td>1.357561e+06</td>\n",
       "      <td>0.000000</td>\n",
       "      <td>14.558820</td>\n",
       "      <td>...</td>\n",
       "      <td>19.781791</td>\n",
       "      <td>29.881492</td>\n",
       "      <td>5.296892</td>\n",
       "      <td>546.059262</td>\n",
       "      <td>584.201131</td>\n",
       "      <td>0.026743</td>\n",
       "      <td>58.942658</td>\n",
       "      <td>12.920252</td>\n",
       "      <td>1.930014</td>\n",
       "      <td>1</td>\n",
       "    </tr>\n",
       "    <tr>\n",
       "      <th>QL</th>\n",
       "      <td>0</td>\n",
       "      <td>0</td>\n",
       "      <td>1</td>\n",
       "      <td>0</td>\n",
       "      <td>0</td>\n",
       "      <td>0</td>\n",
       "      <td>0</td>\n",
       "      <td>1.730605e+06</td>\n",
       "      <td>0.000000</td>\n",
       "      <td>14.443199</td>\n",
       "      <td>...</td>\n",
       "      <td>27.056979</td>\n",
       "      <td>28.842866</td>\n",
       "      <td>3.483753</td>\n",
       "      <td>35.641257</td>\n",
       "      <td>403.134377</td>\n",
       "      <td>0.012679</td>\n",
       "      <td>29.500832</td>\n",
       "      <td>13.792599</td>\n",
       "      <td>0.883048</td>\n",
       "      <td>1</td>\n",
       "    </tr>\n",
       "    <tr>\n",
       "      <th>SA</th>\n",
       "      <td>0</td>\n",
       "      <td>0</td>\n",
       "      <td>0</td>\n",
       "      <td>1</td>\n",
       "      <td>0</td>\n",
       "      <td>0</td>\n",
       "      <td>0</td>\n",
       "      <td>9.913151e+05</td>\n",
       "      <td>0.000000</td>\n",
       "      <td>10.618136</td>\n",
       "      <td>...</td>\n",
       "      <td>27.142643</td>\n",
       "      <td>30.793675</td>\n",
       "      <td>4.657538</td>\n",
       "      <td>0.042837</td>\n",
       "      <td>246.044713</td>\n",
       "      <td>0.001917</td>\n",
       "      <td>7.914246</td>\n",
       "      <td>34.799336</td>\n",
       "      <td>1.655908</td>\n",
       "      <td>0</td>\n",
       "    </tr>\n",
       "    <tr>\n",
       "      <th>TA</th>\n",
       "      <td>0</td>\n",
       "      <td>0</td>\n",
       "      <td>0</td>\n",
       "      <td>0</td>\n",
       "      <td>1</td>\n",
       "      <td>0</td>\n",
       "      <td>0</td>\n",
       "      <td>6.778526e+04</td>\n",
       "      <td>0.003973</td>\n",
       "      <td>43.906574</td>\n",
       "      <td>...</td>\n",
       "      <td>26.755711</td>\n",
       "      <td>11.788805</td>\n",
       "      <td>5.408138</td>\n",
       "      <td>12.068597</td>\n",
       "      <td>111.754034</td>\n",
       "      <td>0.007121</td>\n",
       "      <td>12.826400</td>\n",
       "      <td>4.912013</td>\n",
       "      <td>2.963118</td>\n",
       "      <td>0</td>\n",
       "    </tr>\n",
       "    <tr>\n",
       "      <th>...</th>\n",
       "      <th>...</th>\n",
       "      <td>...</td>\n",
       "      <td>...</td>\n",
       "      <td>...</td>\n",
       "      <td>...</td>\n",
       "      <td>...</td>\n",
       "      <td>...</td>\n",
       "      <td>...</td>\n",
       "      <td>...</td>\n",
       "      <td>...</td>\n",
       "      <td>...</td>\n",
       "      <td>...</td>\n",
       "      <td>...</td>\n",
       "      <td>...</td>\n",
       "      <td>...</td>\n",
       "      <td>...</td>\n",
       "      <td>...</td>\n",
       "      <td>...</td>\n",
       "      <td>...</td>\n",
       "      <td>...</td>\n",
       "      <td>...</td>\n",
       "      <td>...</td>\n",
       "    </tr>\n",
       "    <tr>\n",
       "      <th rowspan=\"5\" valign=\"top\">2020-10-31</th>\n",
       "      <th>QL</th>\n",
       "      <td>0</td>\n",
       "      <td>0</td>\n",
       "      <td>1</td>\n",
       "      <td>0</td>\n",
       "      <td>0</td>\n",
       "      <td>0</td>\n",
       "      <td>0</td>\n",
       "      <td>1.730605e+06</td>\n",
       "      <td>0.000000</td>\n",
       "      <td>12.749949</td>\n",
       "      <td>...</td>\n",
       "      <td>28.745128</td>\n",
       "      <td>24.777835</td>\n",
       "      <td>3.137745</td>\n",
       "      <td>4.229566</td>\n",
       "      <td>316.368911</td>\n",
       "      <td>0.006935</td>\n",
       "      <td>4.796284</td>\n",
       "      <td>8.811943</td>\n",
       "      <td>0.549077</td>\n",
       "      <td>1</td>\n",
       "    </tr>\n",
       "    <tr>\n",
       "      <th>SA</th>\n",
       "      <td>0</td>\n",
       "      <td>0</td>\n",
       "      <td>0</td>\n",
       "      <td>1</td>\n",
       "      <td>0</td>\n",
       "      <td>0</td>\n",
       "      <td>0</td>\n",
       "      <td>9.913151e+05</td>\n",
       "      <td>0.000000</td>\n",
       "      <td>12.512371</td>\n",
       "      <td>...</td>\n",
       "      <td>26.530568</td>\n",
       "      <td>18.947783</td>\n",
       "      <td>3.548225</td>\n",
       "      <td>0.000492</td>\n",
       "      <td>316.308826</td>\n",
       "      <td>0.005425</td>\n",
       "      <td>17.093209</td>\n",
       "      <td>9.466862</td>\n",
       "      <td>0.640926</td>\n",
       "      <td>0</td>\n",
       "    </tr>\n",
       "    <tr>\n",
       "      <th>TA</th>\n",
       "      <td>0</td>\n",
       "      <td>0</td>\n",
       "      <td>0</td>\n",
       "      <td>0</td>\n",
       "      <td>1</td>\n",
       "      <td>0</td>\n",
       "      <td>0</td>\n",
       "      <td>6.778526e+04</td>\n",
       "      <td>0.000703</td>\n",
       "      <td>69.801094</td>\n",
       "      <td>...</td>\n",
       "      <td>21.782732</td>\n",
       "      <td>11.648813</td>\n",
       "      <td>2.501697</td>\n",
       "      <td>0.243603</td>\n",
       "      <td>10.936866</td>\n",
       "      <td>0.009317</td>\n",
       "      <td>8.718983</td>\n",
       "      <td>2.388990</td>\n",
       "      <td>0.859296</td>\n",
       "      <td>0</td>\n",
       "    </tr>\n",
       "    <tr>\n",
       "      <th>VI</th>\n",
       "      <td>0</td>\n",
       "      <td>0</td>\n",
       "      <td>0</td>\n",
       "      <td>0</td>\n",
       "      <td>0</td>\n",
       "      <td>1</td>\n",
       "      <td>0</td>\n",
       "      <td>2.294532e+05</td>\n",
       "      <td>0.000000</td>\n",
       "      <td>66.459290</td>\n",
       "      <td>...</td>\n",
       "      <td>19.553751</td>\n",
       "      <td>13.167147</td>\n",
       "      <td>3.838360</td>\n",
       "      <td>3.148454</td>\n",
       "      <td>44.766480</td>\n",
       "      <td>0.005050</td>\n",
       "      <td>9.917196</td>\n",
       "      <td>4.088503</td>\n",
       "      <td>1.019079</td>\n",
       "      <td>0</td>\n",
       "    </tr>\n",
       "    <tr>\n",
       "      <th>WA</th>\n",
       "      <td>0</td>\n",
       "      <td>0</td>\n",
       "      <td>0</td>\n",
       "      <td>0</td>\n",
       "      <td>0</td>\n",
       "      <td>0</td>\n",
       "      <td>1</td>\n",
       "      <td>2.528546e+06</td>\n",
       "      <td>0.000000</td>\n",
       "      <td>9.272744</td>\n",
       "      <td>...</td>\n",
       "      <td>26.746413</td>\n",
       "      <td>28.090392</td>\n",
       "      <td>4.373947</td>\n",
       "      <td>2.097161</td>\n",
       "      <td>309.018764</td>\n",
       "      <td>0.001419</td>\n",
       "      <td>5.986063</td>\n",
       "      <td>15.293953</td>\n",
       "      <td>1.873607</td>\n",
       "      <td>1</td>\n",
       "    </tr>\n",
       "  </tbody>\n",
       "</table>\n",
       "<p>40404 rows × 33 columns</p>\n",
       "</div>"
      ],
      "text/plain": [
       "                   NSW  NT  QL  SA  TA  VI  WA  (count, Area)  \\\n",
       "Date       Region                                               \n",
       "2005-01-01 NSW       1   0   0   0   0   0   0   8.002343e+05   \n",
       "           NT        0   1   0   0   0   0   0   1.357561e+06   \n",
       "           QL        0   0   1   0   0   0   0   1.730605e+06   \n",
       "           SA        0   0   0   1   0   0   0   9.913151e+05   \n",
       "           TA        0   0   0   0   1   0   0   6.778526e+04   \n",
       "...                ...  ..  ..  ..  ..  ..  ..            ...   \n",
       "2020-10-31 QL        0   0   1   0   0   0   0   1.730605e+06   \n",
       "           SA        0   0   0   1   0   0   0   9.913151e+05   \n",
       "           TA        0   0   0   0   1   0   0   6.778526e+04   \n",
       "           VI        0   0   0   0   0   1   0   2.294532e+05   \n",
       "           WA        0   0   0   0   0   0   1   2.528546e+06   \n",
       "\n",
       "                   (min, Precipitation)  (min, RelativeHumidity)  ...  \\\n",
       "Date       Region                                                 ...   \n",
       "2005-01-01 NSW                 0.000000                13.877194  ...   \n",
       "           NT                  0.000000                14.558820  ...   \n",
       "           QL                  0.000000                14.443199  ...   \n",
       "           SA                  0.000000                10.618136  ...   \n",
       "           TA                  0.003973                43.906574  ...   \n",
       "...                                 ...                      ...  ...   \n",
       "2020-10-31 QL                  0.000000                12.749949  ...   \n",
       "           SA                  0.000000                12.512371  ...   \n",
       "           TA                  0.000703                69.801094  ...   \n",
       "           VI                  0.000000                66.459290  ...   \n",
       "           WA                  0.000000                 9.272744  ...   \n",
       "\n",
       "                   (mean, SolarRadiation)  (mean, Temperature)  \\\n",
       "Date       Region                                                \n",
       "2005-01-01 NSW                  26.749389            27.341182   \n",
       "           NT                   19.781791            29.881492   \n",
       "           QL                   27.056979            28.842866   \n",
       "           SA                   27.142643            30.793675   \n",
       "           TA                   26.755711            11.788805   \n",
       "...                                   ...                  ...   \n",
       "2020-10-31 QL                   28.745128            24.777835   \n",
       "           SA                   26.530568            18.947783   \n",
       "           TA                   21.782732            11.648813   \n",
       "           VI                   19.553751            13.167147   \n",
       "           WA                   26.746413            28.090392   \n",
       "\n",
       "                   (mean, WindSpeed)  (variance, Precipitation)  \\\n",
       "Date       Region                                                 \n",
       "2005-01-01 NSW              3.323550                   0.028362   \n",
       "           NT               5.296892                 546.059262   \n",
       "           QL               3.483753                  35.641257   \n",
       "           SA               4.657538                   0.042837   \n",
       "           TA               5.408138                  12.068597   \n",
       "...                              ...                        ...   \n",
       "2020-10-31 QL               3.137745                   4.229566   \n",
       "           SA               3.548225                   0.000492   \n",
       "           TA               2.501697                   0.243603   \n",
       "           VI               3.838360                   3.148454   \n",
       "           WA               4.373947                   2.097161   \n",
       "\n",
       "                   (variance, RelativeHumidity)  (variance, SoilWaterContent)  \\\n",
       "Date       Region                                                               \n",
       "2005-01-01 NSW                       253.559937                      0.007758   \n",
       "           NT                        584.201131                      0.026743   \n",
       "           QL                        403.134377                      0.012679   \n",
       "           SA                        246.044713                      0.001917   \n",
       "           TA                        111.754034                      0.007121   \n",
       "...                                         ...                           ...   \n",
       "2020-10-31 QL                        316.368911                      0.006935   \n",
       "           SA                        316.308826                      0.005425   \n",
       "           TA                         10.936866                      0.009317   \n",
       "           VI                         44.766480                      0.005050   \n",
       "           WA                        309.018764                      0.001419   \n",
       "\n",
       "                   (variance, SolarRadiation)  (variance, Temperature)  \\\n",
       "Date       Region                                                        \n",
       "2005-01-01 NSW                       6.078587                18.562212   \n",
       "           NT                       58.942658                12.920252   \n",
       "           QL                       29.500832                13.792599   \n",
       "           SA                        7.914246                34.799336   \n",
       "           TA                       12.826400                 4.912013   \n",
       "...                                       ...                      ...   \n",
       "2020-10-31 QL                        4.796284                 8.811943   \n",
       "           SA                       17.093209                 9.466862   \n",
       "           TA                        8.718983                 2.388990   \n",
       "           VI                        9.917196                 4.088503   \n",
       "           WA                        5.986063                15.293953   \n",
       "\n",
       "                   (variance, WindSpeed)  fire01  \n",
       "Date       Region                                 \n",
       "2005-01-01 NSW                  0.850048       0  \n",
       "           NT                   1.930014       1  \n",
       "           QL                   0.883048       1  \n",
       "           SA                   1.655908       0  \n",
       "           TA                   2.963118       0  \n",
       "...                                  ...     ...  \n",
       "2020-10-31 QL                   0.549077       1  \n",
       "           SA                   0.640926       0  \n",
       "           TA                   0.859296       0  \n",
       "           VI                   1.019079       0  \n",
       "           WA                   1.873607       1  \n",
       "\n",
       "[40404 rows x 33 columns]"
      ]
     },
     "execution_count": 6,
     "metadata": {},
     "output_type": "execute_result"
    }
   ],
   "source": [
    "#rename columns to remove problem characters\n",
    "historicalWeather_pivot.columns = ([('NSW'),\n",
    "                                    ('NT'),\n",
    "                                    ('QL'),\n",
    "                                    ('SA'),\n",
    "                                    ('TA'),\n",
    "                                    ('VI'),\n",
    "                                    ('WA'),\n",
    "                                    ('NameToNum'),\n",
    "                                    ('count',        'Area'),\n",
    "                                    ('min',    'Precipitation'),\n",
    "                                    ('min', 'RelativeHumidity'),\n",
    "                                    (              'min', 'SoilWaterContent'),\n",
    "                                    (              'min',   'SolarRadiation'),\n",
    "                                    (              'min',      'Temperature'),\n",
    "                                    (              'min',        'WindSpeed'),\n",
    "                                    (              'max',    'Precipitation'),\n",
    "                                    (              'max', 'RelativeHumidity'),\n",
    "                                    (              'max', 'SoilWaterContent'),\n",
    "                                    (              'max',   'SolarRadiation'),\n",
    "                                    (              'max',      'Temperature'),\n",
    "                                    (              'max',        'WindSpeed'),\n",
    "                                    (             'mean',    'Precipitation'),\n",
    "                                    (             'mean', 'RelativeHumidity'),\n",
    "                                    (             'mean', 'SoilWaterContent'),\n",
    "                                    (             'mean',   'SolarRadiation'),\n",
    "                                    (             'mean',      'Temperature'),\n",
    "                                    (             'mean',        'WindSpeed'),\n",
    "                                    (         'variance',    'Precipitation'),\n",
    "                                    (         'variance', 'RelativeHumidity'),\n",
    "                                    (         'variance', 'SoilWaterContent'),\n",
    "                                    (         'variance',   'SolarRadiation'),\n",
    "                                    (         'variance',      'Temperature'),\n",
    "                                    (         'variance',        'WindSpeed'),\n",
    "                                    ('fire01')])\n",
    "historicalWeather_pivot = historicalWeather_pivot.drop(columns='NameToNum')\n",
    "historicalWeather_pivot"
   ]
  },
  {
   "cell_type": "markdown",
   "id": "bff99e38",
   "metadata": {},
   "source": [
    "# VIF Analysis"
   ]
  },
  {
   "cell_type": "code",
   "execution_count": 9,
   "id": "b20c6bf5",
   "metadata": {},
   "outputs": [
    {
     "name": "stderr",
     "output_type": "stream",
     "text": [
      "/home/charlie/anaconda3/lib/python3.9/site-packages/pandas/core/common.py:241: VisibleDeprecationWarning: Creating an ndarray from ragged nested sequences (which is a list-or-tuple of lists-or-tuples-or ndarrays with different lengths or shapes) is deprecated. If you meant to do this, you must specify 'dtype=object' when creating the ndarray.\n",
      "  result = np.asarray(values, dtype=dtype)\n",
      "/home/charlie/anaconda3/lib/python3.9/site-packages/statsmodels/stats/outliers_influence.py:195: RuntimeWarning: divide by zero encountered in double_scalars\n",
      "  vif = 1. / (1. - r_squared_i)\n"
     ]
    },
    {
     "name": "stdout",
     "output_type": "stream",
     "text": [
      "                         feature           VIF\n",
      "0               (min, WindSpeed)  4.977948e+00\n",
      "1                            NSW           inf\n",
      "2            (mean, Temperature)  4.457037e+01\n",
      "3        (max, RelativeHumidity)  2.960226e+00\n",
      "4              (mean, WindSpeed)  7.356593e+00\n",
      "5        (min, SoilWaterContent)  2.623690e+00\n",
      "6          (min, SolarRadiation)  7.710638e+00\n",
      "7                             WA           inf\n",
      "8                         fire01  1.921411e+00\n",
      "9        (min, RelativeHumidity)  2.106018e+01\n",
      "10                            QL           inf\n",
      "11     (variance, Precipitation)  3.603813e+00\n",
      "12      (mean, SoilWaterContent)  1.571319e+01\n",
      "13        (mean, SolarRadiation)  3.219168e+01\n",
      "14      (mean, RelativeHumidity)  1.946206e+01\n",
      "15                 (count, Area)           inf\n",
      "16       (variance, Temperature)  5.731700e+00\n",
      "17          (max, Precipitation)  4.052888e+00\n",
      "18                            VI           inf\n",
      "19         (variance, WindSpeed)  3.633465e+00\n",
      "20                            SA           inf\n",
      "21                            TA  9.007199e+15\n",
      "22                            NT           inf\n",
      "23          (min, Precipitation)  1.611378e+00\n",
      "24            (max, Temperature)  4.754164e+01\n",
      "25  (variance, SoilWaterContent)  5.015106e+00\n",
      "26    (variance, SolarRadiation)  4.974307e+00\n",
      "27       (max, SoilWaterContent)  3.457697e+00\n",
      "28              (max, WindSpeed)  2.886077e+00\n",
      "29         (mean, Precipitation)  4.550328e+00\n",
      "30  (variance, RelativeHumidity)  5.536556e+00\n",
      "31            (min, Temperature)  2.192228e+01\n",
      "32         (max, SolarRadiation)  2.885985e+01\n"
     ]
    }
   ],
   "source": [
    "X = historicalWeather_pivot[list(set(historicalWeather_pivot.columns) - set('fire01'))]\n",
    "vif_ = pd.DataFrame()\n",
    "vif_[\"feature\"] = X.columns\n",
    "  \n",
    "vif_[\"VIF\"] = [variance_inflation_factor(X.values, i) for i in range(len(X.columns))]\n",
    "\n",
    "print(vif_)"
   ]
  },
  {
   "cell_type": "markdown",
   "id": "aa88a77e",
   "metadata": {},
   "source": [
    "Running the following cells made each of the models weaker and therefore this section was NOT run:"
   ]
  },
  {
   "cell_type": "code",
   "execution_count": 13,
   "id": "126d4fd1",
   "metadata": {},
   "outputs": [
    {
     "name": "stdout",
     "output_type": "stream",
     "text": [
      "                         feature        VIF\n",
      "0        (max, RelativeHumidity)   2.960226\n",
      "1          (mean, Precipitation)   4.550328\n",
      "2     (variance, SolarRadiation)   4.974307\n",
      "3                             NT        inf\n",
      "4          (min, SolarRadiation)   7.710638\n",
      "5       (mean, RelativeHumidity)  19.462064\n",
      "6   (variance, SoilWaterContent)   5.015106\n",
      "7          (max, SolarRadiation)  28.859853\n",
      "8          (variance, WindSpeed)   3.633465\n",
      "9        (min, SoilWaterContent)   2.623690\n",
      "10              (min, WindSpeed)   4.977948\n",
      "11                        fire01   1.921411\n",
      "12        (mean, SolarRadiation)  32.191678\n",
      "13       (max, SoilWaterContent)   3.457697\n",
      "14                            WA        inf\n",
      "15                            TA        inf\n",
      "16       (variance, Temperature)   5.731700\n",
      "17                 (count, Area)        inf\n",
      "18              (max, WindSpeed)   2.886077\n",
      "19            (min, Temperature)  21.922276\n",
      "20                            SA        inf\n",
      "21                            QL        inf\n",
      "22                           NSW        inf\n",
      "23      (mean, SoilWaterContent)  15.713195\n",
      "24     (variance, Precipitation)   3.603813\n",
      "25             (mean, WindSpeed)   7.356593\n",
      "26          (min, Precipitation)   1.611378\n",
      "27                            VI        inf\n",
      "28            (max, Temperature)  47.541644\n",
      "29  (variance, RelativeHumidity)   5.536556\n",
      "30       (min, RelativeHumidity)  21.060184\n",
      "31          (max, Precipitation)   4.052888\n",
      "32           (mean, Temperature)  44.570366\n"
     ]
    }
   ],
   "source": [
    "# count = 0\n",
    "# for i in vif_['VIF']:\n",
    "#     if i > 10:\n",
    "#         historicalWeather_pivot = historicalWeather_pivot.drop(columns=[list(vif_['feature'])[count]])\n",
    "#     count += 1\n",
    "        \n",
    "# print(vif_)"
   ]
  },
  {
   "cell_type": "markdown",
   "id": "64c37648",
   "metadata": {},
   "source": [
    "# Train Test Split Without Randomization"
   ]
  },
  {
   "cell_type": "code",
   "execution_count": 7,
   "id": "7d1c7f82",
   "metadata": {},
   "outputs": [
    {
     "name": "stdout",
     "output_type": "stream",
     "text": [
      "69.99306999307 %  training\n",
      "19.99801999802 %  validation\n",
      "10.008910008910009 %  test\n"
     ]
    }
   ],
   "source": [
    "# selects 70% of data\n",
    "training = historicalWeather_pivot.head(n = 28280)\n",
    "df2 = historicalWeather_pivot.drop(training.index)\n",
    "\n",
    "# selects 2/3 of the remaining 30 percent\n",
    "validation = df2.head(n = 8080)\n",
    "df3 = df2.drop(validation.index)\n",
    "\n",
    "# the remaining 1/3 of the remaining 30percent\n",
    "test = df3\n",
    "\n",
    "#making sure this worked right:\n",
    "print(len(training)/len(historicalWeather_pivot)*100, '%', ' training')\n",
    "print(len(validation)/len(historicalWeather_pivot)*100, '%', ' validation')\n",
    "print(len(test)/len(historicalWeather_pivot)*100, '%', ' test')\n",
    "\n",
    "#splitting into subtrain and subtest\n",
    "sub_train_train = training.head(20200)\n",
    "sub_train_test = training.drop(sub_train_train.index)\n",
    "\n",
    "#split into xs and ys\n",
    "cols = historicalWeather_pivot.columns[:-1]\n",
    "sub_train_train_xs = sub_train_train[cols] # 50%\n",
    "sub_train_train_ys = sub_train_train['fire01'] # 50%\n",
    "sub_train_test_xs = sub_train_test[cols] # 20%\n",
    "sub_train_test_ys = sub_train_test['fire01'] # 20%\n",
    "train_xs = training[cols] # 70%\n",
    "train_ys = training['fire01'] # 70%\n",
    "\n",
    "#split into validation xs and ys\n",
    "val_test_xs = validation[cols]\n",
    "val_test_ys = validation['fire01']\n",
    "\n",
    "#create the 90% train\n",
    "ninety_train_xs = pd.concat([training, validation])[cols]\n",
    "ninety_train_ys = pd.concat([training, validation])['fire01']\n",
    "\n",
    "#split the test data\n",
    "test_xs = test[cols]\n",
    "test_ys = test['fire01']"
   ]
  },
  {
   "cell_type": "markdown",
   "id": "27436a5a",
   "metadata": {},
   "source": [
    "# Multinomial Logistic Regression"
   ]
  },
  {
   "cell_type": "markdown",
   "id": "aa912805",
   "metadata": {},
   "source": [
    "##  Hyper Parameter Tuning on the Training Set"
   ]
  },
  {
   "cell_type": "code",
   "execution_count": 11,
   "id": "99db8858",
   "metadata": {},
   "outputs": [
    {
     "name": "stderr",
     "output_type": "stream",
     "text": [
      "/home/charlie/anaconda3/lib/python3.9/site-packages/sklearn/utils/validation.py:1688: FutureWarning: Feature names only support names that are all strings. Got feature names with dtypes: ['str', 'tuple']. An error will be raised in 1.2.\n",
      "  warnings.warn(\n",
      "/home/charlie/anaconda3/lib/python3.9/site-packages/sklearn/utils/validation.py:1688: FutureWarning: Feature names only support names that are all strings. Got feature names with dtypes: ['str', 'tuple']. An error will be raised in 1.2.\n",
      "  warnings.warn(\n"
     ]
    },
    {
     "data": {
      "text/plain": [
       "0.7727722772277228"
      ]
     },
     "execution_count": 11,
     "metadata": {},
     "output_type": "execute_result"
    }
   ],
   "source": [
    "model = LogisticRegression()\n",
    "\n",
    "model.fit(sub_train_train_xs, sub_train_train_ys)\n",
    "\n",
    "model.score(sub_train_test_xs, sub_train_test_ys)"
   ]
  },
  {
   "cell_type": "code",
   "execution_count": 12,
   "id": "170716e3",
   "metadata": {},
   "outputs": [
    {
     "name": "stdout",
     "output_type": "stream",
     "text": [
      "              precision    recall  f1-score   support\n",
      "\n",
      "           0       0.69      0.61      0.65      2767\n",
      "           1       0.81      0.86      0.83      5313\n",
      "\n",
      "    accuracy                           0.77      8080\n",
      "   macro avg       0.75      0.73      0.74      8080\n",
      "weighted avg       0.77      0.77      0.77      8080\n",
      "\n"
     ]
    },
    {
     "name": "stderr",
     "output_type": "stream",
     "text": [
      "/home/charlie/anaconda3/lib/python3.9/site-packages/sklearn/utils/validation.py:1688: FutureWarning: Feature names only support names that are all strings. Got feature names with dtypes: ['str', 'tuple']. An error will be raised in 1.2.\n",
      "  warnings.warn(\n"
     ]
    }
   ],
   "source": [
    "predictions = model.predict(sub_train_test_xs)\n",
    "summary = classification_report(sub_train_test_ys, predictions)\n",
    "print(summary)"
   ]
  },
  {
   "cell_type": "markdown",
   "id": "2283219f",
   "metadata": {},
   "source": [
    "# XGBoost"
   ]
  },
  {
   "cell_type": "markdown",
   "id": "fc34d1c6",
   "metadata": {},
   "source": [
    "##  Hyper Parameter Tuning on the Training Set"
   ]
  },
  {
   "cell_type": "code",
   "execution_count": 13,
   "id": "66b62df0",
   "metadata": {},
   "outputs": [
    {
     "name": "stderr",
     "output_type": "stream",
     "text": [
      "/home/charlie/anaconda3/lib/python3.9/site-packages/xgboost/sklearn.py:1224: UserWarning: The use of label encoder in XGBClassifier is deprecated and will be removed in a future release. To remove this warning, do the following: 1) Pass option use_label_encoder=False when constructing XGBClassifier object; and 2) Encode your labels (y) as integers starting with 0, i.e. 0, 1, 2, ..., [num_class - 1].\n",
      "  warnings.warn(label_encoder_deprecation_msg, UserWarning)\n",
      "/home/charlie/anaconda3/lib/python3.9/site-packages/xgboost/data.py:250: FutureWarning: pandas.Int64Index is deprecated and will be removed from pandas in a future version. Use pandas.Index with the appropriate dtype instead.\n",
      "  elif isinstance(data.columns, (pd.Int64Index, pd.RangeIndex)):\n"
     ]
    },
    {
     "name": "stdout",
     "output_type": "stream",
     "text": [
      "[15:18:25] WARNING: ../src/learner.cc:1115: Starting in XGBoost 1.3.0, the default evaluation metric used with the objective 'binary:logistic' was changed from 'error' to 'logloss'. Explicitly set eval_metric if you'd like to restore the old behavior.\n",
      "0.8438118811881188\n",
      "              precision    recall  f1-score   support\n",
      "\n",
      "           0       0.76      0.80      0.78      2767\n",
      "           1       0.89      0.87      0.88      5313\n",
      "\n",
      "    accuracy                           0.84      8080\n",
      "   macro avg       0.83      0.83      0.83      8080\n",
      "weighted avg       0.85      0.84      0.84      8080\n",
      "\n"
     ]
    }
   ],
   "source": [
    "model = XGBClassifier(max_depth=3)\n",
    "model.fit(sub_train_train_xs, sub_train_train_ys)\n",
    "print(model.score(sub_train_test_xs, sub_train_test_ys))\n",
    "\n",
    "predictions = model.predict(sub_train_test_xs)\n",
    "summary = classification_report(sub_train_test_ys, predictions)\n",
    "print(summary)"
   ]
  },
  {
   "cell_type": "markdown",
   "id": "bc6d2c29",
   "metadata": {},
   "source": [
    "## Testing on the validation set"
   ]
  },
  {
   "cell_type": "code",
   "execution_count": 14,
   "id": "6bdf6f9b",
   "metadata": {},
   "outputs": [
    {
     "name": "stderr",
     "output_type": "stream",
     "text": [
      "/home/charlie/anaconda3/lib/python3.9/site-packages/xgboost/sklearn.py:1224: UserWarning: The use of label encoder in XGBClassifier is deprecated and will be removed in a future release. To remove this warning, do the following: 1) Pass option use_label_encoder=False when constructing XGBClassifier object; and 2) Encode your labels (y) as integers starting with 0, i.e. 0, 1, 2, ..., [num_class - 1].\n",
      "  warnings.warn(label_encoder_deprecation_msg, UserWarning)\n",
      "/home/charlie/anaconda3/lib/python3.9/site-packages/xgboost/data.py:250: FutureWarning: pandas.Int64Index is deprecated and will be removed from pandas in a future version. Use pandas.Index with the appropriate dtype instead.\n",
      "  elif isinstance(data.columns, (pd.Int64Index, pd.RangeIndex)):\n"
     ]
    },
    {
     "name": "stdout",
     "output_type": "stream",
     "text": [
      "[15:18:32] WARNING: ../src/learner.cc:1115: Starting in XGBoost 1.3.0, the default evaluation metric used with the objective 'binary:logistic' was changed from 'error' to 'logloss'. Explicitly set eval_metric if you'd like to restore the old behavior.\n",
      "0.8497524752475247\n",
      "AUC:  0.9245560757919986\n",
      "              precision    recall  f1-score   support\n",
      "\n",
      "           0       0.75      0.83      0.79      2686\n",
      "           1       0.91      0.86      0.88      5394\n",
      "\n",
      "    accuracy                           0.85      8080\n",
      "   macro avg       0.83      0.84      0.83      8080\n",
      "weighted avg       0.86      0.85      0.85      8080\n",
      "\n"
     ]
    }
   ],
   "source": [
    "model = XGBClassifier(max_depth=3)\n",
    "model.fit(train_xs, train_ys)\n",
    "print(model.score(val_test_xs.values, val_test_ys.values))\n",
    "\n",
    "y_pred_proba = model.predict_proba(val_test_xs.values)[::,1]\n",
    "auc = metrics.roc_auc_score(val_test_ys.values, y_pred_proba)\n",
    "print('AUC: ', auc)\n",
    "\n",
    "predictions = model.predict(val_test_xs.values)\n",
    "summary = classification_report(val_test_ys.values, predictions)\n",
    "print(summary)"
   ]
  },
  {
   "cell_type": "markdown",
   "id": "6a755275",
   "metadata": {},
   "source": [
    "# Multilayer Perceptron"
   ]
  },
  {
   "cell_type": "markdown",
   "id": "96f08481",
   "metadata": {},
   "source": [
    "### Possible configurations to try:\n",
    "\n",
    "* [15]\n",
    "\n",
    "* [15, 15]\n",
    "\n",
    "* [15, 15, 15]\n"
   ]
  },
  {
   "cell_type": "markdown",
   "id": "677103e8",
   "metadata": {},
   "source": [
    "## Hyper Parameter Tuning"
   ]
  },
  {
   "cell_type": "code",
   "execution_count": 15,
   "id": "edb74fae",
   "metadata": {},
   "outputs": [],
   "source": [
    "def find_epochs_and_alpha(train, test, layers):\n",
    "    \n",
    "    for alpha in np.linspace(0.01, 1, 10):\n",
    "        training_error = []\n",
    "        test_error = []\n",
    "        epoch = []\n",
    "        scalar = StandardScaler()\n",
    "        cols = train.columns\n",
    "        xs_train = train[cols[:-1]]\n",
    "        ys_train = train[cols[-1]]    \n",
    "        xs_test = test[cols[:-1]]\n",
    "        ys_test = test[cols[-1]]\n",
    "        train_xs_std = scalar.fit_transform(xs_train)\n",
    "        test_xs_std = scalar.fit_transform(xs_test)\n",
    "        \n",
    "        for i in tqdm(range(1, 200, 25)):\n",
    "\n",
    "            mlp = MLPClassifier(hidden_layer_sizes=layers, activation='logistic', alpha=alpha,\n",
    "                            solver='adam', max_iter=i, random_state=777,\n",
    "                            learning_rate_init=.1, verbose=False)\n",
    "            \n",
    "            mlp.fit(train_xs_std, ys_train)\n",
    "\n",
    "            #training_error.append(np.sqrt(mean_squared_error(mlp.predict(train_xs_std), ys_train)))\n",
    "            #test_error.append(np.sqrt(mean_squared_error(mlp.predict(test_xs_std), ys_test)))\n",
    "            \n",
    "            training_error.append(1 - mlp.score(train_xs_std, ys_train))\n",
    "            test_error.append(1 - mlp.score(test_xs_std, ys_test))\n",
    "                              \n",
    "            epoch.append(i)\n",
    "\n",
    "\n",
    "        plt.plot(epoch, training_error, label = 'training error')\n",
    "        plt.plot(epoch, test_error, label = 'test error')\n",
    "        plt.title(f'training and test error vs epoch number @ λ={alpha} and {layers}')\n",
    "        plt.legend()\n",
    "        plt.show()\n",
    "        "
   ]
  },
  {
   "cell_type": "markdown",
   "id": "418cc174",
   "metadata": {},
   "source": [
    "### single layer; 40 neurons"
   ]
  },
  {
   "cell_type": "code",
   "execution_count": 15,
   "id": "77179a64",
   "metadata": {},
   "outputs": [
    {
     "name": "stderr",
     "output_type": "stream",
     "text": [
      "/home/charlie/anaconda3/lib/python3.9/site-packages/sklearn/utils/validation.py:1688: FutureWarning: Feature names only support names that are all strings. Got feature names with dtypes: ['str', 'tuple']. An error will be raised in 1.2.\n",
      "  warnings.warn(\n",
      "/home/charlie/anaconda3/lib/python3.9/site-packages/sklearn/utils/validation.py:1688: FutureWarning: Feature names only support names that are all strings. Got feature names with dtypes: ['str', 'tuple']. An error will be raised in 1.2.\n",
      "  warnings.warn(\n",
      "/home/charlie/anaconda3/lib/python3.9/site-packages/sklearn/utils/validation.py:1688: FutureWarning: Feature names only support names that are all strings. Got feature names with dtypes: ['str', 'tuple']. An error will be raised in 1.2.\n",
      "  warnings.warn(\n",
      "/home/charlie/anaconda3/lib/python3.9/site-packages/sklearn/utils/validation.py:1688: FutureWarning: Feature names only support names that are all strings. Got feature names with dtypes: ['str', 'tuple']. An error will be raised in 1.2.\n",
      "  warnings.warn(\n",
      "  0%|                                                     | 0/8 [00:00<?, ?it/s]/home/charlie/anaconda3/lib/python3.9/site-packages/sklearn/neural_network/_multilayer_perceptron.py:692: ConvergenceWarning: Stochastic Optimizer: Maximum iterations (1) reached and the optimization hasn't converged yet.\n",
      "  warnings.warn(\n",
      "/home/charlie/anaconda3/lib/python3.9/site-packages/sklearn/neural_network/_multilayer_perceptron.py:692: ConvergenceWarning: Stochastic Optimizer: Maximum iterations (26) reached and the optimization hasn't converged yet.\n",
      "  warnings.warn(\n",
      "100%|█████████████████████████████████████████████| 8/8 [00:13<00:00,  1.66s/it]\n"
     ]
    },
    {
     "data": {
      "image/png": "[encoded data removed]",
      "text/plain": [
       "<Figure size 432x288 with 1 Axes>"
      ]
     },
     "metadata": {
      "needs_background": "light"
     },
     "output_type": "display_data"
    },
    {
     "name": "stderr",
     "output_type": "stream",
     "text": [
      "/home/charlie/anaconda3/lib/python3.9/site-packages/sklearn/utils/validation.py:1688: FutureWarning: Feature names only support names that are all strings. Got feature names with dtypes: ['str', 'tuple']. An error will be raised in 1.2.\n",
      "  warnings.warn(\n",
      "/home/charlie/anaconda3/lib/python3.9/site-packages/sklearn/utils/validation.py:1688: FutureWarning: Feature names only support names that are all strings. Got feature names with dtypes: ['str', 'tuple']. An error will be raised in 1.2.\n",
      "  warnings.warn(\n",
      "/home/charlie/anaconda3/lib/python3.9/site-packages/sklearn/utils/validation.py:1688: FutureWarning: Feature names only support names that are all strings. Got feature names with dtypes: ['str', 'tuple']. An error will be raised in 1.2.\n",
      "  warnings.warn(\n",
      "/home/charlie/anaconda3/lib/python3.9/site-packages/sklearn/utils/validation.py:1688: FutureWarning: Feature names only support names that are all strings. Got feature names with dtypes: ['str', 'tuple']. An error will be raised in 1.2.\n",
      "  warnings.warn(\n",
      "  0%|                                                     | 0/8 [00:00<?, ?it/s]/home/charlie/anaconda3/lib/python3.9/site-packages/sklearn/neural_network/_multilayer_perceptron.py:692: ConvergenceWarning: Stochastic Optimizer: Maximum iterations (1) reached and the optimization hasn't converged yet.\n",
      "  warnings.warn(\n",
      "/home/charlie/anaconda3/lib/python3.9/site-packages/sklearn/neural_network/_multilayer_perceptron.py:692: ConvergenceWarning: Stochastic Optimizer: Maximum iterations (26) reached and the optimization hasn't converged yet.\n",
      "  warnings.warn(\n",
      "100%|█████████████████████████████████████████████| 8/8 [00:10<00:00,  1.36s/it]\n"
     ]
    },
    {
     "data": {
      "image/png": "[encoded data removed]",
      "text/plain": [
       "<Figure size 432x288 with 1 Axes>"
      ]
     },
     "metadata": {
      "needs_background": "light"
     },
     "output_type": "display_data"
    },
    {
     "name": "stderr",
     "output_type": "stream",
     "text": [
      "/home/charlie/anaconda3/lib/python3.9/site-packages/sklearn/utils/validation.py:1688: FutureWarning: Feature names only support names that are all strings. Got feature names with dtypes: ['str', 'tuple']. An error will be raised in 1.2.\n",
      "  warnings.warn(\n",
      "/home/charlie/anaconda3/lib/python3.9/site-packages/sklearn/utils/validation.py:1688: FutureWarning: Feature names only support names that are all strings. Got feature names with dtypes: ['str', 'tuple']. An error will be raised in 1.2.\n",
      "  warnings.warn(\n",
      "/home/charlie/anaconda3/lib/python3.9/site-packages/sklearn/utils/validation.py:1688: FutureWarning: Feature names only support names that are all strings. Got feature names with dtypes: ['str', 'tuple']. An error will be raised in 1.2.\n",
      "  warnings.warn(\n",
      "/home/charlie/anaconda3/lib/python3.9/site-packages/sklearn/utils/validation.py:1688: FutureWarning: Feature names only support names that are all strings. Got feature names with dtypes: ['str', 'tuple']. An error will be raised in 1.2.\n",
      "  warnings.warn(\n",
      "  0%|                                                     | 0/8 [00:00<?, ?it/s]/home/charlie/anaconda3/lib/python3.9/site-packages/sklearn/neural_network/_multilayer_perceptron.py:692: ConvergenceWarning: Stochastic Optimizer: Maximum iterations (1) reached and the optimization hasn't converged yet.\n",
      "  warnings.warn(\n",
      "/home/charlie/anaconda3/lib/python3.9/site-packages/sklearn/neural_network/_multilayer_perceptron.py:692: ConvergenceWarning: Stochastic Optimizer: Maximum iterations (26) reached and the optimization hasn't converged yet.\n",
      "  warnings.warn(\n",
      "100%|█████████████████████████████████████████████| 8/8 [00:13<00:00,  1.74s/it]\n"
     ]
    },
    {
     "data": {
      "image/png": "[encoded data removed]",
      "text/plain": [
       "<Figure size 432x288 with 1 Axes>"
      ]
     },
     "metadata": {
      "needs_background": "light"
     },
     "output_type": "display_data"
    },
    {
     "name": "stderr",
     "output_type": "stream",
     "text": [
      "/home/charlie/anaconda3/lib/python3.9/site-packages/sklearn/utils/validation.py:1688: FutureWarning: Feature names only support names that are all strings. Got feature names with dtypes: ['str', 'tuple']. An error will be raised in 1.2.\n",
      "  warnings.warn(\n",
      "/home/charlie/anaconda3/lib/python3.9/site-packages/sklearn/utils/validation.py:1688: FutureWarning: Feature names only support names that are all strings. Got feature names with dtypes: ['str', 'tuple']. An error will be raised in 1.2.\n",
      "  warnings.warn(\n",
      "/home/charlie/anaconda3/lib/python3.9/site-packages/sklearn/utils/validation.py:1688: FutureWarning: Feature names only support names that are all strings. Got feature names with dtypes: ['str', 'tuple']. An error will be raised in 1.2.\n",
      "  warnings.warn(\n",
      "/home/charlie/anaconda3/lib/python3.9/site-packages/sklearn/utils/validation.py:1688: FutureWarning: Feature names only support names that are all strings. Got feature names with dtypes: ['str', 'tuple']. An error will be raised in 1.2.\n",
      "  warnings.warn(\n",
      "  0%|                                                     | 0/8 [00:00<?, ?it/s]/home/charlie/anaconda3/lib/python3.9/site-packages/sklearn/neural_network/_multilayer_perceptron.py:692: ConvergenceWarning: Stochastic Optimizer: Maximum iterations (1) reached and the optimization hasn't converged yet.\n",
      "  warnings.warn(\n",
      "/home/charlie/anaconda3/lib/python3.9/site-packages/sklearn/neural_network/_multilayer_perceptron.py:692: ConvergenceWarning: Stochastic Optimizer: Maximum iterations (26) reached and the optimization hasn't converged yet.\n",
      "  warnings.warn(\n",
      "100%|█████████████████████████████████████████████| 8/8 [00:10<00:00,  1.31s/it]\n"
     ]
    },
    {
     "data": {
      "image/png": "[encoded data removed]",
      "text/plain": [
       "<Figure size 432x288 with 1 Axes>"
      ]
     },
     "metadata": {
      "needs_background": "light"
     },
     "output_type": "display_data"
    },
    {
     "name": "stderr",
     "output_type": "stream",
     "text": [
      "/home/charlie/anaconda3/lib/python3.9/site-packages/sklearn/utils/validation.py:1688: FutureWarning: Feature names only support names that are all strings. Got feature names with dtypes: ['str', 'tuple']. An error will be raised in 1.2.\n",
      "  warnings.warn(\n",
      "/home/charlie/anaconda3/lib/python3.9/site-packages/sklearn/utils/validation.py:1688: FutureWarning: Feature names only support names that are all strings. Got feature names with dtypes: ['str', 'tuple']. An error will be raised in 1.2.\n",
      "  warnings.warn(\n",
      "/home/charlie/anaconda3/lib/python3.9/site-packages/sklearn/utils/validation.py:1688: FutureWarning: Feature names only support names that are all strings. Got feature names with dtypes: ['str', 'tuple']. An error will be raised in 1.2.\n",
      "  warnings.warn(\n",
      "/home/charlie/anaconda3/lib/python3.9/site-packages/sklearn/utils/validation.py:1688: FutureWarning: Feature names only support names that are all strings. Got feature names with dtypes: ['str', 'tuple']. An error will be raised in 1.2.\n",
      "  warnings.warn(\n",
      "  0%|                                                     | 0/8 [00:00<?, ?it/s]/home/charlie/anaconda3/lib/python3.9/site-packages/sklearn/neural_network/_multilayer_perceptron.py:692: ConvergenceWarning: Stochastic Optimizer: Maximum iterations (1) reached and the optimization hasn't converged yet.\n",
      "  warnings.warn(\n",
      "/home/charlie/anaconda3/lib/python3.9/site-packages/sklearn/neural_network/_multilayer_perceptron.py:692: ConvergenceWarning: Stochastic Optimizer: Maximum iterations (26) reached and the optimization hasn't converged yet.\n",
      "  warnings.warn(\n",
      "100%|█████████████████████████████████████████████| 8/8 [00:10<00:00,  1.37s/it]\n"
     ]
    },
    {
     "data": {
      "image/png": "[encoded data removed]",
      "text/plain": [
       "<Figure size 432x288 with 1 Axes>"
      ]
     },
     "metadata": {
      "needs_background": "light"
     },
     "output_type": "display_data"
    },
    {
     "name": "stderr",
     "output_type": "stream",
     "text": [
      "/home/charlie/anaconda3/lib/python3.9/site-packages/sklearn/utils/validation.py:1688: FutureWarning: Feature names only support names that are all strings. Got feature names with dtypes: ['str', 'tuple']. An error will be raised in 1.2.\n",
      "  warnings.warn(\n",
      "/home/charlie/anaconda3/lib/python3.9/site-packages/sklearn/utils/validation.py:1688: FutureWarning: Feature names only support names that are all strings. Got feature names with dtypes: ['str', 'tuple']. An error will be raised in 1.2.\n",
      "  warnings.warn(\n",
      "/home/charlie/anaconda3/lib/python3.9/site-packages/sklearn/utils/validation.py:1688: FutureWarning: Feature names only support names that are all strings. Got feature names with dtypes: ['str', 'tuple']. An error will be raised in 1.2.\n",
      "  warnings.warn(\n",
      "/home/charlie/anaconda3/lib/python3.9/site-packages/sklearn/utils/validation.py:1688: FutureWarning: Feature names only support names that are all strings. Got feature names with dtypes: ['str', 'tuple']. An error will be raised in 1.2.\n",
      "  warnings.warn(\n",
      "  0%|                                                     | 0/8 [00:00<?, ?it/s]/home/charlie/anaconda3/lib/python3.9/site-packages/sklearn/neural_network/_multilayer_perceptron.py:692: ConvergenceWarning: Stochastic Optimizer: Maximum iterations (1) reached and the optimization hasn't converged yet.\n",
      "  warnings.warn(\n",
      "/home/charlie/anaconda3/lib/python3.9/site-packages/sklearn/neural_network/_multilayer_perceptron.py:692: ConvergenceWarning: Stochastic Optimizer: Maximum iterations (26) reached and the optimization hasn't converged yet.\n",
      "  warnings.warn(\n",
      "100%|█████████████████████████████████████████████| 8/8 [00:10<00:00,  1.33s/it]\n"
     ]
    },
    {
     "data": {
      "image/png": "[encoded data removed]",
      "text/plain": [
       "<Figure size 432x288 with 1 Axes>"
      ]
     },
     "metadata": {
      "needs_background": "light"
     },
     "output_type": "display_data"
    },
    {
     "name": "stderr",
     "output_type": "stream",
     "text": [
      "/home/charlie/anaconda3/lib/python3.9/site-packages/sklearn/utils/validation.py:1688: FutureWarning: Feature names only support names that are all strings. Got feature names with dtypes: ['str', 'tuple']. An error will be raised in 1.2.\n",
      "  warnings.warn(\n",
      "/home/charlie/anaconda3/lib/python3.9/site-packages/sklearn/utils/validation.py:1688: FutureWarning: Feature names only support names that are all strings. Got feature names with dtypes: ['str', 'tuple']. An error will be raised in 1.2.\n",
      "  warnings.warn(\n",
      "/home/charlie/anaconda3/lib/python3.9/site-packages/sklearn/utils/validation.py:1688: FutureWarning: Feature names only support names that are all strings. Got feature names with dtypes: ['str', 'tuple']. An error will be raised in 1.2.\n",
      "  warnings.warn(\n",
      "/home/charlie/anaconda3/lib/python3.9/site-packages/sklearn/utils/validation.py:1688: FutureWarning: Feature names only support names that are all strings. Got feature names with dtypes: ['str', 'tuple']. An error will be raised in 1.2.\n",
      "  warnings.warn(\n",
      "  0%|                                                     | 0/8 [00:00<?, ?it/s]/home/charlie/anaconda3/lib/python3.9/site-packages/sklearn/neural_network/_multilayer_perceptron.py:692: ConvergenceWarning: Stochastic Optimizer: Maximum iterations (1) reached and the optimization hasn't converged yet.\n",
      "  warnings.warn(\n",
      "/home/charlie/anaconda3/lib/python3.9/site-packages/sklearn/neural_network/_multilayer_perceptron.py:692: ConvergenceWarning: Stochastic Optimizer: Maximum iterations (26) reached and the optimization hasn't converged yet.\n",
      "  warnings.warn(\n",
      "100%|█████████████████████████████████████████████| 8/8 [00:10<00:00,  1.28s/it]\n"
     ]
    },
    {
     "data": {
      "image/png": "[encoded data removed]",
      "text/plain": [
       "<Figure size 432x288 with 1 Axes>"
      ]
     },
     "metadata": {
      "needs_background": "light"
     },
     "output_type": "display_data"
    },
    {
     "name": "stderr",
     "output_type": "stream",
     "text": [
      "/home/charlie/anaconda3/lib/python3.9/site-packages/sklearn/utils/validation.py:1688: FutureWarning: Feature names only support names that are all strings. Got feature names with dtypes: ['str', 'tuple']. An error will be raised in 1.2.\n",
      "  warnings.warn(\n",
      "/home/charlie/anaconda3/lib/python3.9/site-packages/sklearn/utils/validation.py:1688: FutureWarning: Feature names only support names that are all strings. Got feature names with dtypes: ['str', 'tuple']. An error will be raised in 1.2.\n",
      "  warnings.warn(\n",
      "/home/charlie/anaconda3/lib/python3.9/site-packages/sklearn/utils/validation.py:1688: FutureWarning: Feature names only support names that are all strings. Got feature names with dtypes: ['str', 'tuple']. An error will be raised in 1.2.\n",
      "  warnings.warn(\n",
      "/home/charlie/anaconda3/lib/python3.9/site-packages/sklearn/utils/validation.py:1688: FutureWarning: Feature names only support names that are all strings. Got feature names with dtypes: ['str', 'tuple']. An error will be raised in 1.2.\n",
      "  warnings.warn(\n",
      "  0%|                                                     | 0/8 [00:00<?, ?it/s]/home/charlie/anaconda3/lib/python3.9/site-packages/sklearn/neural_network/_multilayer_perceptron.py:692: ConvergenceWarning: Stochastic Optimizer: Maximum iterations (1) reached and the optimization hasn't converged yet.\n",
      "  warnings.warn(\n",
      "/home/charlie/anaconda3/lib/python3.9/site-packages/sklearn/neural_network/_multilayer_perceptron.py:692: ConvergenceWarning: Stochastic Optimizer: Maximum iterations (26) reached and the optimization hasn't converged yet.\n",
      "  warnings.warn(\n",
      "100%|█████████████████████████████████████████████| 8/8 [00:13<00:00,  1.65s/it]\n"
     ]
    },
    {
     "data": {
      "image/png": "[encoded data removed]",
      "text/plain": [
       "<Figure size 432x288 with 1 Axes>"
      ]
     },
     "metadata": {
      "needs_background": "light"
     },
     "output_type": "display_data"
    },
    {
     "name": "stderr",
     "output_type": "stream",
     "text": [
      "/home/charlie/anaconda3/lib/python3.9/site-packages/sklearn/utils/validation.py:1688: FutureWarning: Feature names only support names that are all strings. Got feature names with dtypes: ['str', 'tuple']. An error will be raised in 1.2.\n",
      "  warnings.warn(\n",
      "/home/charlie/anaconda3/lib/python3.9/site-packages/sklearn/utils/validation.py:1688: FutureWarning: Feature names only support names that are all strings. Got feature names with dtypes: ['str', 'tuple']. An error will be raised in 1.2.\n",
      "  warnings.warn(\n",
      "/home/charlie/anaconda3/lib/python3.9/site-packages/sklearn/utils/validation.py:1688: FutureWarning: Feature names only support names that are all strings. Got feature names with dtypes: ['str', 'tuple']. An error will be raised in 1.2.\n",
      "  warnings.warn(\n",
      "/home/charlie/anaconda3/lib/python3.9/site-packages/sklearn/utils/validation.py:1688: FutureWarning: Feature names only support names that are all strings. Got feature names with dtypes: ['str', 'tuple']. An error will be raised in 1.2.\n",
      "  warnings.warn(\n",
      "  0%|                                                     | 0/8 [00:00<?, ?it/s]/home/charlie/anaconda3/lib/python3.9/site-packages/sklearn/neural_network/_multilayer_perceptron.py:692: ConvergenceWarning: Stochastic Optimizer: Maximum iterations (1) reached and the optimization hasn't converged yet.\n",
      "  warnings.warn(\n",
      "100%|█████████████████████████████████████████████| 8/8 [00:05<00:00,  1.55it/s]\n"
     ]
    },
    {
     "data": {
      "image/png": "[encoded data removed]",
      "text/plain": [
       "<Figure size 432x288 with 1 Axes>"
      ]
     },
     "metadata": {
      "needs_background": "light"
     },
     "output_type": "display_data"
    },
    {
     "name": "stderr",
     "output_type": "stream",
     "text": [
      "/home/charlie/anaconda3/lib/python3.9/site-packages/sklearn/utils/validation.py:1688: FutureWarning: Feature names only support names that are all strings. Got feature names with dtypes: ['str', 'tuple']. An error will be raised in 1.2.\n",
      "  warnings.warn(\n",
      "/home/charlie/anaconda3/lib/python3.9/site-packages/sklearn/utils/validation.py:1688: FutureWarning: Feature names only support names that are all strings. Got feature names with dtypes: ['str', 'tuple']. An error will be raised in 1.2.\n",
      "  warnings.warn(\n",
      "/home/charlie/anaconda3/lib/python3.9/site-packages/sklearn/utils/validation.py:1688: FutureWarning: Feature names only support names that are all strings. Got feature names with dtypes: ['str', 'tuple']. An error will be raised in 1.2.\n",
      "  warnings.warn(\n",
      "/home/charlie/anaconda3/lib/python3.9/site-packages/sklearn/utils/validation.py:1688: FutureWarning: Feature names only support names that are all strings. Got feature names with dtypes: ['str', 'tuple']. An error will be raised in 1.2.\n",
      "  warnings.warn(\n",
      "  0%|                                                     | 0/8 [00:00<?, ?it/s]/home/charlie/anaconda3/lib/python3.9/site-packages/sklearn/neural_network/_multilayer_perceptron.py:692: ConvergenceWarning: Stochastic Optimizer: Maximum iterations (1) reached and the optimization hasn't converged yet.\n",
      "  warnings.warn(\n",
      "/home/charlie/anaconda3/lib/python3.9/site-packages/sklearn/neural_network/_multilayer_perceptron.py:692: ConvergenceWarning: Stochastic Optimizer: Maximum iterations (26) reached and the optimization hasn't converged yet.\n",
      "  warnings.warn(\n",
      "100%|█████████████████████████████████████████████| 8/8 [00:10<00:00,  1.33s/it]\n"
     ]
    },
    {
     "data": {
      "image/png": "[encoded data removed]",
      "text/plain": [
       "<Figure size 432x288 with 1 Axes>"
      ]
     },
     "metadata": {
      "needs_background": "light"
     },
     "output_type": "display_data"
    }
   ],
   "source": [
    "find_epochs_and_alpha(sub_train_train, sub_train_test, [40])"
   ]
  },
  {
   "cell_type": "code",
   "execution_count": 16,
   "id": "86226b6b",
   "metadata": {},
   "outputs": [
    {
     "name": "stderr",
     "output_type": "stream",
     "text": [
      "/home/charlie/anaconda3/lib/python3.9/site-packages/sklearn/utils/validation.py:1688: FutureWarning: Feature names only support names that are all strings. Got feature names with dtypes: ['str', 'tuple']. An error will be raised in 1.2.\n",
      "  warnings.warn(\n",
      "/home/charlie/anaconda3/lib/python3.9/site-packages/sklearn/utils/validation.py:1688: FutureWarning: Feature names only support names that are all strings. Got feature names with dtypes: ['str', 'tuple']. An error will be raised in 1.2.\n",
      "  warnings.warn(\n",
      "/home/charlie/anaconda3/lib/python3.9/site-packages/sklearn/utils/validation.py:1688: FutureWarning: Feature names only support names that are all strings. Got feature names with dtypes: ['str', 'tuple']. An error will be raised in 1.2.\n",
      "  warnings.warn(\n",
      "/home/charlie/anaconda3/lib/python3.9/site-packages/sklearn/utils/validation.py:1688: FutureWarning: Feature names only support names that are all strings. Got feature names with dtypes: ['str', 'tuple']. An error will be raised in 1.2.\n",
      "  warnings.warn(\n"
     ]
    },
    {
     "name": "stdout",
     "output_type": "stream",
     "text": [
      "0.8349009900990099\n",
      "              precision    recall  f1-score   support\n",
      "\n",
      "           0       0.71      0.88      0.79      2767\n",
      "           1       0.93      0.81      0.87      5313\n",
      "\n",
      "    accuracy                           0.83      8080\n",
      "   macro avg       0.82      0.85      0.83      8080\n",
      "weighted avg       0.85      0.83      0.84      8080\n",
      "\n"
     ]
    }
   ],
   "source": [
    "layers = [40]\n",
    "\n",
    "scalar = StandardScaler()\n",
    "\n",
    "xs_train_std = scalar.fit_transform(sub_train_train_xs)\n",
    "xs_test_std = scalar.fit_transform(sub_train_test_xs)\n",
    "\n",
    "mlp = MLPClassifier(hidden_layer_sizes=layers, activation='logistic', alpha=.01,\n",
    "                            solver='adam', max_iter = 100, random_state=777,\n",
    "                            learning_rate_init=.1, verbose=False)\n",
    "\n",
    "mlp.fit(xs_train_std, sub_train_train_ys)\n",
    "\n",
    "print(mlp.score(xs_test_std, sub_train_test_ys))\n",
    "\n",
    "predictions = mlp.predict(xs_test_std)\n",
    "summary = classification_report(sub_train_test_ys, predictions)\n",
    "print(summary)"
   ]
  },
  {
   "cell_type": "markdown",
   "id": "bfc2ff0a",
   "metadata": {},
   "source": [
    "### double layer, 40 neurons in each"
   ]
  },
  {
   "cell_type": "code",
   "execution_count": 17,
   "id": "12626477",
   "metadata": {},
   "outputs": [
    {
     "name": "stderr",
     "output_type": "stream",
     "text": [
      "/home/charlie/anaconda3/lib/python3.9/site-packages/sklearn/utils/validation.py:1688: FutureWarning: Feature names only support names that are all strings. Got feature names with dtypes: ['str', 'tuple']. An error will be raised in 1.2.\n",
      "  warnings.warn(\n",
      "/home/charlie/anaconda3/lib/python3.9/site-packages/sklearn/utils/validation.py:1688: FutureWarning: Feature names only support names that are all strings. Got feature names with dtypes: ['str', 'tuple']. An error will be raised in 1.2.\n",
      "  warnings.warn(\n",
      "/home/charlie/anaconda3/lib/python3.9/site-packages/sklearn/utils/validation.py:1688: FutureWarning: Feature names only support names that are all strings. Got feature names with dtypes: ['str', 'tuple']. An error will be raised in 1.2.\n",
      "  warnings.warn(\n",
      "/home/charlie/anaconda3/lib/python3.9/site-packages/sklearn/utils/validation.py:1688: FutureWarning: Feature names only support names that are all strings. Got feature names with dtypes: ['str', 'tuple']. An error will be raised in 1.2.\n",
      "  warnings.warn(\n",
      "  0%|                                                     | 0/8 [00:00<?, ?it/s]/home/charlie/anaconda3/lib/python3.9/site-packages/sklearn/neural_network/_multilayer_perceptron.py:692: ConvergenceWarning: Stochastic Optimizer: Maximum iterations (1) reached and the optimization hasn't converged yet.\n",
      "  warnings.warn(\n",
      " 12%|█████▋                                       | 1/8 [00:00<00:01,  5.69it/s]/home/charlie/anaconda3/lib/python3.9/site-packages/sklearn/neural_network/_multilayer_perceptron.py:692: ConvergenceWarning: Stochastic Optimizer: Maximum iterations (26) reached and the optimization hasn't converged yet.\n",
      "  warnings.warn(\n",
      "100%|█████████████████████████████████████████████| 8/8 [00:24<00:00,  3.05s/it]\n"
     ]
    },
    {
     "data": {
      "image/png": "[encoded data removed]",
      "text/plain": [
       "<Figure size 432x288 with 1 Axes>"
      ]
     },
     "metadata": {
      "needs_background": "light"
     },
     "output_type": "display_data"
    },
    {
     "name": "stderr",
     "output_type": "stream",
     "text": [
      "/home/charlie/anaconda3/lib/python3.9/site-packages/sklearn/utils/validation.py:1688: FutureWarning: Feature names only support names that are all strings. Got feature names with dtypes: ['str', 'tuple']. An error will be raised in 1.2.\n",
      "  warnings.warn(\n",
      "/home/charlie/anaconda3/lib/python3.9/site-packages/sklearn/utils/validation.py:1688: FutureWarning: Feature names only support names that are all strings. Got feature names with dtypes: ['str', 'tuple']. An error will be raised in 1.2.\n",
      "  warnings.warn(\n",
      "/home/charlie/anaconda3/lib/python3.9/site-packages/sklearn/utils/validation.py:1688: FutureWarning: Feature names only support names that are all strings. Got feature names with dtypes: ['str', 'tuple']. An error will be raised in 1.2.\n",
      "  warnings.warn(\n",
      "/home/charlie/anaconda3/lib/python3.9/site-packages/sklearn/utils/validation.py:1688: FutureWarning: Feature names only support names that are all strings. Got feature names with dtypes: ['str', 'tuple']. An error will be raised in 1.2.\n",
      "  warnings.warn(\n",
      "  0%|                                                     | 0/8 [00:00<?, ?it/s]/home/charlie/anaconda3/lib/python3.9/site-packages/sklearn/neural_network/_multilayer_perceptron.py:692: ConvergenceWarning: Stochastic Optimizer: Maximum iterations (1) reached and the optimization hasn't converged yet.\n",
      "  warnings.warn(\n",
      " 12%|█████▋                                       | 1/8 [00:00<00:01,  6.45it/s]/home/charlie/anaconda3/lib/python3.9/site-packages/sklearn/neural_network/_multilayer_perceptron.py:692: ConvergenceWarning: Stochastic Optimizer: Maximum iterations (26) reached and the optimization hasn't converged yet.\n",
      "  warnings.warn(\n",
      " 75%|█████████████████████████████████▊           | 6/8 [00:16<00:06,  3.15s/it]/home/charlie/anaconda3/lib/python3.9/site-packages/sklearn/neural_network/_multilayer_perceptron.py:699: UserWarning: Training interrupted by user.\n",
      "  warnings.warn(\"Training interrupted by user.\")\n",
      " 88%|███████████████████████████████████████▍     | 7/8 [00:16<00:02,  2.31s/it]/home/charlie/anaconda3/lib/python3.9/site-packages/sklearn/neural_network/_multilayer_perceptron.py:699: UserWarning: Training interrupted by user.\n",
      "  warnings.warn(\"Training interrupted by user.\")\n",
      "100%|█████████████████████████████████████████████| 8/8 [00:17<00:00,  2.17s/it]\n"
     ]
    },
    {
     "data": {
      "image/png": "[encoded data removed]",
      "text/plain": [
       "<Figure size 432x288 with 1 Axes>"
      ]
     },
     "metadata": {
      "needs_background": "light"
     },
     "output_type": "display_data"
    },
    {
     "name": "stderr",
     "output_type": "stream",
     "text": [
      "/home/charlie/anaconda3/lib/python3.9/site-packages/sklearn/utils/validation.py:1688: FutureWarning: Feature names only support names that are all strings. Got feature names with dtypes: ['str', 'tuple']. An error will be raised in 1.2.\n",
      "  warnings.warn(\n",
      "/home/charlie/anaconda3/lib/python3.9/site-packages/sklearn/utils/validation.py:1688: FutureWarning: Feature names only support names that are all strings. Got feature names with dtypes: ['str', 'tuple']. An error will be raised in 1.2.\n",
      "  warnings.warn(\n",
      "/home/charlie/anaconda3/lib/python3.9/site-packages/sklearn/utils/validation.py:1688: FutureWarning: Feature names only support names that are all strings. Got feature names with dtypes: ['str', 'tuple']. An error will be raised in 1.2.\n",
      "  warnings.warn(\n",
      "/home/charlie/anaconda3/lib/python3.9/site-packages/sklearn/utils/validation.py:1688: FutureWarning: Feature names only support names that are all strings. Got feature names with dtypes: ['str', 'tuple']. An error will be raised in 1.2.\n",
      "  warnings.warn(\n",
      "  0%|                                                     | 0/8 [00:00<?, ?it/s]/home/charlie/anaconda3/lib/python3.9/site-packages/sklearn/neural_network/_multilayer_perceptron.py:692: ConvergenceWarning: Stochastic Optimizer: Maximum iterations (1) reached and the optimization hasn't converged yet.\n",
      "  warnings.warn(\n",
      " 12%|█████▋                                       | 1/8 [00:00<00:01,  6.05it/s]/home/charlie/anaconda3/lib/python3.9/site-packages/sklearn/neural_network/_multilayer_perceptron.py:699: UserWarning: Training interrupted by user.\n",
      "  warnings.warn(\"Training interrupted by user.\")\n",
      " 50%|██████████████████████▌                      | 4/8 [00:07<00:09,  2.37s/it]/home/charlie/anaconda3/lib/python3.9/site-packages/sklearn/neural_network/_multilayer_perceptron.py:699: UserWarning: Training interrupted by user.\n",
      "  warnings.warn(\"Training interrupted by user.\")\n",
      " 62%|████████████████████████████▏                | 5/8 [00:08<00:05,  1.85s/it]/home/charlie/anaconda3/lib/python3.9/site-packages/sklearn/neural_network/_multilayer_perceptron.py:699: UserWarning: Training interrupted by user.\n",
      "  warnings.warn(\"Training interrupted by user.\")\n",
      " 75%|█████████████████████████████████▊           | 6/8 [00:08<00:02,  1.27s/it]/home/charlie/anaconda3/lib/python3.9/site-packages/sklearn/neural_network/_multilayer_perceptron.py:699: UserWarning: Training interrupted by user.\n",
      "  warnings.warn(\"Training interrupted by user.\")\n",
      " 88%|███████████████████████████████████████▍     | 7/8 [00:08<00:00,  1.11it/s]/home/charlie/anaconda3/lib/python3.9/site-packages/sklearn/neural_network/_multilayer_perceptron.py:699: UserWarning: Training interrupted by user.\n",
      "  warnings.warn(\"Training interrupted by user.\")\n",
      "100%|█████████████████████████████████████████████| 8/8 [00:08<00:00,  1.07s/it]\n",
      "\n",
      "KeyboardInterrupt\n",
      "\n"
     ]
    }
   ],
   "source": [
    "find_epochs_and_alpha(sub_train_train, sub_train_test, [40, 40])"
   ]
  },
  {
   "cell_type": "code",
   "execution_count": 17,
   "id": "d4d99d27",
   "metadata": {},
   "outputs": [
    {
     "name": "stderr",
     "output_type": "stream",
     "text": [
      "/home/charlie/anaconda3/lib/python3.9/site-packages/sklearn/utils/validation.py:1688: FutureWarning: Feature names only support names that are all strings. Got feature names with dtypes: ['str', 'tuple']. An error will be raised in 1.2.\n",
      "  warnings.warn(\n",
      "/home/charlie/anaconda3/lib/python3.9/site-packages/sklearn/utils/validation.py:1688: FutureWarning: Feature names only support names that are all strings. Got feature names with dtypes: ['str', 'tuple']. An error will be raised in 1.2.\n",
      "  warnings.warn(\n",
      "/home/charlie/anaconda3/lib/python3.9/site-packages/sklearn/utils/validation.py:1688: FutureWarning: Feature names only support names that are all strings. Got feature names with dtypes: ['str', 'tuple']. An error will be raised in 1.2.\n",
      "  warnings.warn(\n",
      "/home/charlie/anaconda3/lib/python3.9/site-packages/sklearn/utils/validation.py:1688: FutureWarning: Feature names only support names that are all strings. Got feature names with dtypes: ['str', 'tuple']. An error will be raised in 1.2.\n",
      "  warnings.warn(\n"
     ]
    },
    {
     "name": "stdout",
     "output_type": "stream",
     "text": [
      "0.8268564356435644\n",
      "              precision    recall  f1-score   support\n",
      "\n",
      "           0       0.69      0.90      0.78      2767\n",
      "           1       0.94      0.79      0.86      5313\n",
      "\n",
      "    accuracy                           0.83      8080\n",
      "   macro avg       0.81      0.84      0.82      8080\n",
      "weighted avg       0.85      0.83      0.83      8080\n",
      "\n"
     ]
    },
    {
     "name": "stderr",
     "output_type": "stream",
     "text": [
      "/home/charlie/anaconda3/lib/python3.9/site-packages/sklearn/neural_network/_multilayer_perceptron.py:692: ConvergenceWarning: Stochastic Optimizer: Maximum iterations (30) reached and the optimization hasn't converged yet.\n",
      "  warnings.warn(\n"
     ]
    }
   ],
   "source": [
    "layers = [40, 40]\n",
    "\n",
    "scalar = StandardScaler()\n",
    "\n",
    "xs_train_std = scalar.fit_transform(sub_train_train_xs)\n",
    "xs_test_std = scalar.fit_transform(sub_train_test_xs)\n",
    "\n",
    "mlp = MLPClassifier(hidden_layer_sizes=layers, activation='logistic', alpha=.01,\n",
    "                            solver='adam', max_iter = 30, random_state=777,\n",
    "                            learning_rate_init=.1, verbose=False)\n",
    "\n",
    "mlp.fit(xs_train_std, sub_train_train_ys)\n",
    "\n",
    "print(mlp.score(xs_test_std, sub_train_test_ys))\n",
    "\n",
    "predictions = mlp.predict(xs_test_std)\n",
    "summary = classification_report(sub_train_test_ys, predictions)\n",
    "print(summary)"
   ]
  },
  {
   "cell_type": "markdown",
   "id": "217f34ec",
   "metadata": {},
   "source": [
    "## Triple layer, 40 neurons each"
   ]
  },
  {
   "cell_type": "code",
   "execution_count": 18,
   "id": "97b9bcc1",
   "metadata": {},
   "outputs": [
    {
     "name": "stderr",
     "output_type": "stream",
     "text": [
      "/home/charlie/anaconda3/lib/python3.9/site-packages/sklearn/utils/validation.py:1688: FutureWarning: Feature names only support names that are all strings. Got feature names with dtypes: ['str', 'tuple']. An error will be raised in 1.2.\n",
      "  warnings.warn(\n",
      "/home/charlie/anaconda3/lib/python3.9/site-packages/sklearn/utils/validation.py:1688: FutureWarning: Feature names only support names that are all strings. Got feature names with dtypes: ['str', 'tuple']. An error will be raised in 1.2.\n",
      "  warnings.warn(\n",
      "/home/charlie/anaconda3/lib/python3.9/site-packages/sklearn/utils/validation.py:1688: FutureWarning: Feature names only support names that are all strings. Got feature names with dtypes: ['str', 'tuple']. An error will be raised in 1.2.\n",
      "  warnings.warn(\n",
      "/home/charlie/anaconda3/lib/python3.9/site-packages/sklearn/utils/validation.py:1688: FutureWarning: Feature names only support names that are all strings. Got feature names with dtypes: ['str', 'tuple']. An error will be raised in 1.2.\n",
      "  warnings.warn(\n",
      "  0%|                                                     | 0/8 [00:00<?, ?it/s]/home/charlie/anaconda3/lib/python3.9/site-packages/sklearn/neural_network/_multilayer_perceptron.py:692: ConvergenceWarning: Stochastic Optimizer: Maximum iterations (1) reached and the optimization hasn't converged yet.\n",
      "  warnings.warn(\n",
      " 12%|█████▋                                       | 1/8 [00:00<00:01,  6.14it/s]/home/charlie/anaconda3/lib/python3.9/site-packages/sklearn/neural_network/_multilayer_perceptron.py:692: ConvergenceWarning: Stochastic Optimizer: Maximum iterations (26) reached and the optimization hasn't converged yet.\n",
      "  warnings.warn(\n",
      "100%|█████████████████████████████████████████████| 8/8 [00:24<00:00,  3.05s/it]\n"
     ]
    },
    {
     "data": {
      "image/png": "[encoded data removed]",
      "text/plain": [
       "<Figure size 432x288 with 1 Axes>"
      ]
     },
     "metadata": {
      "needs_background": "light"
     },
     "output_type": "display_data"
    },
    {
     "name": "stderr",
     "output_type": "stream",
     "text": [
      "/home/charlie/anaconda3/lib/python3.9/site-packages/sklearn/utils/validation.py:1688: FutureWarning: Feature names only support names that are all strings. Got feature names with dtypes: ['str', 'tuple']. An error will be raised in 1.2.\n",
      "  warnings.warn(\n",
      "/home/charlie/anaconda3/lib/python3.9/site-packages/sklearn/utils/validation.py:1688: FutureWarning: Feature names only support names that are all strings. Got feature names with dtypes: ['str', 'tuple']. An error will be raised in 1.2.\n",
      "  warnings.warn(\n",
      "/home/charlie/anaconda3/lib/python3.9/site-packages/sklearn/utils/validation.py:1688: FutureWarning: Feature names only support names that are all strings. Got feature names with dtypes: ['str', 'tuple']. An error will be raised in 1.2.\n",
      "  warnings.warn(\n",
      "/home/charlie/anaconda3/lib/python3.9/site-packages/sklearn/utils/validation.py:1688: FutureWarning: Feature names only support names that are all strings. Got feature names with dtypes: ['str', 'tuple']. An error will be raised in 1.2.\n",
      "  warnings.warn(\n",
      "  0%|                                                     | 0/8 [00:00<?, ?it/s]/home/charlie/anaconda3/lib/python3.9/site-packages/sklearn/neural_network/_multilayer_perceptron.py:692: ConvergenceWarning: Stochastic Optimizer: Maximum iterations (1) reached and the optimization hasn't converged yet.\n",
      "  warnings.warn(\n",
      " 12%|█████▋                                       | 1/8 [00:00<00:01,  5.63it/s]/home/charlie/anaconda3/lib/python3.9/site-packages/sklearn/neural_network/_multilayer_perceptron.py:692: ConvergenceWarning: Stochastic Optimizer: Maximum iterations (26) reached and the optimization hasn't converged yet.\n",
      "  warnings.warn(\n",
      " 25%|███████████▎                                 | 2/8 [00:03<00:10,  1.82s/it]/home/charlie/anaconda3/lib/python3.9/site-packages/sklearn/neural_network/_multilayer_perceptron.py:692: ConvergenceWarning: Stochastic Optimizer: Maximum iterations (51) reached and the optimization hasn't converged yet.\n",
      "  warnings.warn(\n",
      "100%|█████████████████████████████████████████████| 8/8 [00:38<00:00,  4.87s/it]\n"
     ]
    },
    {
     "data": {
      "image/png": "[encoded data removed]",
      "text/plain": [
       "<Figure size 432x288 with 1 Axes>"
      ]
     },
     "metadata": {
      "needs_background": "light"
     },
     "output_type": "display_data"
    },
    {
     "name": "stderr",
     "output_type": "stream",
     "text": [
      "/home/charlie/anaconda3/lib/python3.9/site-packages/sklearn/utils/validation.py:1688: FutureWarning: Feature names only support names that are all strings. Got feature names with dtypes: ['str', 'tuple']. An error will be raised in 1.2.\n",
      "  warnings.warn(\n",
      "/home/charlie/anaconda3/lib/python3.9/site-packages/sklearn/utils/validation.py:1688: FutureWarning: Feature names only support names that are all strings. Got feature names with dtypes: ['str', 'tuple']. An error will be raised in 1.2.\n",
      "  warnings.warn(\n",
      "/home/charlie/anaconda3/lib/python3.9/site-packages/sklearn/utils/validation.py:1688: FutureWarning: Feature names only support names that are all strings. Got feature names with dtypes: ['str', 'tuple']. An error will be raised in 1.2.\n",
      "  warnings.warn(\n",
      "/home/charlie/anaconda3/lib/python3.9/site-packages/sklearn/utils/validation.py:1688: FutureWarning: Feature names only support names that are all strings. Got feature names with dtypes: ['str', 'tuple']. An error will be raised in 1.2.\n",
      "  warnings.warn(\n",
      "  0%|                                                     | 0/8 [00:00<?, ?it/s]/home/charlie/anaconda3/lib/python3.9/site-packages/sklearn/neural_network/_multilayer_perceptron.py:692: ConvergenceWarning: Stochastic Optimizer: Maximum iterations (1) reached and the optimization hasn't converged yet.\n",
      "  warnings.warn(\n",
      " 12%|█████▋                                       | 1/8 [00:00<00:01,  4.61it/s]/home/charlie/anaconda3/lib/python3.9/site-packages/sklearn/neural_network/_multilayer_perceptron.py:692: ConvergenceWarning: Stochastic Optimizer: Maximum iterations (26) reached and the optimization hasn't converged yet.\n",
      "  warnings.warn(\n",
      "100%|█████████████████████████████████████████████| 8/8 [00:21<00:00,  2.71s/it]\n"
     ]
    },
    {
     "data": {
      "image/png": "[encoded data removed]",
      "text/plain": [
       "<Figure size 432x288 with 1 Axes>"
      ]
     },
     "metadata": {
      "needs_background": "light"
     },
     "output_type": "display_data"
    },
    {
     "name": "stderr",
     "output_type": "stream",
     "text": [
      "/home/charlie/anaconda3/lib/python3.9/site-packages/sklearn/utils/validation.py:1688: FutureWarning: Feature names only support names that are all strings. Got feature names with dtypes: ['str', 'tuple']. An error will be raised in 1.2.\n",
      "  warnings.warn(\n",
      "/home/charlie/anaconda3/lib/python3.9/site-packages/sklearn/utils/validation.py:1688: FutureWarning: Feature names only support names that are all strings. Got feature names with dtypes: ['str', 'tuple']. An error will be raised in 1.2.\n",
      "  warnings.warn(\n",
      "/home/charlie/anaconda3/lib/python3.9/site-packages/sklearn/utils/validation.py:1688: FutureWarning: Feature names only support names that are all strings. Got feature names with dtypes: ['str', 'tuple']. An error will be raised in 1.2.\n",
      "  warnings.warn(\n",
      "/home/charlie/anaconda3/lib/python3.9/site-packages/sklearn/utils/validation.py:1688: FutureWarning: Feature names only support names that are all strings. Got feature names with dtypes: ['str', 'tuple']. An error will be raised in 1.2.\n",
      "  warnings.warn(\n",
      "  0%|                                                     | 0/8 [00:00<?, ?it/s]/home/charlie/anaconda3/lib/python3.9/site-packages/sklearn/neural_network/_multilayer_perceptron.py:692: ConvergenceWarning: Stochastic Optimizer: Maximum iterations (1) reached and the optimization hasn't converged yet.\n",
      "  warnings.warn(\n",
      " 12%|█████▋                                       | 1/8 [00:00<00:01,  6.08it/s]/home/charlie/anaconda3/lib/python3.9/site-packages/sklearn/neural_network/_multilayer_perceptron.py:692: ConvergenceWarning: Stochastic Optimizer: Maximum iterations (26) reached and the optimization hasn't converged yet.\n",
      "  warnings.warn(\n",
      "100%|█████████████████████████████████████████████| 8/8 [00:20<00:00,  2.61s/it]\n"
     ]
    },
    {
     "data": {
      "image/png": "[encoded data removed]",
      "text/plain": [
       "<Figure size 432x288 with 1 Axes>"
      ]
     },
     "metadata": {
      "needs_background": "light"
     },
     "output_type": "display_data"
    },
    {
     "name": "stderr",
     "output_type": "stream",
     "text": [
      "/home/charlie/anaconda3/lib/python3.9/site-packages/sklearn/utils/validation.py:1688: FutureWarning: Feature names only support names that are all strings. Got feature names with dtypes: ['str', 'tuple']. An error will be raised in 1.2.\n",
      "  warnings.warn(\n",
      "/home/charlie/anaconda3/lib/python3.9/site-packages/sklearn/utils/validation.py:1688: FutureWarning: Feature names only support names that are all strings. Got feature names with dtypes: ['str', 'tuple']. An error will be raised in 1.2.\n",
      "  warnings.warn(\n",
      "/home/charlie/anaconda3/lib/python3.9/site-packages/sklearn/utils/validation.py:1688: FutureWarning: Feature names only support names that are all strings. Got feature names with dtypes: ['str', 'tuple']. An error will be raised in 1.2.\n",
      "  warnings.warn(\n",
      "/home/charlie/anaconda3/lib/python3.9/site-packages/sklearn/utils/validation.py:1688: FutureWarning: Feature names only support names that are all strings. Got feature names with dtypes: ['str', 'tuple']. An error will be raised in 1.2.\n",
      "  warnings.warn(\n",
      "  0%|                                                     | 0/8 [00:00<?, ?it/s]/home/charlie/anaconda3/lib/python3.9/site-packages/sklearn/neural_network/_multilayer_perceptron.py:692: ConvergenceWarning: Stochastic Optimizer: Maximum iterations (1) reached and the optimization hasn't converged yet.\n",
      "  warnings.warn(\n",
      " 12%|█████▋                                       | 1/8 [00:00<00:01,  6.30it/s]/home/charlie/anaconda3/lib/python3.9/site-packages/sklearn/neural_network/_multilayer_perceptron.py:692: ConvergenceWarning: Stochastic Optimizer: Maximum iterations (26) reached and the optimization hasn't converged yet.\n",
      "  warnings.warn(\n",
      "100%|█████████████████████████████████████████████| 8/8 [00:20<00:00,  2.60s/it]\n"
     ]
    },
    {
     "data": {
      "image/png": "[encoded data removed]",
      "text/plain": [
       "<Figure size 432x288 with 1 Axes>"
      ]
     },
     "metadata": {
      "needs_background": "light"
     },
     "output_type": "display_data"
    },
    {
     "name": "stderr",
     "output_type": "stream",
     "text": [
      "/home/charlie/anaconda3/lib/python3.9/site-packages/sklearn/utils/validation.py:1688: FutureWarning: Feature names only support names that are all strings. Got feature names with dtypes: ['str', 'tuple']. An error will be raised in 1.2.\n",
      "  warnings.warn(\n",
      "/home/charlie/anaconda3/lib/python3.9/site-packages/sklearn/utils/validation.py:1688: FutureWarning: Feature names only support names that are all strings. Got feature names with dtypes: ['str', 'tuple']. An error will be raised in 1.2.\n",
      "  warnings.warn(\n",
      "/home/charlie/anaconda3/lib/python3.9/site-packages/sklearn/utils/validation.py:1688: FutureWarning: Feature names only support names that are all strings. Got feature names with dtypes: ['str', 'tuple']. An error will be raised in 1.2.\n",
      "  warnings.warn(\n",
      "/home/charlie/anaconda3/lib/python3.9/site-packages/sklearn/utils/validation.py:1688: FutureWarning: Feature names only support names that are all strings. Got feature names with dtypes: ['str', 'tuple']. An error will be raised in 1.2.\n",
      "  warnings.warn(\n",
      "  0%|                                                     | 0/8 [00:00<?, ?it/s]/home/charlie/anaconda3/lib/python3.9/site-packages/sklearn/neural_network/_multilayer_perceptron.py:692: ConvergenceWarning: Stochastic Optimizer: Maximum iterations (1) reached and the optimization hasn't converged yet.\n",
      "  warnings.warn(\n",
      " 12%|█████▋                                       | 1/8 [00:00<00:01,  5.85it/s]/home/charlie/anaconda3/lib/python3.9/site-packages/sklearn/neural_network/_multilayer_perceptron.py:692: ConvergenceWarning: Stochastic Optimizer: Maximum iterations (26) reached and the optimization hasn't converged yet.\n",
      "  warnings.warn(\n",
      "100%|█████████████████████████████████████████████| 8/8 [00:21<00:00,  2.63s/it]\n"
     ]
    },
    {
     "data": {
      "image/png": "[encoded data removed]",
      "text/plain": [
       "<Figure size 432x288 with 1 Axes>"
      ]
     },
     "metadata": {
      "needs_background": "light"
     },
     "output_type": "display_data"
    },
    {
     "name": "stderr",
     "output_type": "stream",
     "text": [
      "/home/charlie/anaconda3/lib/python3.9/site-packages/sklearn/utils/validation.py:1688: FutureWarning: Feature names only support names that are all strings. Got feature names with dtypes: ['str', 'tuple']. An error will be raised in 1.2.\n",
      "  warnings.warn(\n",
      "/home/charlie/anaconda3/lib/python3.9/site-packages/sklearn/utils/validation.py:1688: FutureWarning: Feature names only support names that are all strings. Got feature names with dtypes: ['str', 'tuple']. An error will be raised in 1.2.\n",
      "  warnings.warn(\n",
      "/home/charlie/anaconda3/lib/python3.9/site-packages/sklearn/utils/validation.py:1688: FutureWarning: Feature names only support names that are all strings. Got feature names with dtypes: ['str', 'tuple']. An error will be raised in 1.2.\n",
      "  warnings.warn(\n",
      "/home/charlie/anaconda3/lib/python3.9/site-packages/sklearn/utils/validation.py:1688: FutureWarning: Feature names only support names that are all strings. Got feature names with dtypes: ['str', 'tuple']. An error will be raised in 1.2.\n",
      "  warnings.warn(\n",
      "  0%|                                                     | 0/8 [00:00<?, ?it/s]/home/charlie/anaconda3/lib/python3.9/site-packages/sklearn/neural_network/_multilayer_perceptron.py:692: ConvergenceWarning: Stochastic Optimizer: Maximum iterations (1) reached and the optimization hasn't converged yet.\n",
      "  warnings.warn(\n",
      " 12%|█████▋                                       | 1/8 [00:00<00:01,  5.67it/s]/home/charlie/anaconda3/lib/python3.9/site-packages/sklearn/neural_network/_multilayer_perceptron.py:692: ConvergenceWarning: Stochastic Optimizer: Maximum iterations (26) reached and the optimization hasn't converged yet.\n",
      "  warnings.warn(\n",
      "100%|█████████████████████████████████████████████| 8/8 [00:20<00:00,  2.62s/it]\n"
     ]
    },
    {
     "data": {
      "image/png": "[encoded data removed]",
      "text/plain": [
       "<Figure size 432x288 with 1 Axes>"
      ]
     },
     "metadata": {
      "needs_background": "light"
     },
     "output_type": "display_data"
    },
    {
     "name": "stderr",
     "output_type": "stream",
     "text": [
      "/home/charlie/anaconda3/lib/python3.9/site-packages/sklearn/utils/validation.py:1688: FutureWarning: Feature names only support names that are all strings. Got feature names with dtypes: ['str', 'tuple']. An error will be raised in 1.2.\n",
      "  warnings.warn(\n",
      "/home/charlie/anaconda3/lib/python3.9/site-packages/sklearn/utils/validation.py:1688: FutureWarning: Feature names only support names that are all strings. Got feature names with dtypes: ['str', 'tuple']. An error will be raised in 1.2.\n",
      "  warnings.warn(\n",
      "/home/charlie/anaconda3/lib/python3.9/site-packages/sklearn/utils/validation.py:1688: FutureWarning: Feature names only support names that are all strings. Got feature names with dtypes: ['str', 'tuple']. An error will be raised in 1.2.\n",
      "  warnings.warn(\n",
      "/home/charlie/anaconda3/lib/python3.9/site-packages/sklearn/utils/validation.py:1688: FutureWarning: Feature names only support names that are all strings. Got feature names with dtypes: ['str', 'tuple']. An error will be raised in 1.2.\n",
      "  warnings.warn(\n",
      "  0%|                                                     | 0/8 [00:00<?, ?it/s]/home/charlie/anaconda3/lib/python3.9/site-packages/sklearn/neural_network/_multilayer_perceptron.py:692: ConvergenceWarning: Stochastic Optimizer: Maximum iterations (1) reached and the optimization hasn't converged yet.\n",
      "  warnings.warn(\n",
      "100%|█████████████████████████████████████████████| 8/8 [00:19<00:00,  2.45s/it]\n"
     ]
    },
    {
     "data": {
      "image/png": "[encoded data removed]",
      "text/plain": [
       "<Figure size 432x288 with 1 Axes>"
      ]
     },
     "metadata": {
      "needs_background": "light"
     },
     "output_type": "display_data"
    },
    {
     "name": "stderr",
     "output_type": "stream",
     "text": [
      "/home/charlie/anaconda3/lib/python3.9/site-packages/sklearn/utils/validation.py:1688: FutureWarning: Feature names only support names that are all strings. Got feature names with dtypes: ['str', 'tuple']. An error will be raised in 1.2.\n",
      "  warnings.warn(\n",
      "/home/charlie/anaconda3/lib/python3.9/site-packages/sklearn/utils/validation.py:1688: FutureWarning: Feature names only support names that are all strings. Got feature names with dtypes: ['str', 'tuple']. An error will be raised in 1.2.\n",
      "  warnings.warn(\n",
      "/home/charlie/anaconda3/lib/python3.9/site-packages/sklearn/utils/validation.py:1688: FutureWarning: Feature names only support names that are all strings. Got feature names with dtypes: ['str', 'tuple']. An error will be raised in 1.2.\n",
      "  warnings.warn(\n",
      "/home/charlie/anaconda3/lib/python3.9/site-packages/sklearn/utils/validation.py:1688: FutureWarning: Feature names only support names that are all strings. Got feature names with dtypes: ['str', 'tuple']. An error will be raised in 1.2.\n",
      "  warnings.warn(\n",
      "  0%|                                                     | 0/8 [00:00<?, ?it/s]/home/charlie/anaconda3/lib/python3.9/site-packages/sklearn/neural_network/_multilayer_perceptron.py:692: ConvergenceWarning: Stochastic Optimizer: Maximum iterations (1) reached and the optimization hasn't converged yet.\n",
      "  warnings.warn(\n",
      "100%|█████████████████████████████████████████████| 8/8 [00:19<00:00,  2.42s/it]\n"
     ]
    },
    {
     "data": {
      "image/png": "[encoded data removed]",
      "text/plain": [
       "<Figure size 432x288 with 1 Axes>"
      ]
     },
     "metadata": {
      "needs_background": "light"
     },
     "output_type": "display_data"
    },
    {
     "name": "stderr",
     "output_type": "stream",
     "text": [
      "/home/charlie/anaconda3/lib/python3.9/site-packages/sklearn/utils/validation.py:1688: FutureWarning: Feature names only support names that are all strings. Got feature names with dtypes: ['str', 'tuple']. An error will be raised in 1.2.\n",
      "  warnings.warn(\n",
      "/home/charlie/anaconda3/lib/python3.9/site-packages/sklearn/utils/validation.py:1688: FutureWarning: Feature names only support names that are all strings. Got feature names with dtypes: ['str', 'tuple']. An error will be raised in 1.2.\n",
      "  warnings.warn(\n",
      "/home/charlie/anaconda3/lib/python3.9/site-packages/sklearn/utils/validation.py:1688: FutureWarning: Feature names only support names that are all strings. Got feature names with dtypes: ['str', 'tuple']. An error will be raised in 1.2.\n",
      "  warnings.warn(\n",
      "/home/charlie/anaconda3/lib/python3.9/site-packages/sklearn/utils/validation.py:1688: FutureWarning: Feature names only support names that are all strings. Got feature names with dtypes: ['str', 'tuple']. An error will be raised in 1.2.\n",
      "  warnings.warn(\n",
      "  0%|                                                     | 0/8 [00:00<?, ?it/s]/home/charlie/anaconda3/lib/python3.9/site-packages/sklearn/neural_network/_multilayer_perceptron.py:692: ConvergenceWarning: Stochastic Optimizer: Maximum iterations (1) reached and the optimization hasn't converged yet.\n",
      "  warnings.warn(\n",
      "100%|█████████████████████████████████████████████| 8/8 [00:19<00:00,  2.44s/it]\n"
     ]
    },
    {
     "data": {
      "image/png": "[encoded data removed]",
      "text/plain": [
       "<Figure size 432x288 with 1 Axes>"
      ]
     },
     "metadata": {
      "needs_background": "light"
     },
     "output_type": "display_data"
    }
   ],
   "source": [
    "find_epochs_and_alpha(sub_train_train, sub_train_test, [40, 40, 40])"
   ]
  },
  {
   "cell_type": "code",
   "execution_count": 38,
   "id": "c54a1c77",
   "metadata": {},
   "outputs": [
    {
     "name": "stderr",
     "output_type": "stream",
     "text": [
      "/home/charlie/anaconda3/lib/python3.9/site-packages/sklearn/utils/validation.py:1688: FutureWarning: Feature names only support names that are all strings. Got feature names with dtypes: ['str', 'tuple']. An error will be raised in 1.2.\n",
      "  warnings.warn(\n",
      "/home/charlie/anaconda3/lib/python3.9/site-packages/sklearn/utils/validation.py:1688: FutureWarning: Feature names only support names that are all strings. Got feature names with dtypes: ['str', 'tuple']. An error will be raised in 1.2.\n",
      "  warnings.warn(\n",
      "/home/charlie/anaconda3/lib/python3.9/site-packages/sklearn/utils/validation.py:1688: FutureWarning: Feature names only support names that are all strings. Got feature names with dtypes: ['str', 'tuple']. An error will be raised in 1.2.\n",
      "  warnings.warn(\n",
      "/home/charlie/anaconda3/lib/python3.9/site-packages/sklearn/utils/validation.py:1688: FutureWarning: Feature names only support names that are all strings. Got feature names with dtypes: ['str', 'tuple']. An error will be raised in 1.2.\n",
      "  warnings.warn(\n"
     ]
    },
    {
     "name": "stdout",
     "output_type": "stream",
     "text": [
      "0.8362623762376238\n",
      "              precision    recall  f1-score   support\n",
      "\n",
      "           0       0.76      0.77      0.76      2767\n",
      "           1       0.88      0.87      0.88      5313\n",
      "\n",
      "    accuracy                           0.84      8080\n",
      "   macro avg       0.82      0.82      0.82      8080\n",
      "weighted avg       0.84      0.84      0.84      8080\n",
      "\n"
     ]
    },
    {
     "name": "stderr",
     "output_type": "stream",
     "text": [
      "/home/charlie/anaconda3/lib/python3.9/site-packages/sklearn/neural_network/_multilayer_perceptron.py:692: ConvergenceWarning: Stochastic Optimizer: Maximum iterations (30) reached and the optimization hasn't converged yet.\n",
      "  warnings.warn(\n"
     ]
    }
   ],
   "source": [
    "layers = [40, 40, 40]\n",
    "\n",
    "scalar = StandardScaler()\n",
    "\n",
    "xs_train_std = scalar.fit_transform(sub_train_train_xs)\n",
    "xs_test_std = scalar.fit_transform(sub_train_test_xs)\n",
    "\n",
    "mlp = MLPClassifier(hidden_layer_sizes=layers, activation='logistic', alpha=.01,\n",
    "                            solver='adam', max_iter = 30, random_state=777,\n",
    "                            learning_rate_init=.1, verbose=False)\n",
    "\n",
    "mlp.fit(xs_train_std, sub_train_train_ys)\n",
    "\n",
    "print(mlp.score(xs_test_std, sub_train_test_ys))\n",
    "\n",
    "predictions = mlp.predict(xs_test_std)\n",
    "summary = classification_report(sub_train_test_ys, predictions)\n",
    "print(summary)"
   ]
  },
  {
   "cell_type": "markdown",
   "id": "f9e57608",
   "metadata": {},
   "source": [
    "## Testing on the Validation Set"
   ]
  },
  {
   "cell_type": "code",
   "execution_count": 19,
   "id": "bf5fdcc4",
   "metadata": {},
   "outputs": [
    {
     "name": "stdout",
     "output_type": "stream",
     "text": [
      "SCORE:  0.8431930693069307\n",
      "AUC:  0.18478064759083962\n",
      "              precision    recall  f1-score   support\n",
      "\n",
      "           0       0.73      0.85      0.78      2686\n",
      "           1       0.92      0.84      0.88      5394\n",
      "\n",
      "    accuracy                           0.84      8080\n",
      "   macro avg       0.82      0.84      0.83      8080\n",
      "weighted avg       0.85      0.84      0.85      8080\n",
      "\n"
     ]
    },
    {
     "name": "stderr",
     "output_type": "stream",
     "text": [
      "/home/charlie/anaconda3/lib/python3.9/site-packages/sklearn/neural_network/_multilayer_perceptron.py:692: ConvergenceWarning: Stochastic Optimizer: Maximum iterations (30) reached and the optimization hasn't converged yet.\n",
      "  warnings.warn(\n",
      "/home/charlie/anaconda3/lib/python3.9/site-packages/sklearn/utils/validation.py:1688: FutureWarning: Feature names only support names that are all strings. Got feature names with dtypes: ['str', 'tuple']. An error will be raised in 1.2.\n",
      "  warnings.warn(\n"
     ]
    }
   ],
   "source": [
    "layers = [40, 40, 40]\n",
    "\n",
    "scalar = StandardScaler()\n",
    "\n",
    "xs_train_std = scalar.fit_transform(train_xs.values)\n",
    "xs_test_std = scalar.fit_transform(val_test_xs.values)\n",
    "\n",
    "mlp = MLPClassifier(hidden_layer_sizes=layers, activation='logistic', alpha=.01,\n",
    "                            solver='adam', max_iter = 30, random_state=777,\n",
    "                            learning_rate_init=.1, verbose=False)\n",
    "\n",
    "mlp.fit(xs_train_std, train_ys)\n",
    "\n",
    "print('SCORE: ', mlp.score(xs_test_std, val_test_ys.values))\n",
    "\n",
    "y_pred_proba = mlp.predict_proba(val_test_xs)[::,1]\n",
    "auc = metrics.roc_auc_score(val_test_ys.values, y_pred_proba)\n",
    "print('AUC: ', auc)\n",
    "\n",
    "predictions = mlp.predict(xs_test_std)\n",
    "summary = classification_report(val_test_ys.values, predictions)\n",
    "print(summary)"
   ]
  },
  {
   "cell_type": "markdown",
   "id": "448782d4",
   "metadata": {},
   "source": [
    "# KNN"
   ]
  },
  {
   "cell_type": "markdown",
   "id": "d6b8a10a",
   "metadata": {},
   "source": [
    "## Hyper-Parameter Tuning"
   ]
  },
  {
   "cell_type": "code",
   "execution_count": 21,
   "id": "4bcb6b16",
   "metadata": {},
   "outputs": [
    {
     "name": "stdout",
     "output_type": "stream",
     "text": [
      "1 0.4592287982138216\n",
      "2 0.46525304516961946\n",
      "3 0.4412235463138637\n",
      "4 0.4382684199446637\n",
      "5 0.42580732871583926\n",
      "6 0.42769240357903004\n",
      "7 0.4199540286014814\n",
      "8 0.4156588471664266\n",
      "9 0.41326998343446236\n",
      "10 0.41297040384928985\n",
      "11 0.41252062654700394\n",
      "12 0.4122205023700998\n",
      "13 0.4092071542012737\n",
      "14 0.41192015952339867\n",
      "15 0.41026434366535963\n",
      "16 0.4104151484282786\n",
      "17 0.41101781416911415\n",
      "18 0.4096605694696743\n",
      "19 0.4078438839352214\n",
      "20 0.4092071542012737\n",
      "21 0.4081472263973401\n",
      "22 0.4104151484282786\n",
      "23 0.4064760414553701\n",
      "24 0.40708453886407703\n",
      "25 0.40341978725946903\n",
      "26 0.4044921029960148\n",
      "27 0.4035731496627506\n",
      "28 0.4041860173653504\n",
      "29 0.4044921029960148\n",
      "30 0.4044921029960148\n",
      "31 0.4051035804471359\n",
      "32 0.40525630564782916\n"
     ]
    }
   ],
   "source": [
    "scaler = StandardScaler()\n",
    "xs_train_std = scaler.fit_transform(sub_train_train_xs.values)\n",
    "xs_test_std = scaler.fit_transform(sub_train_test_xs.values)\n",
    "\n",
    "for i in range(1, 33):\n",
    "    knn = KNeighborsClassifier(n_neighbors=i)\n",
    "    knn.fit(xs_train_std, sub_train_train_ys)\n",
    "    print(i, np.sqrt(mean_squared_error(sub_train_test_ys.values, knn.predict(xs_test_std))))"
   ]
  },
  {
   "cell_type": "markdown",
   "id": "dbf8520e",
   "metadata": {},
   "source": [
    "## Testing on Validation Set"
   ]
  },
  {
   "cell_type": "code",
   "execution_count": 23,
   "id": "41581b44",
   "metadata": {},
   "outputs": [
    {
     "name": "stdout",
     "output_type": "stream",
     "text": [
      "SCORE:  0.842079207920792\n",
      "AUC:  0.7155256619762562\n",
      "              precision    recall  f1-score   support\n",
      "\n",
      "           0       0.73      0.84      0.78      2686\n",
      "           1       0.91      0.85      0.88      5394\n",
      "\n",
      "    accuracy                           0.84      8080\n",
      "   macro avg       0.82      0.84      0.83      8080\n",
      "weighted avg       0.85      0.84      0.84      8080\n",
      "\n"
     ]
    }
   ],
   "source": [
    "scaler = StandardScaler()\n",
    "xs_train_std = scaler.fit_transform(train_xs.values)\n",
    "xs_test_std = scaler.fit_transform(val_test_xs.values)\n",
    "\n",
    "knn = KNeighborsClassifier(n_neighbors=25)\n",
    "knn.fit(xs_train_std, train_ys.values)\n",
    "print('SCORE: ', knn.score(xs_test_std, val_test_ys.values))\n",
    "\n",
    "y_pred_proba = knn.predict_proba(val_test_xs.values)[::,1]\n",
    "auc = metrics.roc_auc_score(val_test_ys.values, y_pred_proba)\n",
    "print('AUC: ', auc)\n",
    "\n",
    "predictions = knn.predict(xs_test_std)\n",
    "summary = classification_report(val_test_ys.values, predictions)\n",
    "print(summary)"
   ]
  },
  {
   "cell_type": "markdown",
   "id": "593b12a8",
   "metadata": {},
   "source": [
    "# RF"
   ]
  },
  {
   "cell_type": "markdown",
   "id": "e6ba51af",
   "metadata": {},
   "source": [
    "## Hyper Parameter Tuning"
   ]
  },
  {
   "cell_type": "code",
   "execution_count": 24,
   "id": "b5bdc43f",
   "metadata": {},
   "outputs": [
    {
     "name": "stdout",
     "output_type": "stream",
     "text": [
      "0.8451732673267327\n",
      "              precision    recall  f1-score   support\n",
      "\n",
      "           0       0.75      0.82      0.78      2767\n",
      "           1       0.90      0.86      0.88      5313\n",
      "\n",
      "    accuracy                           0.85      8080\n",
      "   macro avg       0.83      0.84      0.83      8080\n",
      "weighted avg       0.85      0.85      0.85      8080\n",
      "\n"
     ]
    }
   ],
   "source": [
    "classifier = RandomForestClassifier()\n",
    "classifier.fit(sub_train_train_xs.values, sub_train_train_ys.values)\n",
    "\n",
    "print(classifier.score(sub_train_test_xs.values, sub_train_test_ys.values))\n",
    "\n",
    "predictions = classifier.predict(sub_train_test_xs.values)\n",
    "summary = classification_report(sub_train_test_ys.values, predictions)\n",
    "print(summary)"
   ]
  },
  {
   "cell_type": "markdown",
   "id": "427bffa8",
   "metadata": {},
   "source": [
    "## Testing on the Validation Set"
   ]
  },
  {
   "cell_type": "code",
   "execution_count": 25,
   "id": "b1623775",
   "metadata": {},
   "outputs": [
    {
     "name": "stdout",
     "output_type": "stream",
     "text": [
      "SCORE:  0.8549504950495049\n",
      "AUC:  0.9252385582723254\n",
      "              precision    recall  f1-score   support\n",
      "\n",
      "           0       0.75      0.85      0.80      2686\n",
      "           1       0.92      0.86      0.89      5394\n",
      "\n",
      "    accuracy                           0.85      8080\n",
      "   macro avg       0.83      0.85      0.84      8080\n",
      "weighted avg       0.86      0.85      0.86      8080\n",
      "\n"
     ]
    }
   ],
   "source": [
    "classifier = RandomForestClassifier()\n",
    "classifier.fit(train_xs.values,train_ys.values)\n",
    "\n",
    "print('SCORE: ', classifier.score(val_test_xs.values, val_test_ys.values))\n",
    "\n",
    "y_pred_proba = classifier.predict_proba(val_test_xs.values)[::,1]\n",
    "auc = metrics.roc_auc_score(val_test_ys.values, y_pred_proba)\n",
    "print('AUC: ', auc)\n",
    "\n",
    "predictions = classifier.predict(val_test_xs.values)\n",
    "summary = classification_report(val_test_ys.values, predictions)\n",
    "print(summary)\n"
   ]
  },
  {
   "cell_type": "markdown",
   "id": "8b13f297",
   "metadata": {},
   "source": [
    "# Logistic GAM"
   ]
  },
  {
   "cell_type": "markdown",
   "id": "f99a49d1",
   "metadata": {},
   "source": [
    "## Hyper Parameter Tuning"
   ]
  },
  {
   "cell_type": "code",
   "execution_count": 11,
   "id": "e295acab",
   "metadata": {},
   "outputs": [
    {
     "name": "stdout",
     "output_type": "stream",
     "text": [
      "SCORE:  0.8620049504950495\n",
      "              precision    recall  f1-score   support\n",
      "\n",
      "           0       0.79      0.80      0.80      2767\n",
      "           1       0.90      0.89      0.89      5313\n",
      "\n",
      "    accuracy                           0.86      8080\n",
      "   macro avg       0.85      0.85      0.85      8080\n",
      "weighted avg       0.86      0.86      0.86      8080\n",
      "\n"
     ]
    }
   ],
   "source": [
    "logGAM1 = LogisticGAM() #unfortunately tuning takes too long and kills the kernel due to 26 parameters\n",
    "logGAM1.fit(sub_train_test_xs, sub_train_test_ys)\n",
    "print('SCORE: ', logGAM1.accuracy(sub_train_test_xs, sub_train_test_ys))\n",
    "\n",
    "predictions = logGAM1.predict(sub_train_test_xs)\n",
    "summary = classification_report(sub_train_test_ys, predictions)\n",
    "print(summary)"
   ]
  },
  {
   "cell_type": "code",
   "execution_count": 14,
   "id": "ebe24c02",
   "metadata": {},
   "outputs": [
    {
     "name": "stdout",
     "output_type": "stream",
     "text": [
      "SCORE:  0.8419554455445545\n",
      "here\n",
      "AUC:  0.922498137115479\n",
      "              precision    recall  f1-score   support\n",
      "\n",
      "           0       0.74      0.81      0.77      2686\n",
      "           1       0.90      0.86      0.88      5394\n",
      "\n",
      "    accuracy                           0.84      8080\n",
      "   macro avg       0.82      0.83      0.83      8080\n",
      "weighted avg       0.85      0.84      0.84      8080\n",
      "\n"
     ]
    }
   ],
   "source": [
    "logGAM1 = LogisticGAM()\n",
    "logGAM1.fit(train_xs, train_ys)\n",
    "\n",
    "print('SCORE: ', logGAM1.accuracy(val_test_xs, val_test_ys))\n",
    "\n",
    "y_pred_proba = logGAM1.predict_proba(val_test_xs.values)\n",
    "print('here')\n",
    "auc = metrics.roc_auc_score(val_test_ys, y_pred_proba)\n",
    "print('AUC: ', auc)\n",
    "\n",
    "predictions = logGAM1.predict(val_test_xs)\n",
    "summary = classification_report(val_test_ys, predictions)\n",
    "print(summary)"
   ]
  },
  {
   "cell_type": "markdown",
   "id": "f7948528",
   "metadata": {},
   "source": [
    "# Trees"
   ]
  },
  {
   "cell_type": "markdown",
   "id": "5c628eba",
   "metadata": {},
   "source": [
    "## Hyper Parameter Tuning"
   ]
  },
  {
   "cell_type": "code",
   "execution_count": 28,
   "id": "3878e2e0",
   "metadata": {},
   "outputs": [
    {
     "name": "stdout",
     "output_type": "stream",
     "text": [
      "SCORE:  0.8227722772277227\n",
      "              precision    recall  f1-score   support\n",
      "\n",
      "           0       0.73      0.75      0.74      2767\n",
      "           1       0.87      0.86      0.86      5313\n",
      "\n",
      "    accuracy                           0.82      8080\n",
      "   macro avg       0.80      0.81      0.80      8080\n",
      "weighted avg       0.82      0.82      0.82      8080\n",
      "\n"
     ]
    }
   ],
   "source": [
    "clf = tree.DecisionTreeClassifier(max_depth = 7)\n",
    "clf.fit(sub_train_train_xs.values, sub_train_train_ys.values)\n",
    "\n",
    "\n",
    "print('SCORE: ', clf.score(sub_train_test_xs.values, sub_train_test_ys.values))\n",
    "\n",
    "predictions = clf.predict(sub_train_test_xs.values)\n",
    "summary = classification_report(sub_train_test_ys.values, predictions)\n",
    "print(summary)"
   ]
  },
  {
   "cell_type": "markdown",
   "id": "2a4fd416",
   "metadata": {},
   "source": [
    "## Testing on the Validation Set"
   ]
  },
  {
   "cell_type": "code",
   "execution_count": 29,
   "id": "fd910120",
   "metadata": {},
   "outputs": [
    {
     "name": "stdout",
     "output_type": "stream",
     "text": [
      "SCORE:  0.8330445544554456\n",
      "AUC:  0.9097452120623809\n",
      "              precision    recall  f1-score   support\n",
      "\n",
      "           0       0.72      0.81      0.76      2686\n",
      "           1       0.90      0.85      0.87      5394\n",
      "\n",
      "    accuracy                           0.83      8080\n",
      "   macro avg       0.81      0.83      0.82      8080\n",
      "weighted avg       0.84      0.83      0.84      8080\n",
      "\n"
     ]
    },
    {
     "name": "stderr",
     "output_type": "stream",
     "text": [
      "/home/charlie/anaconda3/lib/python3.9/site-packages/sklearn/utils/validation.py:1688: FutureWarning: Feature names only support names that are all strings. Got feature names with dtypes: ['str', 'tuple']. An error will be raised in 1.2.\n",
      "  warnings.warn(\n"
     ]
    }
   ],
   "source": [
    "clf = tree.DecisionTreeClassifier(max_depth = 7)\n",
    "clf.fit(train_xs.values,train_ys.values)\n",
    "\n",
    "print('SCORE: ', clf.score(val_test_xs.values, val_test_ys.values))\n",
    "\n",
    "y_pred_proba = clf.predict_proba(val_test_xs.values)[::,1]\n",
    "auc = metrics.roc_auc_score(val_test_ys.values, y_pred_proba)\n",
    "print('AUC: ', auc)\n",
    "\n",
    "predictions = clf.predict(val_test_xs)\n",
    "summary = classification_report(val_test_ys.values, predictions)\n",
    "print(summary)"
   ]
  },
  {
   "cell_type": "markdown",
   "id": "6ca209d3",
   "metadata": {},
   "source": [
    "# SVC"
   ]
  },
  {
   "cell_type": "markdown",
   "id": "9cc96d1f",
   "metadata": {},
   "source": [
    "## Hyper Parameter Tuning"
   ]
  },
  {
   "cell_type": "code",
   "execution_count": 9,
   "id": "28e6d88f",
   "metadata": {},
   "outputs": [
    {
     "name": "stdout",
     "output_type": "stream",
     "text": [
      "Fitting 5 folds for each of 25 candidates, totalling 125 fits\n"
     ]
    },
    {
     "ename": "KeyboardInterrupt",
     "evalue": "",
     "output_type": "error",
     "traceback": [
      "\u001b[0;31m---------------------------------------------------------------------------\u001b[0m",
      "\u001b[0;31mKeyboardInterrupt\u001b[0m                         Traceback (most recent call last)",
      "Input \u001b[0;32mIn [9]\u001b[0m, in \u001b[0;36m<cell line: 9>\u001b[0;34m()\u001b[0m\n\u001b[1;32m      3\u001b[0m param_grid \u001b[38;5;241m=\u001b[39m {\u001b[38;5;124m'\u001b[39m\u001b[38;5;124mC\u001b[39m\u001b[38;5;124m'\u001b[39m: [\u001b[38;5;241m0.1\u001b[39m, \u001b[38;5;241m1\u001b[39m, \u001b[38;5;241m10\u001b[39m, \u001b[38;5;241m100\u001b[39m, \u001b[38;5;241m1000\u001b[39m],\n\u001b[1;32m      4\u001b[0m               \u001b[38;5;124m'\u001b[39m\u001b[38;5;124mgamma\u001b[39m\u001b[38;5;124m'\u001b[39m: [\u001b[38;5;241m1\u001b[39m, \u001b[38;5;241m0.1\u001b[39m, \u001b[38;5;241m0.01\u001b[39m, \u001b[38;5;241m0.001\u001b[39m, \u001b[38;5;241m0.0001\u001b[39m],\n\u001b[1;32m      5\u001b[0m               \u001b[38;5;124m'\u001b[39m\u001b[38;5;124mkernel\u001b[39m\u001b[38;5;124m'\u001b[39m: [\u001b[38;5;124m'\u001b[39m\u001b[38;5;124mrbf\u001b[39m\u001b[38;5;124m'\u001b[39m]}\n\u001b[1;32m      7\u001b[0m gridrbf \u001b[38;5;241m=\u001b[39m GridSearchCV(SVC(), param_grid, refit \u001b[38;5;241m=\u001b[39m \u001b[38;5;28;01mTrue\u001b[39;00m, verbose \u001b[38;5;241m=\u001b[39m \u001b[38;5;241m3\u001b[39m)\n\u001b[0;32m----> 9\u001b[0m \u001b[43mgridrbf\u001b[49m\u001b[38;5;241;43m.\u001b[39;49m\u001b[43mfit\u001b[49m\u001b[43m(\u001b[49m\u001b[43msub_train_train_xs\u001b[49m\u001b[38;5;241;43m.\u001b[39;49m\u001b[43mvalues\u001b[49m\u001b[43m,\u001b[49m\u001b[43m \u001b[49m\u001b[43msub_train_train_ys\u001b[49m\u001b[38;5;241;43m.\u001b[39;49m\u001b[43mvalues\u001b[49m\u001b[43m)\u001b[49m\n",
      "File \u001b[0;32m~/anaconda3/lib/python3.9/site-packages/sklearn/model_selection/_search.py:891\u001b[0m, in \u001b[0;36mBaseSearchCV.fit\u001b[0;34m(self, X, y, groups, **fit_params)\u001b[0m\n\u001b[1;32m    885\u001b[0m     results \u001b[38;5;241m=\u001b[39m \u001b[38;5;28mself\u001b[39m\u001b[38;5;241m.\u001b[39m_format_results(\n\u001b[1;32m    886\u001b[0m         all_candidate_params, n_splits, all_out, all_more_results\n\u001b[1;32m    887\u001b[0m     )\n\u001b[1;32m    889\u001b[0m     \u001b[38;5;28;01mreturn\u001b[39;00m results\n\u001b[0;32m--> 891\u001b[0m \u001b[38;5;28;43mself\u001b[39;49m\u001b[38;5;241;43m.\u001b[39;49m\u001b[43m_run_search\u001b[49m\u001b[43m(\u001b[49m\u001b[43mevaluate_candidates\u001b[49m\u001b[43m)\u001b[49m\n\u001b[1;32m    893\u001b[0m \u001b[38;5;66;03m# multimetric is determined here because in the case of a callable\u001b[39;00m\n\u001b[1;32m    894\u001b[0m \u001b[38;5;66;03m# self.scoring the return type is only known after calling\u001b[39;00m\n\u001b[1;32m    895\u001b[0m first_test_score \u001b[38;5;241m=\u001b[39m all_out[\u001b[38;5;241m0\u001b[39m][\u001b[38;5;124m\"\u001b[39m\u001b[38;5;124mtest_scores\u001b[39m\u001b[38;5;124m\"\u001b[39m]\n",
      "File \u001b[0;32m~/anaconda3/lib/python3.9/site-packages/sklearn/model_selection/_search.py:1392\u001b[0m, in \u001b[0;36mGridSearchCV._run_search\u001b[0;34m(self, evaluate_candidates)\u001b[0m\n\u001b[1;32m   1390\u001b[0m \u001b[38;5;28;01mdef\u001b[39;00m \u001b[38;5;21m_run_search\u001b[39m(\u001b[38;5;28mself\u001b[39m, evaluate_candidates):\n\u001b[1;32m   1391\u001b[0m     \u001b[38;5;124;03m\"\"\"Search all candidates in param_grid\"\"\"\u001b[39;00m\n\u001b[0;32m-> 1392\u001b[0m     \u001b[43mevaluate_candidates\u001b[49m\u001b[43m(\u001b[49m\u001b[43mParameterGrid\u001b[49m\u001b[43m(\u001b[49m\u001b[38;5;28;43mself\u001b[39;49m\u001b[38;5;241;43m.\u001b[39;49m\u001b[43mparam_grid\u001b[49m\u001b[43m)\u001b[49m\u001b[43m)\u001b[49m\n",
      "File \u001b[0;32m~/anaconda3/lib/python3.9/site-packages/sklearn/model_selection/_search.py:838\u001b[0m, in \u001b[0;36mBaseSearchCV.fit.<locals>.evaluate_candidates\u001b[0;34m(candidate_params, cv, more_results)\u001b[0m\n\u001b[1;32m    830\u001b[0m \u001b[38;5;28;01mif\u001b[39;00m \u001b[38;5;28mself\u001b[39m\u001b[38;5;241m.\u001b[39mverbose \u001b[38;5;241m>\u001b[39m \u001b[38;5;241m0\u001b[39m:\n\u001b[1;32m    831\u001b[0m     \u001b[38;5;28mprint\u001b[39m(\n\u001b[1;32m    832\u001b[0m         \u001b[38;5;124m\"\u001b[39m\u001b[38;5;124mFitting \u001b[39m\u001b[38;5;132;01m{0}\u001b[39;00m\u001b[38;5;124m folds for each of \u001b[39m\u001b[38;5;132;01m{1}\u001b[39;00m\u001b[38;5;124m candidates,\u001b[39m\u001b[38;5;124m\"\u001b[39m\n\u001b[1;32m    833\u001b[0m         \u001b[38;5;124m\"\u001b[39m\u001b[38;5;124m totalling \u001b[39m\u001b[38;5;132;01m{2}\u001b[39;00m\u001b[38;5;124m fits\u001b[39m\u001b[38;5;124m\"\u001b[39m\u001b[38;5;241m.\u001b[39mformat(\n\u001b[1;32m    834\u001b[0m             n_splits, n_candidates, n_candidates \u001b[38;5;241m*\u001b[39m n_splits\n\u001b[1;32m    835\u001b[0m         )\n\u001b[1;32m    836\u001b[0m     )\n\u001b[0;32m--> 838\u001b[0m out \u001b[38;5;241m=\u001b[39m \u001b[43mparallel\u001b[49m\u001b[43m(\u001b[49m\n\u001b[1;32m    839\u001b[0m \u001b[43m    \u001b[49m\u001b[43mdelayed\u001b[49m\u001b[43m(\u001b[49m\u001b[43m_fit_and_score\u001b[49m\u001b[43m)\u001b[49m\u001b[43m(\u001b[49m\n\u001b[1;32m    840\u001b[0m \u001b[43m        \u001b[49m\u001b[43mclone\u001b[49m\u001b[43m(\u001b[49m\u001b[43mbase_estimator\u001b[49m\u001b[43m)\u001b[49m\u001b[43m,\u001b[49m\n\u001b[1;32m    841\u001b[0m \u001b[43m        \u001b[49m\u001b[43mX\u001b[49m\u001b[43m,\u001b[49m\n\u001b[1;32m    842\u001b[0m \u001b[43m        \u001b[49m\u001b[43my\u001b[49m\u001b[43m,\u001b[49m\n\u001b[1;32m    843\u001b[0m \u001b[43m        \u001b[49m\u001b[43mtrain\u001b[49m\u001b[38;5;241;43m=\u001b[39;49m\u001b[43mtrain\u001b[49m\u001b[43m,\u001b[49m\n\u001b[1;32m    844\u001b[0m \u001b[43m        \u001b[49m\u001b[43mtest\u001b[49m\u001b[38;5;241;43m=\u001b[39;49m\u001b[43mtest\u001b[49m\u001b[43m,\u001b[49m\n\u001b[1;32m    845\u001b[0m \u001b[43m        \u001b[49m\u001b[43mparameters\u001b[49m\u001b[38;5;241;43m=\u001b[39;49m\u001b[43mparameters\u001b[49m\u001b[43m,\u001b[49m\n\u001b[1;32m    846\u001b[0m \u001b[43m        \u001b[49m\u001b[43msplit_progress\u001b[49m\u001b[38;5;241;43m=\u001b[39;49m\u001b[43m(\u001b[49m\u001b[43msplit_idx\u001b[49m\u001b[43m,\u001b[49m\u001b[43m \u001b[49m\u001b[43mn_splits\u001b[49m\u001b[43m)\u001b[49m\u001b[43m,\u001b[49m\n\u001b[1;32m    847\u001b[0m \u001b[43m        \u001b[49m\u001b[43mcandidate_progress\u001b[49m\u001b[38;5;241;43m=\u001b[39;49m\u001b[43m(\u001b[49m\u001b[43mcand_idx\u001b[49m\u001b[43m,\u001b[49m\u001b[43m \u001b[49m\u001b[43mn_candidates\u001b[49m\u001b[43m)\u001b[49m\u001b[43m,\u001b[49m\n\u001b[1;32m    848\u001b[0m \u001b[43m        \u001b[49m\u001b[38;5;241;43m*\u001b[39;49m\u001b[38;5;241;43m*\u001b[39;49m\u001b[43mfit_and_score_kwargs\u001b[49m\u001b[43m,\u001b[49m\n\u001b[1;32m    849\u001b[0m \u001b[43m    \u001b[49m\u001b[43m)\u001b[49m\n\u001b[1;32m    850\u001b[0m \u001b[43m    \u001b[49m\u001b[38;5;28;43;01mfor\u001b[39;49;00m\u001b[43m \u001b[49m\u001b[43m(\u001b[49m\u001b[43mcand_idx\u001b[49m\u001b[43m,\u001b[49m\u001b[43m \u001b[49m\u001b[43mparameters\u001b[49m\u001b[43m)\u001b[49m\u001b[43m,\u001b[49m\u001b[43m \u001b[49m\u001b[43m(\u001b[49m\u001b[43msplit_idx\u001b[49m\u001b[43m,\u001b[49m\u001b[43m \u001b[49m\u001b[43m(\u001b[49m\u001b[43mtrain\u001b[49m\u001b[43m,\u001b[49m\u001b[43m \u001b[49m\u001b[43mtest\u001b[49m\u001b[43m)\u001b[49m\u001b[43m)\u001b[49m\u001b[43m \u001b[49m\u001b[38;5;129;43;01min\u001b[39;49;00m\u001b[43m \u001b[49m\u001b[43mproduct\u001b[49m\u001b[43m(\u001b[49m\n\u001b[1;32m    851\u001b[0m \u001b[43m        \u001b[49m\u001b[38;5;28;43menumerate\u001b[39;49m\u001b[43m(\u001b[49m\u001b[43mcandidate_params\u001b[49m\u001b[43m)\u001b[49m\u001b[43m,\u001b[49m\u001b[43m \u001b[49m\u001b[38;5;28;43menumerate\u001b[39;49m\u001b[43m(\u001b[49m\u001b[43mcv\u001b[49m\u001b[38;5;241;43m.\u001b[39;49m\u001b[43msplit\u001b[49m\u001b[43m(\u001b[49m\u001b[43mX\u001b[49m\u001b[43m,\u001b[49m\u001b[43m \u001b[49m\u001b[43my\u001b[49m\u001b[43m,\u001b[49m\u001b[43m \u001b[49m\u001b[43mgroups\u001b[49m\u001b[43m)\u001b[49m\u001b[43m)\u001b[49m\n\u001b[1;32m    852\u001b[0m \u001b[43m    \u001b[49m\u001b[43m)\u001b[49m\n\u001b[1;32m    853\u001b[0m \u001b[43m\u001b[49m\u001b[43m)\u001b[49m\n\u001b[1;32m    855\u001b[0m \u001b[38;5;28;01mif\u001b[39;00m \u001b[38;5;28mlen\u001b[39m(out) \u001b[38;5;241m<\u001b[39m \u001b[38;5;241m1\u001b[39m:\n\u001b[1;32m    856\u001b[0m     \u001b[38;5;28;01mraise\u001b[39;00m \u001b[38;5;167;01mValueError\u001b[39;00m(\n\u001b[1;32m    857\u001b[0m         \u001b[38;5;124m\"\u001b[39m\u001b[38;5;124mNo fits were performed. \u001b[39m\u001b[38;5;124m\"\u001b[39m\n\u001b[1;32m    858\u001b[0m         \u001b[38;5;124m\"\u001b[39m\u001b[38;5;124mWas the CV iterator empty? \u001b[39m\u001b[38;5;124m\"\u001b[39m\n\u001b[1;32m    859\u001b[0m         \u001b[38;5;124m\"\u001b[39m\u001b[38;5;124mWere there no candidates?\u001b[39m\u001b[38;5;124m\"\u001b[39m\n\u001b[1;32m    860\u001b[0m     )\n",
      "File \u001b[0;32m~/anaconda3/lib/python3.9/site-packages/joblib/parallel.py:1043\u001b[0m, in \u001b[0;36mParallel.__call__\u001b[0;34m(self, iterable)\u001b[0m\n\u001b[1;32m   1034\u001b[0m \u001b[38;5;28;01mtry\u001b[39;00m:\n\u001b[1;32m   1035\u001b[0m     \u001b[38;5;66;03m# Only set self._iterating to True if at least a batch\u001b[39;00m\n\u001b[1;32m   1036\u001b[0m     \u001b[38;5;66;03m# was dispatched. In particular this covers the edge\u001b[39;00m\n\u001b[0;32m   (...)\u001b[0m\n\u001b[1;32m   1040\u001b[0m     \u001b[38;5;66;03m# was very quick and its callback already dispatched all the\u001b[39;00m\n\u001b[1;32m   1041\u001b[0m     \u001b[38;5;66;03m# remaining jobs.\u001b[39;00m\n\u001b[1;32m   1042\u001b[0m     \u001b[38;5;28mself\u001b[39m\u001b[38;5;241m.\u001b[39m_iterating \u001b[38;5;241m=\u001b[39m \u001b[38;5;28;01mFalse\u001b[39;00m\n\u001b[0;32m-> 1043\u001b[0m     \u001b[38;5;28;01mif\u001b[39;00m \u001b[38;5;28;43mself\u001b[39;49m\u001b[38;5;241;43m.\u001b[39;49m\u001b[43mdispatch_one_batch\u001b[49m\u001b[43m(\u001b[49m\u001b[43miterator\u001b[49m\u001b[43m)\u001b[49m:\n\u001b[1;32m   1044\u001b[0m         \u001b[38;5;28mself\u001b[39m\u001b[38;5;241m.\u001b[39m_iterating \u001b[38;5;241m=\u001b[39m \u001b[38;5;28mself\u001b[39m\u001b[38;5;241m.\u001b[39m_original_iterator \u001b[38;5;129;01mis\u001b[39;00m \u001b[38;5;129;01mnot\u001b[39;00m \u001b[38;5;28;01mNone\u001b[39;00m\n\u001b[1;32m   1046\u001b[0m     \u001b[38;5;28;01mwhile\u001b[39;00m \u001b[38;5;28mself\u001b[39m\u001b[38;5;241m.\u001b[39mdispatch_one_batch(iterator):\n",
      "File \u001b[0;32m~/anaconda3/lib/python3.9/site-packages/joblib/parallel.py:861\u001b[0m, in \u001b[0;36mParallel.dispatch_one_batch\u001b[0;34m(self, iterator)\u001b[0m\n\u001b[1;32m    859\u001b[0m     \u001b[38;5;28;01mreturn\u001b[39;00m \u001b[38;5;28;01mFalse\u001b[39;00m\n\u001b[1;32m    860\u001b[0m \u001b[38;5;28;01melse\u001b[39;00m:\n\u001b[0;32m--> 861\u001b[0m     \u001b[38;5;28;43mself\u001b[39;49m\u001b[38;5;241;43m.\u001b[39;49m\u001b[43m_dispatch\u001b[49m\u001b[43m(\u001b[49m\u001b[43mtasks\u001b[49m\u001b[43m)\u001b[49m\n\u001b[1;32m    862\u001b[0m     \u001b[38;5;28;01mreturn\u001b[39;00m \u001b[38;5;28;01mTrue\u001b[39;00m\n",
      "File \u001b[0;32m~/anaconda3/lib/python3.9/site-packages/joblib/parallel.py:779\u001b[0m, in \u001b[0;36mParallel._dispatch\u001b[0;34m(self, batch)\u001b[0m\n\u001b[1;32m    777\u001b[0m \u001b[38;5;28;01mwith\u001b[39;00m \u001b[38;5;28mself\u001b[39m\u001b[38;5;241m.\u001b[39m_lock:\n\u001b[1;32m    778\u001b[0m     job_idx \u001b[38;5;241m=\u001b[39m \u001b[38;5;28mlen\u001b[39m(\u001b[38;5;28mself\u001b[39m\u001b[38;5;241m.\u001b[39m_jobs)\n\u001b[0;32m--> 779\u001b[0m     job \u001b[38;5;241m=\u001b[39m \u001b[38;5;28;43mself\u001b[39;49m\u001b[38;5;241;43m.\u001b[39;49m\u001b[43m_backend\u001b[49m\u001b[38;5;241;43m.\u001b[39;49m\u001b[43mapply_async\u001b[49m\u001b[43m(\u001b[49m\u001b[43mbatch\u001b[49m\u001b[43m,\u001b[49m\u001b[43m \u001b[49m\u001b[43mcallback\u001b[49m\u001b[38;5;241;43m=\u001b[39;49m\u001b[43mcb\u001b[49m\u001b[43m)\u001b[49m\n\u001b[1;32m    780\u001b[0m     \u001b[38;5;66;03m# A job can complete so quickly than its callback is\u001b[39;00m\n\u001b[1;32m    781\u001b[0m     \u001b[38;5;66;03m# called before we get here, causing self._jobs to\u001b[39;00m\n\u001b[1;32m    782\u001b[0m     \u001b[38;5;66;03m# grow. To ensure correct results ordering, .insert is\u001b[39;00m\n\u001b[1;32m    783\u001b[0m     \u001b[38;5;66;03m# used (rather than .append) in the following line\u001b[39;00m\n\u001b[1;32m    784\u001b[0m     \u001b[38;5;28mself\u001b[39m\u001b[38;5;241m.\u001b[39m_jobs\u001b[38;5;241m.\u001b[39minsert(job_idx, job)\n",
      "File \u001b[0;32m~/anaconda3/lib/python3.9/site-packages/joblib/_parallel_backends.py:208\u001b[0m, in \u001b[0;36mSequentialBackend.apply_async\u001b[0;34m(self, func, callback)\u001b[0m\n\u001b[1;32m    206\u001b[0m \u001b[38;5;28;01mdef\u001b[39;00m \u001b[38;5;21mapply_async\u001b[39m(\u001b[38;5;28mself\u001b[39m, func, callback\u001b[38;5;241m=\u001b[39m\u001b[38;5;28;01mNone\u001b[39;00m):\n\u001b[1;32m    207\u001b[0m     \u001b[38;5;124;03m\"\"\"Schedule a func to be run\"\"\"\u001b[39;00m\n\u001b[0;32m--> 208\u001b[0m     result \u001b[38;5;241m=\u001b[39m \u001b[43mImmediateResult\u001b[49m\u001b[43m(\u001b[49m\u001b[43mfunc\u001b[49m\u001b[43m)\u001b[49m\n\u001b[1;32m    209\u001b[0m     \u001b[38;5;28;01mif\u001b[39;00m callback:\n\u001b[1;32m    210\u001b[0m         callback(result)\n",
      "File \u001b[0;32m~/anaconda3/lib/python3.9/site-packages/joblib/_parallel_backends.py:572\u001b[0m, in \u001b[0;36mImmediateResult.__init__\u001b[0;34m(self, batch)\u001b[0m\n\u001b[1;32m    569\u001b[0m \u001b[38;5;28;01mdef\u001b[39;00m \u001b[38;5;21m__init__\u001b[39m(\u001b[38;5;28mself\u001b[39m, batch):\n\u001b[1;32m    570\u001b[0m     \u001b[38;5;66;03m# Don't delay the application, to avoid keeping the input\u001b[39;00m\n\u001b[1;32m    571\u001b[0m     \u001b[38;5;66;03m# arguments in memory\u001b[39;00m\n\u001b[0;32m--> 572\u001b[0m     \u001b[38;5;28mself\u001b[39m\u001b[38;5;241m.\u001b[39mresults \u001b[38;5;241m=\u001b[39m \u001b[43mbatch\u001b[49m\u001b[43m(\u001b[49m\u001b[43m)\u001b[49m\n",
      "File \u001b[0;32m~/anaconda3/lib/python3.9/site-packages/joblib/parallel.py:262\u001b[0m, in \u001b[0;36mBatchedCalls.__call__\u001b[0;34m(self)\u001b[0m\n\u001b[1;32m    258\u001b[0m \u001b[38;5;28;01mdef\u001b[39;00m \u001b[38;5;21m__call__\u001b[39m(\u001b[38;5;28mself\u001b[39m):\n\u001b[1;32m    259\u001b[0m     \u001b[38;5;66;03m# Set the default nested backend to self._backend but do not set the\u001b[39;00m\n\u001b[1;32m    260\u001b[0m     \u001b[38;5;66;03m# change the default number of processes to -1\u001b[39;00m\n\u001b[1;32m    261\u001b[0m     \u001b[38;5;28;01mwith\u001b[39;00m parallel_backend(\u001b[38;5;28mself\u001b[39m\u001b[38;5;241m.\u001b[39m_backend, n_jobs\u001b[38;5;241m=\u001b[39m\u001b[38;5;28mself\u001b[39m\u001b[38;5;241m.\u001b[39m_n_jobs):\n\u001b[0;32m--> 262\u001b[0m         \u001b[38;5;28;01mreturn\u001b[39;00m [func(\u001b[38;5;241m*\u001b[39margs, \u001b[38;5;241m*\u001b[39m\u001b[38;5;241m*\u001b[39mkwargs)\n\u001b[1;32m    263\u001b[0m                 \u001b[38;5;28;01mfor\u001b[39;00m func, args, kwargs \u001b[38;5;129;01min\u001b[39;00m \u001b[38;5;28mself\u001b[39m\u001b[38;5;241m.\u001b[39mitems]\n",
      "File \u001b[0;32m~/anaconda3/lib/python3.9/site-packages/joblib/parallel.py:262\u001b[0m, in \u001b[0;36m<listcomp>\u001b[0;34m(.0)\u001b[0m\n\u001b[1;32m    258\u001b[0m \u001b[38;5;28;01mdef\u001b[39;00m \u001b[38;5;21m__call__\u001b[39m(\u001b[38;5;28mself\u001b[39m):\n\u001b[1;32m    259\u001b[0m     \u001b[38;5;66;03m# Set the default nested backend to self._backend but do not set the\u001b[39;00m\n\u001b[1;32m    260\u001b[0m     \u001b[38;5;66;03m# change the default number of processes to -1\u001b[39;00m\n\u001b[1;32m    261\u001b[0m     \u001b[38;5;28;01mwith\u001b[39;00m parallel_backend(\u001b[38;5;28mself\u001b[39m\u001b[38;5;241m.\u001b[39m_backend, n_jobs\u001b[38;5;241m=\u001b[39m\u001b[38;5;28mself\u001b[39m\u001b[38;5;241m.\u001b[39m_n_jobs):\n\u001b[0;32m--> 262\u001b[0m         \u001b[38;5;28;01mreturn\u001b[39;00m [\u001b[43mfunc\u001b[49m\u001b[43m(\u001b[49m\u001b[38;5;241;43m*\u001b[39;49m\u001b[43margs\u001b[49m\u001b[43m,\u001b[49m\u001b[43m \u001b[49m\u001b[38;5;241;43m*\u001b[39;49m\u001b[38;5;241;43m*\u001b[39;49m\u001b[43mkwargs\u001b[49m\u001b[43m)\u001b[49m\n\u001b[1;32m    263\u001b[0m                 \u001b[38;5;28;01mfor\u001b[39;00m func, args, kwargs \u001b[38;5;129;01min\u001b[39;00m \u001b[38;5;28mself\u001b[39m\u001b[38;5;241m.\u001b[39mitems]\n",
      "File \u001b[0;32m~/anaconda3/lib/python3.9/site-packages/sklearn/utils/fixes.py:216\u001b[0m, in \u001b[0;36m_FuncWrapper.__call__\u001b[0;34m(self, *args, **kwargs)\u001b[0m\n\u001b[1;32m    214\u001b[0m \u001b[38;5;28;01mdef\u001b[39;00m \u001b[38;5;21m__call__\u001b[39m(\u001b[38;5;28mself\u001b[39m, \u001b[38;5;241m*\u001b[39margs, \u001b[38;5;241m*\u001b[39m\u001b[38;5;241m*\u001b[39mkwargs):\n\u001b[1;32m    215\u001b[0m     \u001b[38;5;28;01mwith\u001b[39;00m config_context(\u001b[38;5;241m*\u001b[39m\u001b[38;5;241m*\u001b[39m\u001b[38;5;28mself\u001b[39m\u001b[38;5;241m.\u001b[39mconfig):\n\u001b[0;32m--> 216\u001b[0m         \u001b[38;5;28;01mreturn\u001b[39;00m \u001b[38;5;28;43mself\u001b[39;49m\u001b[38;5;241;43m.\u001b[39;49m\u001b[43mfunction\u001b[49m\u001b[43m(\u001b[49m\u001b[38;5;241;43m*\u001b[39;49m\u001b[43margs\u001b[49m\u001b[43m,\u001b[49m\u001b[43m \u001b[49m\u001b[38;5;241;43m*\u001b[39;49m\u001b[38;5;241;43m*\u001b[39;49m\u001b[43mkwargs\u001b[49m\u001b[43m)\u001b[49m\n",
      "File \u001b[0;32m~/anaconda3/lib/python3.9/site-packages/sklearn/model_selection/_validation.py:680\u001b[0m, in \u001b[0;36m_fit_and_score\u001b[0;34m(estimator, X, y, scorer, train, test, verbose, parameters, fit_params, return_train_score, return_parameters, return_n_test_samples, return_times, return_estimator, split_progress, candidate_progress, error_score)\u001b[0m\n\u001b[1;32m    678\u001b[0m         estimator\u001b[38;5;241m.\u001b[39mfit(X_train, \u001b[38;5;241m*\u001b[39m\u001b[38;5;241m*\u001b[39mfit_params)\n\u001b[1;32m    679\u001b[0m     \u001b[38;5;28;01melse\u001b[39;00m:\n\u001b[0;32m--> 680\u001b[0m         \u001b[43mestimator\u001b[49m\u001b[38;5;241;43m.\u001b[39;49m\u001b[43mfit\u001b[49m\u001b[43m(\u001b[49m\u001b[43mX_train\u001b[49m\u001b[43m,\u001b[49m\u001b[43m \u001b[49m\u001b[43my_train\u001b[49m\u001b[43m,\u001b[49m\u001b[43m \u001b[49m\u001b[38;5;241;43m*\u001b[39;49m\u001b[38;5;241;43m*\u001b[39;49m\u001b[43mfit_params\u001b[49m\u001b[43m)\u001b[49m\n\u001b[1;32m    682\u001b[0m \u001b[38;5;28;01mexcept\u001b[39;00m \u001b[38;5;167;01mException\u001b[39;00m:\n\u001b[1;32m    683\u001b[0m     \u001b[38;5;66;03m# Note fit time as time until error\u001b[39;00m\n\u001b[1;32m    684\u001b[0m     fit_time \u001b[38;5;241m=\u001b[39m time\u001b[38;5;241m.\u001b[39mtime() \u001b[38;5;241m-\u001b[39m start_time\n",
      "File \u001b[0;32m~/anaconda3/lib/python3.9/site-packages/sklearn/svm/_base.py:255\u001b[0m, in \u001b[0;36mBaseLibSVM.fit\u001b[0;34m(self, X, y, sample_weight)\u001b[0m\n\u001b[1;32m    252\u001b[0m     \u001b[38;5;28mprint\u001b[39m(\u001b[38;5;124m\"\u001b[39m\u001b[38;5;124m[LibSVM]\u001b[39m\u001b[38;5;124m\"\u001b[39m, end\u001b[38;5;241m=\u001b[39m\u001b[38;5;124m\"\u001b[39m\u001b[38;5;124m\"\u001b[39m)\n\u001b[1;32m    254\u001b[0m seed \u001b[38;5;241m=\u001b[39m rnd\u001b[38;5;241m.\u001b[39mrandint(np\u001b[38;5;241m.\u001b[39miinfo(\u001b[38;5;124m\"\u001b[39m\u001b[38;5;124mi\u001b[39m\u001b[38;5;124m\"\u001b[39m)\u001b[38;5;241m.\u001b[39mmax)\n\u001b[0;32m--> 255\u001b[0m \u001b[43mfit\u001b[49m\u001b[43m(\u001b[49m\u001b[43mX\u001b[49m\u001b[43m,\u001b[49m\u001b[43m \u001b[49m\u001b[43my\u001b[49m\u001b[43m,\u001b[49m\u001b[43m \u001b[49m\u001b[43msample_weight\u001b[49m\u001b[43m,\u001b[49m\u001b[43m \u001b[49m\u001b[43msolver_type\u001b[49m\u001b[43m,\u001b[49m\u001b[43m \u001b[49m\u001b[43mkernel\u001b[49m\u001b[43m,\u001b[49m\u001b[43m \u001b[49m\u001b[43mrandom_seed\u001b[49m\u001b[38;5;241;43m=\u001b[39;49m\u001b[43mseed\u001b[49m\u001b[43m)\u001b[49m\n\u001b[1;32m    256\u001b[0m \u001b[38;5;66;03m# see comment on the other call to np.iinfo in this file\u001b[39;00m\n\u001b[1;32m    258\u001b[0m \u001b[38;5;28mself\u001b[39m\u001b[38;5;241m.\u001b[39mshape_fit_ \u001b[38;5;241m=\u001b[39m X\u001b[38;5;241m.\u001b[39mshape \u001b[38;5;28;01mif\u001b[39;00m \u001b[38;5;28mhasattr\u001b[39m(X, \u001b[38;5;124m\"\u001b[39m\u001b[38;5;124mshape\u001b[39m\u001b[38;5;124m\"\u001b[39m) \u001b[38;5;28;01melse\u001b[39;00m (n_samples,)\n",
      "File \u001b[0;32m~/anaconda3/lib/python3.9/site-packages/sklearn/svm/_base.py:315\u001b[0m, in \u001b[0;36mBaseLibSVM._dense_fit\u001b[0;34m(self, X, y, sample_weight, solver_type, kernel, random_seed)\u001b[0m\n\u001b[1;32m    302\u001b[0m libsvm\u001b[38;5;241m.\u001b[39mset_verbosity_wrap(\u001b[38;5;28mself\u001b[39m\u001b[38;5;241m.\u001b[39mverbose)\n\u001b[1;32m    304\u001b[0m \u001b[38;5;66;03m# we don't pass **self.get_params() to allow subclasses to\u001b[39;00m\n\u001b[1;32m    305\u001b[0m \u001b[38;5;66;03m# add other parameters to __init__\u001b[39;00m\n\u001b[1;32m    306\u001b[0m (\n\u001b[1;32m    307\u001b[0m     \u001b[38;5;28mself\u001b[39m\u001b[38;5;241m.\u001b[39msupport_,\n\u001b[1;32m    308\u001b[0m     \u001b[38;5;28mself\u001b[39m\u001b[38;5;241m.\u001b[39msupport_vectors_,\n\u001b[1;32m    309\u001b[0m     \u001b[38;5;28mself\u001b[39m\u001b[38;5;241m.\u001b[39m_n_support,\n\u001b[1;32m    310\u001b[0m     \u001b[38;5;28mself\u001b[39m\u001b[38;5;241m.\u001b[39mdual_coef_,\n\u001b[1;32m    311\u001b[0m     \u001b[38;5;28mself\u001b[39m\u001b[38;5;241m.\u001b[39mintercept_,\n\u001b[1;32m    312\u001b[0m     \u001b[38;5;28mself\u001b[39m\u001b[38;5;241m.\u001b[39m_probA,\n\u001b[1;32m    313\u001b[0m     \u001b[38;5;28mself\u001b[39m\u001b[38;5;241m.\u001b[39m_probB,\n\u001b[1;32m    314\u001b[0m     \u001b[38;5;28mself\u001b[39m\u001b[38;5;241m.\u001b[39mfit_status_,\n\u001b[0;32m--> 315\u001b[0m ) \u001b[38;5;241m=\u001b[39m \u001b[43mlibsvm\u001b[49m\u001b[38;5;241;43m.\u001b[39;49m\u001b[43mfit\u001b[49m\u001b[43m(\u001b[49m\n\u001b[1;32m    316\u001b[0m \u001b[43m    \u001b[49m\u001b[43mX\u001b[49m\u001b[43m,\u001b[49m\n\u001b[1;32m    317\u001b[0m \u001b[43m    \u001b[49m\u001b[43my\u001b[49m\u001b[43m,\u001b[49m\n\u001b[1;32m    318\u001b[0m \u001b[43m    \u001b[49m\u001b[43msvm_type\u001b[49m\u001b[38;5;241;43m=\u001b[39;49m\u001b[43msolver_type\u001b[49m\u001b[43m,\u001b[49m\n\u001b[1;32m    319\u001b[0m \u001b[43m    \u001b[49m\u001b[43msample_weight\u001b[49m\u001b[38;5;241;43m=\u001b[39;49m\u001b[43msample_weight\u001b[49m\u001b[43m,\u001b[49m\n\u001b[1;32m    320\u001b[0m \u001b[43m    \u001b[49m\u001b[43mclass_weight\u001b[49m\u001b[38;5;241;43m=\u001b[39;49m\u001b[38;5;28;43mself\u001b[39;49m\u001b[38;5;241;43m.\u001b[39;49m\u001b[43mclass_weight_\u001b[49m\u001b[43m,\u001b[49m\n\u001b[1;32m    321\u001b[0m \u001b[43m    \u001b[49m\u001b[43mkernel\u001b[49m\u001b[38;5;241;43m=\u001b[39;49m\u001b[43mkernel\u001b[49m\u001b[43m,\u001b[49m\n\u001b[1;32m    322\u001b[0m \u001b[43m    \u001b[49m\u001b[43mC\u001b[49m\u001b[38;5;241;43m=\u001b[39;49m\u001b[38;5;28;43mself\u001b[39;49m\u001b[38;5;241;43m.\u001b[39;49m\u001b[43mC\u001b[49m\u001b[43m,\u001b[49m\n\u001b[1;32m    323\u001b[0m \u001b[43m    \u001b[49m\u001b[43mnu\u001b[49m\u001b[38;5;241;43m=\u001b[39;49m\u001b[38;5;28;43mself\u001b[39;49m\u001b[38;5;241;43m.\u001b[39;49m\u001b[43mnu\u001b[49m\u001b[43m,\u001b[49m\n\u001b[1;32m    324\u001b[0m \u001b[43m    \u001b[49m\u001b[43mprobability\u001b[49m\u001b[38;5;241;43m=\u001b[39;49m\u001b[38;5;28;43mself\u001b[39;49m\u001b[38;5;241;43m.\u001b[39;49m\u001b[43mprobability\u001b[49m\u001b[43m,\u001b[49m\n\u001b[1;32m    325\u001b[0m \u001b[43m    \u001b[49m\u001b[43mdegree\u001b[49m\u001b[38;5;241;43m=\u001b[39;49m\u001b[38;5;28;43mself\u001b[39;49m\u001b[38;5;241;43m.\u001b[39;49m\u001b[43mdegree\u001b[49m\u001b[43m,\u001b[49m\n\u001b[1;32m    326\u001b[0m \u001b[43m    \u001b[49m\u001b[43mshrinking\u001b[49m\u001b[38;5;241;43m=\u001b[39;49m\u001b[38;5;28;43mself\u001b[39;49m\u001b[38;5;241;43m.\u001b[39;49m\u001b[43mshrinking\u001b[49m\u001b[43m,\u001b[49m\n\u001b[1;32m    327\u001b[0m \u001b[43m    \u001b[49m\u001b[43mtol\u001b[49m\u001b[38;5;241;43m=\u001b[39;49m\u001b[38;5;28;43mself\u001b[39;49m\u001b[38;5;241;43m.\u001b[39;49m\u001b[43mtol\u001b[49m\u001b[43m,\u001b[49m\n\u001b[1;32m    328\u001b[0m \u001b[43m    \u001b[49m\u001b[43mcache_size\u001b[49m\u001b[38;5;241;43m=\u001b[39;49m\u001b[38;5;28;43mself\u001b[39;49m\u001b[38;5;241;43m.\u001b[39;49m\u001b[43mcache_size\u001b[49m\u001b[43m,\u001b[49m\n\u001b[1;32m    329\u001b[0m \u001b[43m    \u001b[49m\u001b[43mcoef0\u001b[49m\u001b[38;5;241;43m=\u001b[39;49m\u001b[38;5;28;43mself\u001b[39;49m\u001b[38;5;241;43m.\u001b[39;49m\u001b[43mcoef0\u001b[49m\u001b[43m,\u001b[49m\n\u001b[1;32m    330\u001b[0m \u001b[43m    \u001b[49m\u001b[43mgamma\u001b[49m\u001b[38;5;241;43m=\u001b[39;49m\u001b[38;5;28;43mself\u001b[39;49m\u001b[38;5;241;43m.\u001b[39;49m\u001b[43m_gamma\u001b[49m\u001b[43m,\u001b[49m\n\u001b[1;32m    331\u001b[0m \u001b[43m    \u001b[49m\u001b[43mepsilon\u001b[49m\u001b[38;5;241;43m=\u001b[39;49m\u001b[38;5;28;43mself\u001b[39;49m\u001b[38;5;241;43m.\u001b[39;49m\u001b[43mepsilon\u001b[49m\u001b[43m,\u001b[49m\n\u001b[1;32m    332\u001b[0m \u001b[43m    \u001b[49m\u001b[43mmax_iter\u001b[49m\u001b[38;5;241;43m=\u001b[39;49m\u001b[38;5;28;43mself\u001b[39;49m\u001b[38;5;241;43m.\u001b[39;49m\u001b[43mmax_iter\u001b[49m\u001b[43m,\u001b[49m\n\u001b[1;32m    333\u001b[0m \u001b[43m    \u001b[49m\u001b[43mrandom_seed\u001b[49m\u001b[38;5;241;43m=\u001b[39;49m\u001b[43mrandom_seed\u001b[49m\u001b[43m,\u001b[49m\n\u001b[1;32m    334\u001b[0m \u001b[43m\u001b[49m\u001b[43m)\u001b[49m\n\u001b[1;32m    336\u001b[0m \u001b[38;5;28mself\u001b[39m\u001b[38;5;241m.\u001b[39m_warn_from_fit_status()\n",
      "\u001b[0;31mKeyboardInterrupt\u001b[0m: "
     ]
    }
   ],
   "source": [
    "#careful this takes 1.5 hours! Best parameters arre printed in the following cell\n",
    "clf = SVC()\n",
    "\n",
    "param_grid = {'C': [0.1, 1, 10, 100, 1000],\n",
    "              'gamma': [1, 0.1, 0.01, 0.001, 0.0001],\n",
    "              'kernel': ['rbf']}\n",
    " \n",
    "gridrbf = GridSearchCV(SVC(), param_grid, refit = True, verbose = 3)\n",
    "\n",
    "gridrbf.fit(sub_train_train_xs.values, sub_train_train_ys.values)"
   ]
  },
  {
   "cell_type": "code",
   "execution_count": 12,
   "id": "963e451d",
   "metadata": {},
   "outputs": [
    {
     "name": "stdout",
     "output_type": "stream",
     "text": [
      "SCORE:  0.8323019801980198\n",
      "[0 1 0 ... 0 0 1]\n",
      "              precision    recall  f1-score   support\n",
      "\n",
      "           0       0.73      0.80      0.77      2767\n",
      "           1       0.89      0.85      0.87      5313\n",
      "\n",
      "    accuracy                           0.83      8080\n",
      "   macro avg       0.81      0.83      0.82      8080\n",
      "weighted avg       0.84      0.83      0.83      8080\n",
      "\n"
     ]
    }
   ],
   "source": [
    "clf = SVC(C=100,gamma=.0001,kernel='rbf', probability=True)\n",
    "#best parameters = {'C': 100, 'gamma': 0.0001, 'kernel': 'rbf'}\n",
    "\n",
    "clf.fit(sub_train_train_xs.values, sub_train_train_ys.values)\n",
    "print('SCORE: ', clf.score(sub_train_test_xs.values, sub_train_test_ys.values))\n",
    "predictions = clf.predict(sub_train_test_xs.values)\n",
    "summary = classification_report(sub_train_test_ys.values, predictions)\n",
    "print(predictions)\n",
    "print(summary)"
   ]
  },
  {
   "cell_type": "markdown",
   "id": "bda5bc74",
   "metadata": {},
   "source": [
    "# Testing on Validation Set"
   ]
  },
  {
   "cell_type": "code",
   "execution_count": 13,
   "id": "bc2752d0",
   "metadata": {},
   "outputs": [
    {
     "name": "stdout",
     "output_type": "stream",
     "text": [
      "SCORE:  0.8389851485148515\n",
      "AUC:  0.8952849074465961\n"
     ]
    },
    {
     "name": "stderr",
     "output_type": "stream",
     "text": [
      "/home/charlie/anaconda3/lib/python3.9/site-packages/sklearn/utils/validation.py:1688: FutureWarning: Feature names only support names that are all strings. Got feature names with dtypes: ['str', 'tuple']. An error will be raised in 1.2.\n",
      "  warnings.warn(\n"
     ]
    },
    {
     "name": "stdout",
     "output_type": "stream",
     "text": [
      "              precision    recall  f1-score   support\n",
      "\n",
      "           0       0.73      0.82      0.77      2686\n",
      "           1       0.90      0.85      0.88      5394\n",
      "\n",
      "    accuracy                           0.84      8080\n",
      "   macro avg       0.82      0.83      0.82      8080\n",
      "weighted avg       0.85      0.84      0.84      8080\n",
      "\n"
     ]
    }
   ],
   "source": [
    "clf.fit(train_xs.values,train_ys.values)\n",
    "\n",
    "print('SCORE: ', clf.score(val_test_xs.values, val_test_ys.values))\n",
    "\n",
    "y_pred_proba = clf.predict_proba(val_test_xs.values)[::,1]\n",
    "auc = metrics.roc_auc_score(val_test_ys.values, y_pred_proba)\n",
    "print('AUC: ', auc)\n",
    "\n",
    "predictions = clf.predict(val_test_xs)\n",
    "summary = classification_report(val_test_ys.values, predictions)\n",
    "print(summary)"
   ]
  },
  {
   "cell_type": "markdown",
   "id": "711e7e57",
   "metadata": {},
   "source": [
    "# Naive Bayes"
   ]
  },
  {
   "cell_type": "markdown",
   "id": "e6297c95",
   "metadata": {},
   "source": [
    "## Hyper Parameter Tuning"
   ]
  },
  {
   "cell_type": "code",
   "execution_count": 10,
   "id": "62babd42",
   "metadata": {},
   "outputs": [
    {
     "name": "stdout",
     "output_type": "stream",
     "text": [
      "SCORE:  0.8080445544554455\n",
      "              precision    recall  f1-score   support\n",
      "\n",
      "           0       0.71      0.74      0.72      2767\n",
      "           1       0.86      0.85      0.85      5313\n",
      "\n",
      "    accuracy                           0.81      8080\n",
      "   macro avg       0.79      0.79      0.79      8080\n",
      "weighted avg       0.81      0.81      0.81      8080\n",
      "\n"
     ]
    }
   ],
   "source": [
    "clf = naive_bayes.MultinomialNB()\n",
    "scaler = MinMaxScaler()\n",
    "scaled_xs = scaler.fit_transform(sub_train_train_xs.values)\n",
    "scaled_test_xs = scaler.fit_transform(sub_train_test_xs.values)\n",
    "clf.fit(scaled_xs, sub_train_train_ys.values)\n",
    "\n",
    "\n",
    "print('SCORE: ', clf.score(scaled_test_xs, sub_train_test_ys.values))\n",
    "\n",
    "predictions = clf.predict(scaled_test_xs)\n",
    "summary = classification_report(sub_train_test_ys.values, predictions)\n",
    "print(summary)"
   ]
  },
  {
   "cell_type": "markdown",
   "id": "7e012fd2",
   "metadata": {},
   "source": [
    "## Testing on the Validation Set"
   ]
  },
  {
   "cell_type": "code",
   "execution_count": 11,
   "id": "1bd82728",
   "metadata": {},
   "outputs": [
    {
     "name": "stdout",
     "output_type": "stream",
     "text": [
      "SCORE:  0.8131188118811881\n",
      "AUC:  0.8836412234878885\n",
      "              precision    recall  f1-score   support\n",
      "\n",
      "           0       0.70      0.76      0.73      2686\n",
      "           1       0.87      0.84      0.86      5394\n",
      "\n",
      "    accuracy                           0.81      8080\n",
      "   macro avg       0.79      0.80      0.79      8080\n",
      "weighted avg       0.82      0.81      0.81      8080\n",
      "\n"
     ]
    }
   ],
   "source": [
    "clf = naive_bayes.MultinomialNB()\n",
    "scaler = MinMaxScaler()\n",
    "scaled_xs = scaler.fit_transform(train_xs.values)\n",
    "scaled_test_xs = scaler.fit_transform(val_test_xs.values)\n",
    "\n",
    "clf.fit(scaled_xs, train_ys.values)\n",
    "\n",
    "print('SCORE: ', clf.score(scaled_test_xs, val_test_ys.values))\n",
    "\n",
    "y_pred_proba = clf.predict_proba(scaled_test_xs)[::,1]\n",
    "auc = metrics.roc_auc_score(val_test_ys.values, y_pred_proba)\n",
    "print('AUC: ', auc)\n",
    "\n",
    "predictions = clf.predict(scaled_test_xs)\n",
    "summary = classification_report(val_test_ys.values, predictions)\n",
    "print(summary)"
   ]
  },
  {
   "cell_type": "markdown",
   "id": "7e8a769a",
   "metadata": {},
   "source": [
    "# XGBoosted Random Forest"
   ]
  },
  {
   "cell_type": "markdown",
   "id": "6fa1ca49",
   "metadata": {},
   "source": [
    "## Hyper Parameter Tuning"
   ]
  },
  {
   "cell_type": "code",
   "execution_count": 61,
   "id": "5de9f665",
   "metadata": {},
   "outputs": [
    {
     "name": "stderr",
     "output_type": "stream",
     "text": [
      "/home/charlie/anaconda3/lib/python3.9/site-packages/xgboost/sklearn.py:1224: UserWarning: The use of label encoder in XGBClassifier is deprecated and will be removed in a future release. To remove this warning, do the following: 1) Pass option use_label_encoder=False when constructing XGBClassifier object; and 2) Encode your labels (y) as integers starting with 0, i.e. 0, 1, 2, ..., [num_class - 1].\n",
      "  warnings.warn(label_encoder_deprecation_msg, UserWarning)\n"
     ]
    },
    {
     "name": "stdout",
     "output_type": "stream",
     "text": [
      "[19:38:08] WARNING: ../src/learner.cc:1115: Starting in XGBoost 1.3.0, the default evaluation metric used with the objective 'binary:logistic' was changed from 'error' to 'logloss'. Explicitly set eval_metric if you'd like to restore the old behavior.\n",
      "0.8471534653465347\n",
      "              precision    recall  f1-score   support\n",
      "\n",
      "           0       0.75      0.82      0.79      2767\n",
      "           1       0.90      0.86      0.88      5313\n",
      "\n",
      "    accuracy                           0.85      8080\n",
      "   macro avg       0.83      0.84      0.83      8080\n",
      "weighted avg       0.85      0.85      0.85      8080\n",
      "\n"
     ]
    }
   ],
   "source": [
    "classifier = XGBRFClassifier(max_depth=15)\n",
    "classifier.fit(sub_train_train_xs.values, sub_train_train_ys.values)\n",
    "\n",
    "print(classifier.score(sub_train_test_xs.values, sub_train_test_ys.values))\n",
    "\n",
    "predictions = classifier.predict(sub_train_test_xs.values)\n",
    "summary = classification_report(sub_train_test_ys.values, predictions)\n",
    "print(summary)"
   ]
  },
  {
   "cell_type": "markdown",
   "id": "7a71975c",
   "metadata": {},
   "source": [
    "## Testing on the Validation Set"
   ]
  },
  {
   "cell_type": "code",
   "execution_count": 62,
   "id": "0c9abde8",
   "metadata": {},
   "outputs": [
    {
     "name": "stderr",
     "output_type": "stream",
     "text": [
      "/home/charlie/anaconda3/lib/python3.9/site-packages/xgboost/sklearn.py:1224: UserWarning: The use of label encoder in XGBClassifier is deprecated and will be removed in a future release. To remove this warning, do the following: 1) Pass option use_label_encoder=False when constructing XGBClassifier object; and 2) Encode your labels (y) as integers starting with 0, i.e. 0, 1, 2, ..., [num_class - 1].\n",
      "  warnings.warn(label_encoder_deprecation_msg, UserWarning)\n",
      "/home/charlie/anaconda3/lib/python3.9/site-packages/xgboost/data.py:250: FutureWarning: pandas.Int64Index is deprecated and will be removed from pandas in a future version. Use pandas.Index with the appropriate dtype instead.\n",
      "  elif isinstance(data.columns, (pd.Int64Index, pd.RangeIndex)):\n"
     ]
    },
    {
     "name": "stdout",
     "output_type": "stream",
     "text": [
      "[19:38:24] WARNING: ../src/learner.cc:1115: Starting in XGBoost 1.3.0, the default evaluation metric used with the objective 'binary:logistic' was changed from 'error' to 'logloss'. Explicitly set eval_metric if you'd like to restore the old behavior.\n",
      "0.849009900990099\n",
      "AUC:  0.9253083042822738\n",
      "              precision    recall  f1-score   support\n",
      "\n",
      "           0       0.74      0.83      0.79      2686\n",
      "           1       0.91      0.86      0.88      5394\n",
      "\n",
      "    accuracy                           0.85      8080\n",
      "   macro avg       0.83      0.85      0.83      8080\n",
      "weighted avg       0.86      0.85      0.85      8080\n",
      "\n"
     ]
    }
   ],
   "source": [
    "model = XGBRFClassifier(max_depth=15)\n",
    "model.fit(train_xs, train_ys)\n",
    "print(model.score(val_test_xs.values, val_test_ys.values))\n",
    "\n",
    "y_pred_proba = model.predict_proba(val_test_xs.values)[::,1]\n",
    "auc = metrics.roc_auc_score(val_test_ys.values, y_pred_proba)\n",
    "print('AUC: ', auc)\n",
    "\n",
    "predictions = model.predict(val_test_xs.values)\n",
    "summary = classification_report(val_test_ys.values, predictions)\n",
    "print(summary)"
   ]
  },
  {
   "cell_type": "markdown",
   "id": "3e5802f7",
   "metadata": {},
   "source": [
    "# The Winner"
   ]
  },
  {
   "cell_type": "code",
   "execution_count": 69,
   "id": "1ad09492",
   "metadata": {},
   "outputs": [
    {
     "name": "stderr",
     "output_type": "stream",
     "text": [
      "/home/charlie/anaconda3/lib/python3.9/site-packages/sklearn/utils/validation.py:1688: FutureWarning: Feature names only support names that are all strings. Got feature names with dtypes: ['str', 'tuple']. An error will be raised in 1.2.\n",
      "  warnings.warn(\n"
     ]
    },
    {
     "name": "stdout",
     "output_type": "stream",
     "text": [
      "SCORE:  0.8521266073194856\n",
      "AUC:  0.9276984440125813\n",
      "              precision    recall  f1-score   support\n",
      "\n",
      "           0       0.76      0.83      0.79      1377\n",
      "           1       0.91      0.87      0.89      2667\n",
      "\n",
      "    accuracy                           0.85      4044\n",
      "   macro avg       0.83      0.85      0.84      4044\n",
      "weighted avg       0.86      0.85      0.85      4044\n",
      "\n"
     ]
    }
   ],
   "source": [
    "classifier = RandomForestClassifier()\n",
    "classifier.fit(ninety_train_xs, ninety_train_ys)\n",
    "\n",
    "print('SCORE: ', classifier.score(test_xs.values, test_ys.values))\n",
    "\n",
    "y_pred_proba = classifier.predict_proba(test_xs.values)[::,1]\n",
    "auc = metrics.roc_auc_score(test_ys.values, y_pred_proba)\n",
    "print('AUC: ', auc)\n",
    "\n",
    "predictions = classifier.predict(test_xs.values)\n",
    "summary = classification_report(test_ys.values, predictions)\n",
    "print(summary)"
   ]
  },
  {
   "cell_type": "markdown",
   "id": "69e899db",
   "metadata": {},
   "source": [
    "# Experimentation with Bagging and Importance"
   ]
  },
  {
   "cell_type": "code",
   "execution_count": 75,
   "id": "648bc28e",
   "metadata": {},
   "outputs": [
    {
     "data": {
      "text/plain": [
       "<AxesSubplot:>"
      ]
     },
     "execution_count": 75,
     "metadata": {},
     "output_type": "execute_result"
    },
    {
     "data": {
      "image/png": "[encoded data removed]",
      "text/plain": [
       "<Figure size 432x288 with 1 Axes>"
      ]
     },
     "metadata": {
      "needs_background": "light"
     },
     "output_type": "display_data"
    }
   ],
   "source": [
    "importance = pd.Series(classifier.feature_importances_ * 100, index = cols)\n",
    "importance = importance.sort_values(axis=0, ascending = False)\n",
    "importance.plot(kind='barh', color='r', )"
   ]
  },
  {
   "cell_type": "code",
   "execution_count": 13,
   "id": "28ef1e97",
   "metadata": {},
   "outputs": [
    {
     "name": "stderr",
     "output_type": "stream",
     "text": [
      "/home/charlie/anaconda3/lib/python3.9/site-packages/sklearn/utils/validation.py:1688: FutureWarning: Feature names only support names that are all strings. Got feature names with dtypes: ['tuple']. An error will be raised in 1.2.\n",
      "  warnings.warn(\n"
     ]
    },
    {
     "name": "stdout",
     "output_type": "stream",
     "text": [
      "SCORE:  0.8303659742828883\n",
      "AUC:  0.9103272493988359\n",
      "              precision    recall  f1-score   support\n",
      "\n",
      "           0       0.73      0.80      0.76      1377\n",
      "           1       0.89      0.84      0.87      2667\n",
      "\n",
      "    accuracy                           0.83      4044\n",
      "   macro avg       0.81      0.82      0.82      4044\n",
      "weighted avg       0.84      0.83      0.83      4044\n",
      "\n"
     ]
    }
   ],
   "source": [
    "cols2 = [('mean', 'RelativeHumidity'), ('min', 'RelativeHumidity'), ('max', 'Temperature'), ('mean', 'SoilWaterContent'), ('count', 'Area')]\n",
    "\n",
    "classifier = RandomForestClassifier()\n",
    "classifier.fit(ninety_train_xs[cols2], ninety_train_ys)\n",
    "\n",
    "print('SCORE: ', classifier.score(test_xs[cols2].values, test_ys.values))\n",
    "\n",
    "y_pred_proba = classifier.predict_proba(test_xs[cols2].values)[::,1]\n",
    "auc = metrics.roc_auc_score(test_ys.values, y_pred_proba)\n",
    "print('AUC: ', auc)\n",
    "\n",
    "predictions = classifier.predict(test_xs[cols2].values)\n",
    "summary = classification_report(test_ys.values, predictions)\n",
    "print(summary)"
   ]
  },
  {
   "cell_type": "markdown",
   "id": "85218a0e",
   "metadata": {},
   "source": [
    "# Experimentation with LogisticGAM"
   ]
  },
  {
   "cell_type": "code",
   "execution_count": 27,
   "id": "2ed6bfd5",
   "metadata": {},
   "outputs": [
    {
     "name": "stdout",
     "output_type": "stream",
     "text": [
      "0\n",
      "SCORE:  0.5\n",
      "AUC:  0.8295454545454546\n",
      "              precision    recall  f1-score   support\n",
      "\n",
      "           0       0.35      1.00      0.52         8\n",
      "           1       1.00      0.32      0.48        22\n",
      "\n",
      "    accuracy                           0.50        30\n",
      "   macro avg       0.67      0.66      0.50        30\n",
      "weighted avg       0.83      0.50      0.49        30\n",
      "\n",
      "did not converge\n",
      "1\n",
      "SCORE:  0.7666666666666667\n",
      "AUC:  0.9316770186335405\n",
      "              precision    recall  f1-score   support\n",
      "\n",
      "           0       0.00      0.00      0.00         7\n",
      "           1       0.77      1.00      0.87        23\n",
      "\n",
      "    accuracy                           0.77        30\n",
      "   macro avg       0.38      0.50      0.43        30\n",
      "weighted avg       0.59      0.77      0.67        30\n",
      "\n"
     ]
    },
    {
     "name": "stderr",
     "output_type": "stream",
     "text": [
      "/home/charlie/anaconda3/lib/python3.9/site-packages/sklearn/metrics/_classification.py:1318: UndefinedMetricWarning: Precision and F-score are ill-defined and being set to 0.0 in labels with no predicted samples. Use `zero_division` parameter to control this behavior.\n",
      "  _warn_prf(average, modifier, msg_start, len(result))\n",
      "/home/charlie/anaconda3/lib/python3.9/site-packages/sklearn/metrics/_classification.py:1318: UndefinedMetricWarning: Precision and F-score are ill-defined and being set to 0.0 in labels with no predicted samples. Use `zero_division` parameter to control this behavior.\n",
      "  _warn_prf(average, modifier, msg_start, len(result))\n",
      "/home/charlie/anaconda3/lib/python3.9/site-packages/sklearn/metrics/_classification.py:1318: UndefinedMetricWarning: Precision and F-score are ill-defined and being set to 0.0 in labels with no predicted samples. Use `zero_division` parameter to control this behavior.\n",
      "  _warn_prf(average, modifier, msg_start, len(result))\n"
     ]
    },
    {
     "name": "stdout",
     "output_type": "stream",
     "text": [
      "2\n",
      "SCORE:  0.7666666666666667\n",
      "AUC:  0.6708074534161491\n",
      "              precision    recall  f1-score   support\n",
      "\n",
      "           0       0.00      0.00      0.00         7\n",
      "           1       0.77      1.00      0.87        23\n",
      "\n",
      "    accuracy                           0.77        30\n",
      "   macro avg       0.38      0.50      0.43        30\n",
      "weighted avg       0.59      0.77      0.67        30\n",
      "\n"
     ]
    },
    {
     "name": "stderr",
     "output_type": "stream",
     "text": [
      "/home/charlie/anaconda3/lib/python3.9/site-packages/sklearn/metrics/_classification.py:1318: UndefinedMetricWarning: Precision and F-score are ill-defined and being set to 0.0 in labels with no predicted samples. Use `zero_division` parameter to control this behavior.\n",
      "  _warn_prf(average, modifier, msg_start, len(result))\n",
      "/home/charlie/anaconda3/lib/python3.9/site-packages/sklearn/metrics/_classification.py:1318: UndefinedMetricWarning: Precision and F-score are ill-defined and being set to 0.0 in labels with no predicted samples. Use `zero_division` parameter to control this behavior.\n",
      "  _warn_prf(average, modifier, msg_start, len(result))\n",
      "/home/charlie/anaconda3/lib/python3.9/site-packages/sklearn/metrics/_classification.py:1318: UndefinedMetricWarning: Precision and F-score are ill-defined and being set to 0.0 in labels with no predicted samples. Use `zero_division` parameter to control this behavior.\n",
      "  _warn_prf(average, modifier, msg_start, len(result))\n"
     ]
    },
    {
     "name": "stdout",
     "output_type": "stream",
     "text": [
      "3\n",
      "SCORE:  0.6666666666666666\n",
      "AUC:  0.685\n",
      "              precision    recall  f1-score   support\n",
      "\n",
      "           0       0.00      0.00      0.00        10\n",
      "           1       0.67      1.00      0.80        20\n",
      "\n",
      "    accuracy                           0.67        30\n",
      "   macro avg       0.33      0.50      0.40        30\n",
      "weighted avg       0.44      0.67      0.53        30\n",
      "\n"
     ]
    },
    {
     "name": "stderr",
     "output_type": "stream",
     "text": [
      "/home/charlie/anaconda3/lib/python3.9/site-packages/sklearn/metrics/_classification.py:1318: UndefinedMetricWarning: Precision and F-score are ill-defined and being set to 0.0 in labels with no predicted samples. Use `zero_division` parameter to control this behavior.\n",
      "  _warn_prf(average, modifier, msg_start, len(result))\n",
      "/home/charlie/anaconda3/lib/python3.9/site-packages/sklearn/metrics/_classification.py:1318: UndefinedMetricWarning: Precision and F-score are ill-defined and being set to 0.0 in labels with no predicted samples. Use `zero_division` parameter to control this behavior.\n",
      "  _warn_prf(average, modifier, msg_start, len(result))\n",
      "/home/charlie/anaconda3/lib/python3.9/site-packages/sklearn/metrics/_classification.py:1318: UndefinedMetricWarning: Precision and F-score are ill-defined and being set to 0.0 in labels with no predicted samples. Use `zero_division` parameter to control this behavior.\n",
      "  _warn_prf(average, modifier, msg_start, len(result))\n"
     ]
    },
    {
     "name": "stdout",
     "output_type": "stream",
     "text": [
      "4\n",
      "SCORE:  0.8333333333333334\n",
      "AUC:  0.7569444444444444\n",
      "              precision    recall  f1-score   support\n",
      "\n",
      "           0       1.00      0.17      0.29         6\n",
      "           1       0.83      1.00      0.91        24\n",
      "\n",
      "    accuracy                           0.83        30\n",
      "   macro avg       0.91      0.58      0.60        30\n",
      "weighted avg       0.86      0.83      0.78        30\n",
      "\n",
      "5\n",
      "SCORE:  0.6666666666666666\n",
      "AUC:  0.6849999999999999\n",
      "              precision    recall  f1-score   support\n",
      "\n",
      "           0       0.00      0.00      0.00        10\n",
      "           1       0.67      1.00      0.80        20\n",
      "\n",
      "    accuracy                           0.67        30\n",
      "   macro avg       0.33      0.50      0.40        30\n",
      "weighted avg       0.44      0.67      0.53        30\n",
      "\n"
     ]
    },
    {
     "name": "stderr",
     "output_type": "stream",
     "text": [
      "/home/charlie/anaconda3/lib/python3.9/site-packages/sklearn/metrics/_classification.py:1318: UndefinedMetricWarning: Precision and F-score are ill-defined and being set to 0.0 in labels with no predicted samples. Use `zero_division` parameter to control this behavior.\n",
      "  _warn_prf(average, modifier, msg_start, len(result))\n",
      "/home/charlie/anaconda3/lib/python3.9/site-packages/sklearn/metrics/_classification.py:1318: UndefinedMetricWarning: Precision and F-score are ill-defined and being set to 0.0 in labels with no predicted samples. Use `zero_division` parameter to control this behavior.\n",
      "  _warn_prf(average, modifier, msg_start, len(result))\n",
      "/home/charlie/anaconda3/lib/python3.9/site-packages/sklearn/metrics/_classification.py:1318: UndefinedMetricWarning: Precision and F-score are ill-defined and being set to 0.0 in labels with no predicted samples. Use `zero_division` parameter to control this behavior.\n",
      "  _warn_prf(average, modifier, msg_start, len(result))\n"
     ]
    },
    {
     "name": "stdout",
     "output_type": "stream",
     "text": [
      "6\n",
      "SCORE:  0.4666666666666667\n",
      "AUC:  0.59375\n",
      "              precision    recall  f1-score   support\n",
      "\n",
      "           0       0.00      0.00      0.00        16\n",
      "           1       0.47      1.00      0.64        14\n",
      "\n",
      "    accuracy                           0.47        30\n",
      "   macro avg       0.23      0.50      0.32        30\n",
      "weighted avg       0.22      0.47      0.30        30\n",
      "\n"
     ]
    },
    {
     "name": "stderr",
     "output_type": "stream",
     "text": [
      "/home/charlie/anaconda3/lib/python3.9/site-packages/sklearn/metrics/_classification.py:1318: UndefinedMetricWarning: Precision and F-score are ill-defined and being set to 0.0 in labels with no predicted samples. Use `zero_division` parameter to control this behavior.\n",
      "  _warn_prf(average, modifier, msg_start, len(result))\n",
      "/home/charlie/anaconda3/lib/python3.9/site-packages/sklearn/metrics/_classification.py:1318: UndefinedMetricWarning: Precision and F-score are ill-defined and being set to 0.0 in labels with no predicted samples. Use `zero_division` parameter to control this behavior.\n",
      "  _warn_prf(average, modifier, msg_start, len(result))\n",
      "/home/charlie/anaconda3/lib/python3.9/site-packages/sklearn/metrics/_classification.py:1318: UndefinedMetricWarning: Precision and F-score are ill-defined and being set to 0.0 in labels with no predicted samples. Use `zero_division` parameter to control this behavior.\n",
      "  _warn_prf(average, modifier, msg_start, len(result))\n"
     ]
    },
    {
     "name": "stdout",
     "output_type": "stream",
     "text": [
      "7\n",
      "SCORE:  0.5\n",
      "AUC:  0.88\n",
      "              precision    recall  f1-score   support\n",
      "\n",
      "           0       0.00      0.00      0.00        15\n",
      "           1       0.50      1.00      0.67        15\n",
      "\n",
      "    accuracy                           0.50        30\n",
      "   macro avg       0.25      0.50      0.33        30\n",
      "weighted avg       0.25      0.50      0.33        30\n",
      "\n"
     ]
    },
    {
     "name": "stderr",
     "output_type": "stream",
     "text": [
      "/home/charlie/anaconda3/lib/python3.9/site-packages/sklearn/metrics/_classification.py:1318: UndefinedMetricWarning: Precision and F-score are ill-defined and being set to 0.0 in labels with no predicted samples. Use `zero_division` parameter to control this behavior.\n",
      "  _warn_prf(average, modifier, msg_start, len(result))\n",
      "/home/charlie/anaconda3/lib/python3.9/site-packages/sklearn/metrics/_classification.py:1318: UndefinedMetricWarning: Precision and F-score are ill-defined and being set to 0.0 in labels with no predicted samples. Use `zero_division` parameter to control this behavior.\n",
      "  _warn_prf(average, modifier, msg_start, len(result))\n",
      "/home/charlie/anaconda3/lib/python3.9/site-packages/sklearn/metrics/_classification.py:1318: UndefinedMetricWarning: Precision and F-score are ill-defined and being set to 0.0 in labels with no predicted samples. Use `zero_division` parameter to control this behavior.\n",
      "  _warn_prf(average, modifier, msg_start, len(result))\n"
     ]
    },
    {
     "name": "stdout",
     "output_type": "stream",
     "text": [
      "8\n",
      "SCORE:  0.5\n",
      "AUC:  0.8708133971291866\n",
      "              precision    recall  f1-score   support\n",
      "\n",
      "           0       0.42      1.00      0.59        11\n",
      "           1       1.00      0.21      0.35        19\n",
      "\n",
      "    accuracy                           0.50        30\n",
      "   macro avg       0.71      0.61      0.47        30\n",
      "weighted avg       0.79      0.50      0.44        30\n",
      "\n",
      "did not converge\n",
      "9\n",
      "SCORE:  0.8333333333333334\n",
      "AUC:  0.9259259259259259\n",
      "              precision    recall  f1-score   support\n",
      "\n",
      "           0       0.89      0.67      0.76        12\n",
      "           1       0.81      0.94      0.87        18\n",
      "\n",
      "    accuracy                           0.83        30\n",
      "   macro avg       0.85      0.81      0.82        30\n",
      "weighted avg       0.84      0.83      0.83        30\n",
      "\n"
     ]
    }
   ],
   "source": [
    "data = historicalWeather_pivot\n",
    "\n",
    "def month_by_month(data):\n",
    "    \n",
    "    logGAM1 = LogisticGAM()\n",
    "    \n",
    "    for i in range(10):\n",
    "        xs_train = data.iloc[0+30*i:30+30*i][cols]\n",
    "        ys_train = data.iloc[0+30*i:30+30*i]['fire01']\n",
    "\n",
    "\n",
    "        xs_test = data.iloc[60+30*i:90+30*i][cols]\n",
    "        ys_test = data.iloc[60+30*i:90+30*i]['fire01']\n",
    "\n",
    "\n",
    "        logGAM1 = LogisticGAM()\n",
    "        logGAM1.fit(xs_train, ys_train)\n",
    "        print(i)\n",
    "        print('SCORE: ', logGAM1.accuracy(xs_test, ys_test))\n",
    "\n",
    "        y_pred_proba = logGAM1.predict_proba(xs_test.values)\n",
    "        auc = metrics.roc_auc_score(ys_test, y_pred_proba)\n",
    "        print('AUC: ', auc)\n",
    "\n",
    "        predictions = logGAM1.predict(xs_test)\n",
    "        summary = classification_report(ys_test, predictions)\n",
    "        print(summary)\n",
    "        \n",
    "month_by_month(data)"
   ]
  }
 ],
 "metadata": {
  "kernelspec": {
   "display_name": "Python 3 (ipykernel)",
   "language": "python",
   "name": "python3"
  },
  "language_info": {
   "codemirror_mode": {
    "name": "ipython",
    "version": 3
   },
   "file_extension": ".py",
   "mimetype": "text/x-python",
   "name": "python",
   "nbconvert_exporter": "python",
   "pygments_lexer": "ipython3",
   "version": "3.9.7"
  }
 },
 "nbformat": 4,
 "nbformat_minor": 5
}
